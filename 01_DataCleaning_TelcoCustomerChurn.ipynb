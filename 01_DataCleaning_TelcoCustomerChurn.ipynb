{
  "nbformat": 4,
  "nbformat_minor": 0,
  "metadata": {
    "colab": {
      "name": "01_DataCleaning_TelcoCustomerChurn.ipynb",
      "provenance": [],
      "collapsed_sections": [],
      "authorship_tag": "ABX9TyOkh0wGtqJn5Vv/FXaAS0qM",
      "include_colab_link": true
    },
    "kernelspec": {
      "name": "python3",
      "display_name": "Python 3"
    },
    "language_info": {
      "name": "python"
    }
  },
  "cells": [
    {
      "cell_type": "markdown",
      "metadata": {
        "id": "view-in-github",
        "colab_type": "text"
      },
      "source": [
        "<a href=\"https://colab.research.google.com/github/camilamaestrelli/Telco-Customer-Churn/blob/main/01_DataCleaning_TelcoCustomerChurn.ipynb\" target=\"_parent\"><img src=\"https://colab.research.google.com/assets/colab-badge.svg\" alt=\"Open In Colab\"/></a>"
      ]
    },
    {
      "cell_type": "markdown",
      "source": [
        "# <font color=blue size=10> Telco Customer Churn</font>\n",
        "\n",
        "# <b><font color=BLUE size=12> Evasão de Clientes da Telco</b>\n",
        "\n",
        "***\n",
        "**Author**: [Camila Maestrelli](https://www.linkedin.com/in/camila-maestrelli-leobons/)\n",
        "***"
      ],
      "metadata": {
        "id": "Scqi0mD84luV"
      }
    },
    {
      "cell_type": "markdown",
      "source": [
        "## <b><font color=green> Etapas do Projeto:\n",
        "\n",
        "\n",
        "### <font color=green> `1. Definição do Problema`\n",
        "### <font color=green> `2. Importação dos dados`\n",
        "### <font color=green> `3. Entendimento dos dados`\n",
        "### <font color=green> `4. Limpeza dos dados (esse notebook vai até aqui)`\n",
        "\n",
        "### 5. EDA \n",
        "\n",
        "### 6. Pré-processamento\n",
        "### 7. Algoritmo e criação do modelo\n",
        "\n",
        "### 8. Interpretação do resultado e avaliação do modelo\n"
      ],
      "metadata": {
        "id": "0pPl_7F_4lVB"
      }
    },
    {
      "cell_type": "markdown",
      "source": [
        "## <font color=green> <b>1. Definição do problema </b>\n",
        "\n",
        "#### <b> Objetivo: </b>\n",
        "\n",
        "* reduzir a Taxa de Evasão de Clientes, conhecido como Churn Rate. \n",
        "<br></br>\n",
        "\n",
        "Basicamente, o Churn Rate indica o quanto a empresa perdeu de receita ou clientes em um período de tempo.\n",
        "\n",
        "Passo inicial: identificação de clientes que teriam uma maior chance de deixar a empresa. "
      ],
      "metadata": {
        "id": "LF6iZWGHyNPg"
      }
    },
    {
      "cell_type": "markdown",
      "source": [
        "## <font color=green> <b>2. Importação dos dados"
      ],
      "metadata": {
        "id": "KqdF3IHWy5d4"
      }
    },
    {
      "cell_type": "code",
      "source": [
        "import numpy as np\n",
        "import pandas as pd\n",
        "print('Versão numpy: ', np.__version__)\n",
        "print('Versão pandas: ', pd.__version__)\n"
      ],
      "metadata": {
        "id": "bsy5N0ajy_Fb",
        "colab": {
          "base_uri": "https://localhost:8080/"
        },
        "outputId": "3203dec4-e29b-4bb5-c867-27222d02e2b2"
      },
      "execution_count": 224,
      "outputs": [
        {
          "output_type": "stream",
          "name": "stdout",
          "text": [
            "Versão numpy:  1.21.6\n",
            "Versão pandas:  1.3.5\n"
          ]
        }
      ]
    },
    {
      "cell_type": "code",
      "execution_count": 225,
      "metadata": {
        "id": "H53kaaQMyPbB"
      },
      "outputs": [],
      "source": [
        "url = 'https://raw.githubusercontent.com/camilamaestrelli/Telco-Customer-Churn/main/telco_customer_churn.json'"
      ]
    },
    {
      "cell_type": "code",
      "source": [
        "df = pd.read_json(url)\n",
        "dados = df.copy()\n",
        "dados.head()"
      ],
      "metadata": {
        "id": "JNx2Qjc30dWc",
        "colab": {
          "base_uri": "https://localhost:8080/",
          "height": 337
        },
        "outputId": "34d306ab-d047-4481-b472-4e28c9f97d7a"
      },
      "execution_count": 226,
      "outputs": [
        {
          "output_type": "execute_result",
          "data": {
            "text/plain": [
              "   customerID Churn                                           customer  \\\n",
              "0  0002-ORFBO    No  {'gender': 'Female', 'SeniorCitizen': 0, 'Part...   \n",
              "1  0003-MKNFE    No  {'gender': 'Male', 'SeniorCitizen': 0, 'Partne...   \n",
              "2  0004-TLHLJ   Yes  {'gender': 'Male', 'SeniorCitizen': 0, 'Partne...   \n",
              "3  0011-IGKFF   Yes  {'gender': 'Male', 'SeniorCitizen': 1, 'Partne...   \n",
              "4  0013-EXCHZ   Yes  {'gender': 'Female', 'SeniorCitizen': 1, 'Part...   \n",
              "\n",
              "                                             phone  \\\n",
              "0   {'PhoneService': 'Yes', 'MultipleLines': 'No'}   \n",
              "1  {'PhoneService': 'Yes', 'MultipleLines': 'Yes'}   \n",
              "2   {'PhoneService': 'Yes', 'MultipleLines': 'No'}   \n",
              "3   {'PhoneService': 'Yes', 'MultipleLines': 'No'}   \n",
              "4   {'PhoneService': 'Yes', 'MultipleLines': 'No'}   \n",
              "\n",
              "                                            internet  \\\n",
              "0  {'InternetService': 'DSL', 'OnlineSecurity': '...   \n",
              "1  {'InternetService': 'DSL', 'OnlineSecurity': '...   \n",
              "2  {'InternetService': 'Fiber optic', 'OnlineSecu...   \n",
              "3  {'InternetService': 'Fiber optic', 'OnlineSecu...   \n",
              "4  {'InternetService': 'Fiber optic', 'OnlineSecu...   \n",
              "\n",
              "                                             account  \n",
              "0  {'Contract': 'One year', 'PaperlessBilling': '...  \n",
              "1  {'Contract': 'Month-to-month', 'PaperlessBilli...  \n",
              "2  {'Contract': 'Month-to-month', 'PaperlessBilli...  \n",
              "3  {'Contract': 'Month-to-month', 'PaperlessBilli...  \n",
              "4  {'Contract': 'Month-to-month', 'PaperlessBilli...  "
            ],
            "text/html": [
              "\n",
              "  <div id=\"df-9938dfe5-7049-4880-8c77-2425d71d6112\">\n",
              "    <div class=\"colab-df-container\">\n",
              "      <div>\n",
              "<style scoped>\n",
              "    .dataframe tbody tr th:only-of-type {\n",
              "        vertical-align: middle;\n",
              "    }\n",
              "\n",
              "    .dataframe tbody tr th {\n",
              "        vertical-align: top;\n",
              "    }\n",
              "\n",
              "    .dataframe thead th {\n",
              "        text-align: right;\n",
              "    }\n",
              "</style>\n",
              "<table border=\"1\" class=\"dataframe\">\n",
              "  <thead>\n",
              "    <tr style=\"text-align: right;\">\n",
              "      <th></th>\n",
              "      <th>customerID</th>\n",
              "      <th>Churn</th>\n",
              "      <th>customer</th>\n",
              "      <th>phone</th>\n",
              "      <th>internet</th>\n",
              "      <th>account</th>\n",
              "    </tr>\n",
              "  </thead>\n",
              "  <tbody>\n",
              "    <tr>\n",
              "      <th>0</th>\n",
              "      <td>0002-ORFBO</td>\n",
              "      <td>No</td>\n",
              "      <td>{'gender': 'Female', 'SeniorCitizen': 0, 'Part...</td>\n",
              "      <td>{'PhoneService': 'Yes', 'MultipleLines': 'No'}</td>\n",
              "      <td>{'InternetService': 'DSL', 'OnlineSecurity': '...</td>\n",
              "      <td>{'Contract': 'One year', 'PaperlessBilling': '...</td>\n",
              "    </tr>\n",
              "    <tr>\n",
              "      <th>1</th>\n",
              "      <td>0003-MKNFE</td>\n",
              "      <td>No</td>\n",
              "      <td>{'gender': 'Male', 'SeniorCitizen': 0, 'Partne...</td>\n",
              "      <td>{'PhoneService': 'Yes', 'MultipleLines': 'Yes'}</td>\n",
              "      <td>{'InternetService': 'DSL', 'OnlineSecurity': '...</td>\n",
              "      <td>{'Contract': 'Month-to-month', 'PaperlessBilli...</td>\n",
              "    </tr>\n",
              "    <tr>\n",
              "      <th>2</th>\n",
              "      <td>0004-TLHLJ</td>\n",
              "      <td>Yes</td>\n",
              "      <td>{'gender': 'Male', 'SeniorCitizen': 0, 'Partne...</td>\n",
              "      <td>{'PhoneService': 'Yes', 'MultipleLines': 'No'}</td>\n",
              "      <td>{'InternetService': 'Fiber optic', 'OnlineSecu...</td>\n",
              "      <td>{'Contract': 'Month-to-month', 'PaperlessBilli...</td>\n",
              "    </tr>\n",
              "    <tr>\n",
              "      <th>3</th>\n",
              "      <td>0011-IGKFF</td>\n",
              "      <td>Yes</td>\n",
              "      <td>{'gender': 'Male', 'SeniorCitizen': 1, 'Partne...</td>\n",
              "      <td>{'PhoneService': 'Yes', 'MultipleLines': 'No'}</td>\n",
              "      <td>{'InternetService': 'Fiber optic', 'OnlineSecu...</td>\n",
              "      <td>{'Contract': 'Month-to-month', 'PaperlessBilli...</td>\n",
              "    </tr>\n",
              "    <tr>\n",
              "      <th>4</th>\n",
              "      <td>0013-EXCHZ</td>\n",
              "      <td>Yes</td>\n",
              "      <td>{'gender': 'Female', 'SeniorCitizen': 1, 'Part...</td>\n",
              "      <td>{'PhoneService': 'Yes', 'MultipleLines': 'No'}</td>\n",
              "      <td>{'InternetService': 'Fiber optic', 'OnlineSecu...</td>\n",
              "      <td>{'Contract': 'Month-to-month', 'PaperlessBilli...</td>\n",
              "    </tr>\n",
              "  </tbody>\n",
              "</table>\n",
              "</div>\n",
              "      <button class=\"colab-df-convert\" onclick=\"convertToInteractive('df-9938dfe5-7049-4880-8c77-2425d71d6112')\"\n",
              "              title=\"Convert this dataframe to an interactive table.\"\n",
              "              style=\"display:none;\">\n",
              "        \n",
              "  <svg xmlns=\"http://www.w3.org/2000/svg\" height=\"24px\"viewBox=\"0 0 24 24\"\n",
              "       width=\"24px\">\n",
              "    <path d=\"M0 0h24v24H0V0z\" fill=\"none\"/>\n",
              "    <path d=\"M18.56 5.44l.94 2.06.94-2.06 2.06-.94-2.06-.94-.94-2.06-.94 2.06-2.06.94zm-11 1L8.5 8.5l.94-2.06 2.06-.94-2.06-.94L8.5 2.5l-.94 2.06-2.06.94zm10 10l.94 2.06.94-2.06 2.06-.94-2.06-.94-.94-2.06-.94 2.06-2.06.94z\"/><path d=\"M17.41 7.96l-1.37-1.37c-.4-.4-.92-.59-1.43-.59-.52 0-1.04.2-1.43.59L10.3 9.45l-7.72 7.72c-.78.78-.78 2.05 0 2.83L4 21.41c.39.39.9.59 1.41.59.51 0 1.02-.2 1.41-.59l7.78-7.78 2.81-2.81c.8-.78.8-2.07 0-2.86zM5.41 20L4 18.59l7.72-7.72 1.47 1.35L5.41 20z\"/>\n",
              "  </svg>\n",
              "      </button>\n",
              "      \n",
              "  <style>\n",
              "    .colab-df-container {\n",
              "      display:flex;\n",
              "      flex-wrap:wrap;\n",
              "      gap: 12px;\n",
              "    }\n",
              "\n",
              "    .colab-df-convert {\n",
              "      background-color: #E8F0FE;\n",
              "      border: none;\n",
              "      border-radius: 50%;\n",
              "      cursor: pointer;\n",
              "      display: none;\n",
              "      fill: #1967D2;\n",
              "      height: 32px;\n",
              "      padding: 0 0 0 0;\n",
              "      width: 32px;\n",
              "    }\n",
              "\n",
              "    .colab-df-convert:hover {\n",
              "      background-color: #E2EBFA;\n",
              "      box-shadow: 0px 1px 2px rgba(60, 64, 67, 0.3), 0px 1px 3px 1px rgba(60, 64, 67, 0.15);\n",
              "      fill: #174EA6;\n",
              "    }\n",
              "\n",
              "    [theme=dark] .colab-df-convert {\n",
              "      background-color: #3B4455;\n",
              "      fill: #D2E3FC;\n",
              "    }\n",
              "\n",
              "    [theme=dark] .colab-df-convert:hover {\n",
              "      background-color: #434B5C;\n",
              "      box-shadow: 0px 1px 3px 1px rgba(0, 0, 0, 0.15);\n",
              "      filter: drop-shadow(0px 1px 2px rgba(0, 0, 0, 0.3));\n",
              "      fill: #FFFFFF;\n",
              "    }\n",
              "  </style>\n",
              "\n",
              "      <script>\n",
              "        const buttonEl =\n",
              "          document.querySelector('#df-9938dfe5-7049-4880-8c77-2425d71d6112 button.colab-df-convert');\n",
              "        buttonEl.style.display =\n",
              "          google.colab.kernel.accessAllowed ? 'block' : 'none';\n",
              "\n",
              "        async function convertToInteractive(key) {\n",
              "          const element = document.querySelector('#df-9938dfe5-7049-4880-8c77-2425d71d6112');\n",
              "          const dataTable =\n",
              "            await google.colab.kernel.invokeFunction('convertToInteractive',\n",
              "                                                     [key], {});\n",
              "          if (!dataTable) return;\n",
              "\n",
              "          const docLinkHtml = 'Like what you see? Visit the ' +\n",
              "            '<a target=\"_blank\" href=https://colab.research.google.com/notebooks/data_table.ipynb>data table notebook</a>'\n",
              "            + ' to learn more about interactive tables.';\n",
              "          element.innerHTML = '';\n",
              "          dataTable['output_type'] = 'display_data';\n",
              "          await google.colab.output.renderOutput(dataTable, element);\n",
              "          const docLink = document.createElement('div');\n",
              "          docLink.innerHTML = docLinkHtml;\n",
              "          element.appendChild(docLink);\n",
              "        }\n",
              "      </script>\n",
              "    </div>\n",
              "  </div>\n",
              "  "
            ]
          },
          "metadata": {},
          "execution_count": 226
        }
      ]
    },
    {
      "cell_type": "markdown",
      "source": [
        "## <font color=green> <b>3. Entendimento dos dados\n"
      ],
      "metadata": {
        "id": "We-zj0aD1wA6"
      }
    },
    {
      "cell_type": "code",
      "source": [
        "dados.info()"
      ],
      "metadata": {
        "id": "lAyWru0r1Vhc",
        "colab": {
          "base_uri": "https://localhost:8080/"
        },
        "outputId": "d3c04006-3881-489d-852e-35a5cceca75f"
      },
      "execution_count": 227,
      "outputs": [
        {
          "output_type": "stream",
          "name": "stdout",
          "text": [
            "<class 'pandas.core.frame.DataFrame'>\n",
            "Int64Index: 7267 entries, 0 to 7266\n",
            "Data columns (total 6 columns):\n",
            " #   Column      Non-Null Count  Dtype \n",
            "---  ------      --------------  ----- \n",
            " 0   customerID  7267 non-null   object\n",
            " 1   Churn       7267 non-null   object\n",
            " 2   customer    7267 non-null   object\n",
            " 3   phone       7267 non-null   object\n",
            " 4   internet    7267 non-null   object\n",
            " 5   account     7267 non-null   object\n",
            "dtypes: object(6)\n",
            "memory usage: 397.4+ KB\n"
          ]
        }
      ]
    },
    {
      "cell_type": "markdown",
      "source": [
        "***\n",
        "* customerID - ID do cliente\n",
        "* Churn - se o cliente deixou a empresa ou não\n",
        "* curtomer - características do cliente\n",
        "* phone - informações do telefone do cliente\n",
        "* internet - informações da internet do cliente\n",
        "* account - informações da conta/contrato do cliente\n",
        "***"
      ],
      "metadata": {
        "id": "jvSMF7vxfXOw"
      }
    },
    {
      "cell_type": "markdown",
      "source": [
        "Nota-se que as colunas customer, phone, internet e account estão com um dicionário e precisamos transformá-las em múltiplas colunas.\n",
        "\n",
        "Para isso, será usada a função do pandas json_normalize"
      ],
      "metadata": {
        "id": "uJRQ9F4vgXfA"
      }
    },
    {
      "cell_type": "code",
      "source": [
        "dados.customer[0]"
      ],
      "metadata": {
        "id": "EO7I3T1y1sbN",
        "colab": {
          "base_uri": "https://localhost:8080/"
        },
        "outputId": "ddfa33a2-2845-4da9-f29b-4d578475fecc"
      },
      "execution_count": 228,
      "outputs": [
        {
          "output_type": "execute_result",
          "data": {
            "text/plain": [
              "{'Dependents': 'Yes',\n",
              " 'Partner': 'Yes',\n",
              " 'SeniorCitizen': 0,\n",
              " 'gender': 'Female',\n",
              " 'tenure': 9}"
            ]
          },
          "metadata": {},
          "execution_count": 228
        }
      ]
    },
    {
      "cell_type": "code",
      "source": [
        "dados_customer = pd.json_normalize(dados.customer)\n",
        "dados_customer"
      ],
      "metadata": {
        "id": "T3VEXeCl3n78",
        "colab": {
          "base_uri": "https://localhost:8080/",
          "height": 424
        },
        "outputId": "24358d24-e33d-41d6-9fa5-f5467e7bfbd8"
      },
      "execution_count": 229,
      "outputs": [
        {
          "output_type": "execute_result",
          "data": {
            "text/plain": [
              "      gender  SeniorCitizen Partner Dependents  tenure\n",
              "0     Female              0     Yes        Yes       9\n",
              "1       Male              0      No         No       9\n",
              "2       Male              0      No         No       4\n",
              "3       Male              1     Yes         No      13\n",
              "4     Female              1     Yes         No       3\n",
              "...      ...            ...     ...        ...     ...\n",
              "7262  Female              0      No         No      13\n",
              "7263    Male              0     Yes         No      22\n",
              "7264    Male              0      No         No       2\n",
              "7265    Male              0     Yes        Yes      67\n",
              "7266    Male              0     Yes        Yes      63\n",
              "\n",
              "[7267 rows x 5 columns]"
            ],
            "text/html": [
              "\n",
              "  <div id=\"df-a1c1cdc8-8c51-426a-8c29-92d0a3e588a1\">\n",
              "    <div class=\"colab-df-container\">\n",
              "      <div>\n",
              "<style scoped>\n",
              "    .dataframe tbody tr th:only-of-type {\n",
              "        vertical-align: middle;\n",
              "    }\n",
              "\n",
              "    .dataframe tbody tr th {\n",
              "        vertical-align: top;\n",
              "    }\n",
              "\n",
              "    .dataframe thead th {\n",
              "        text-align: right;\n",
              "    }\n",
              "</style>\n",
              "<table border=\"1\" class=\"dataframe\">\n",
              "  <thead>\n",
              "    <tr style=\"text-align: right;\">\n",
              "      <th></th>\n",
              "      <th>gender</th>\n",
              "      <th>SeniorCitizen</th>\n",
              "      <th>Partner</th>\n",
              "      <th>Dependents</th>\n",
              "      <th>tenure</th>\n",
              "    </tr>\n",
              "  </thead>\n",
              "  <tbody>\n",
              "    <tr>\n",
              "      <th>0</th>\n",
              "      <td>Female</td>\n",
              "      <td>0</td>\n",
              "      <td>Yes</td>\n",
              "      <td>Yes</td>\n",
              "      <td>9</td>\n",
              "    </tr>\n",
              "    <tr>\n",
              "      <th>1</th>\n",
              "      <td>Male</td>\n",
              "      <td>0</td>\n",
              "      <td>No</td>\n",
              "      <td>No</td>\n",
              "      <td>9</td>\n",
              "    </tr>\n",
              "    <tr>\n",
              "      <th>2</th>\n",
              "      <td>Male</td>\n",
              "      <td>0</td>\n",
              "      <td>No</td>\n",
              "      <td>No</td>\n",
              "      <td>4</td>\n",
              "    </tr>\n",
              "    <tr>\n",
              "      <th>3</th>\n",
              "      <td>Male</td>\n",
              "      <td>1</td>\n",
              "      <td>Yes</td>\n",
              "      <td>No</td>\n",
              "      <td>13</td>\n",
              "    </tr>\n",
              "    <tr>\n",
              "      <th>4</th>\n",
              "      <td>Female</td>\n",
              "      <td>1</td>\n",
              "      <td>Yes</td>\n",
              "      <td>No</td>\n",
              "      <td>3</td>\n",
              "    </tr>\n",
              "    <tr>\n",
              "      <th>...</th>\n",
              "      <td>...</td>\n",
              "      <td>...</td>\n",
              "      <td>...</td>\n",
              "      <td>...</td>\n",
              "      <td>...</td>\n",
              "    </tr>\n",
              "    <tr>\n",
              "      <th>7262</th>\n",
              "      <td>Female</td>\n",
              "      <td>0</td>\n",
              "      <td>No</td>\n",
              "      <td>No</td>\n",
              "      <td>13</td>\n",
              "    </tr>\n",
              "    <tr>\n",
              "      <th>7263</th>\n",
              "      <td>Male</td>\n",
              "      <td>0</td>\n",
              "      <td>Yes</td>\n",
              "      <td>No</td>\n",
              "      <td>22</td>\n",
              "    </tr>\n",
              "    <tr>\n",
              "      <th>7264</th>\n",
              "      <td>Male</td>\n",
              "      <td>0</td>\n",
              "      <td>No</td>\n",
              "      <td>No</td>\n",
              "      <td>2</td>\n",
              "    </tr>\n",
              "    <tr>\n",
              "      <th>7265</th>\n",
              "      <td>Male</td>\n",
              "      <td>0</td>\n",
              "      <td>Yes</td>\n",
              "      <td>Yes</td>\n",
              "      <td>67</td>\n",
              "    </tr>\n",
              "    <tr>\n",
              "      <th>7266</th>\n",
              "      <td>Male</td>\n",
              "      <td>0</td>\n",
              "      <td>Yes</td>\n",
              "      <td>Yes</td>\n",
              "      <td>63</td>\n",
              "    </tr>\n",
              "  </tbody>\n",
              "</table>\n",
              "<p>7267 rows × 5 columns</p>\n",
              "</div>\n",
              "      <button class=\"colab-df-convert\" onclick=\"convertToInteractive('df-a1c1cdc8-8c51-426a-8c29-92d0a3e588a1')\"\n",
              "              title=\"Convert this dataframe to an interactive table.\"\n",
              "              style=\"display:none;\">\n",
              "        \n",
              "  <svg xmlns=\"http://www.w3.org/2000/svg\" height=\"24px\"viewBox=\"0 0 24 24\"\n",
              "       width=\"24px\">\n",
              "    <path d=\"M0 0h24v24H0V0z\" fill=\"none\"/>\n",
              "    <path d=\"M18.56 5.44l.94 2.06.94-2.06 2.06-.94-2.06-.94-.94-2.06-.94 2.06-2.06.94zm-11 1L8.5 8.5l.94-2.06 2.06-.94-2.06-.94L8.5 2.5l-.94 2.06-2.06.94zm10 10l.94 2.06.94-2.06 2.06-.94-2.06-.94-.94-2.06-.94 2.06-2.06.94z\"/><path d=\"M17.41 7.96l-1.37-1.37c-.4-.4-.92-.59-1.43-.59-.52 0-1.04.2-1.43.59L10.3 9.45l-7.72 7.72c-.78.78-.78 2.05 0 2.83L4 21.41c.39.39.9.59 1.41.59.51 0 1.02-.2 1.41-.59l7.78-7.78 2.81-2.81c.8-.78.8-2.07 0-2.86zM5.41 20L4 18.59l7.72-7.72 1.47 1.35L5.41 20z\"/>\n",
              "  </svg>\n",
              "      </button>\n",
              "      \n",
              "  <style>\n",
              "    .colab-df-container {\n",
              "      display:flex;\n",
              "      flex-wrap:wrap;\n",
              "      gap: 12px;\n",
              "    }\n",
              "\n",
              "    .colab-df-convert {\n",
              "      background-color: #E8F0FE;\n",
              "      border: none;\n",
              "      border-radius: 50%;\n",
              "      cursor: pointer;\n",
              "      display: none;\n",
              "      fill: #1967D2;\n",
              "      height: 32px;\n",
              "      padding: 0 0 0 0;\n",
              "      width: 32px;\n",
              "    }\n",
              "\n",
              "    .colab-df-convert:hover {\n",
              "      background-color: #E2EBFA;\n",
              "      box-shadow: 0px 1px 2px rgba(60, 64, 67, 0.3), 0px 1px 3px 1px rgba(60, 64, 67, 0.15);\n",
              "      fill: #174EA6;\n",
              "    }\n",
              "\n",
              "    [theme=dark] .colab-df-convert {\n",
              "      background-color: #3B4455;\n",
              "      fill: #D2E3FC;\n",
              "    }\n",
              "\n",
              "    [theme=dark] .colab-df-convert:hover {\n",
              "      background-color: #434B5C;\n",
              "      box-shadow: 0px 1px 3px 1px rgba(0, 0, 0, 0.15);\n",
              "      filter: drop-shadow(0px 1px 2px rgba(0, 0, 0, 0.3));\n",
              "      fill: #FFFFFF;\n",
              "    }\n",
              "  </style>\n",
              "\n",
              "      <script>\n",
              "        const buttonEl =\n",
              "          document.querySelector('#df-a1c1cdc8-8c51-426a-8c29-92d0a3e588a1 button.colab-df-convert');\n",
              "        buttonEl.style.display =\n",
              "          google.colab.kernel.accessAllowed ? 'block' : 'none';\n",
              "\n",
              "        async function convertToInteractive(key) {\n",
              "          const element = document.querySelector('#df-a1c1cdc8-8c51-426a-8c29-92d0a3e588a1');\n",
              "          const dataTable =\n",
              "            await google.colab.kernel.invokeFunction('convertToInteractive',\n",
              "                                                     [key], {});\n",
              "          if (!dataTable) return;\n",
              "\n",
              "          const docLinkHtml = 'Like what you see? Visit the ' +\n",
              "            '<a target=\"_blank\" href=https://colab.research.google.com/notebooks/data_table.ipynb>data table notebook</a>'\n",
              "            + ' to learn more about interactive tables.';\n",
              "          element.innerHTML = '';\n",
              "          dataTable['output_type'] = 'display_data';\n",
              "          await google.colab.output.renderOutput(dataTable, element);\n",
              "          const docLink = document.createElement('div');\n",
              "          docLink.innerHTML = docLinkHtml;\n",
              "          element.appendChild(docLink);\n",
              "        }\n",
              "      </script>\n",
              "    </div>\n",
              "  </div>\n",
              "  "
            ]
          },
          "metadata": {},
          "execution_count": 229
        }
      ]
    },
    {
      "cell_type": "markdown",
      "source": [
        "### Json normalize"
      ],
      "metadata": {
        "id": "_NWaLcIG4oF0"
      }
    },
    {
      "cell_type": "code",
      "source": [
        "colunas = ['customer', 'phone', 'internet', 'account']\n",
        "\n",
        "dados = dados.join([pd.json_normalize(dados[coluna]) for coluna in colunas]\n",
        "                   ).drop(columns=colunas)\n",
        "dados.head()\n"
      ],
      "metadata": {
        "id": "US6RVtl06ZA3",
        "colab": {
          "base_uri": "https://localhost:8080/",
          "height": 340
        },
        "outputId": "ed5a0ae5-4f85-42ef-8482-98fd4f4b6d26"
      },
      "execution_count": 230,
      "outputs": [
        {
          "output_type": "execute_result",
          "data": {
            "text/plain": [
              "   customerID Churn  gender  SeniorCitizen Partner Dependents  tenure  \\\n",
              "0  0002-ORFBO    No  Female              0     Yes        Yes       9   \n",
              "1  0003-MKNFE    No    Male              0      No         No       9   \n",
              "2  0004-TLHLJ   Yes    Male              0      No         No       4   \n",
              "3  0011-IGKFF   Yes    Male              1     Yes         No      13   \n",
              "4  0013-EXCHZ   Yes  Female              1     Yes         No       3   \n",
              "\n",
              "  PhoneService MultipleLines InternetService OnlineSecurity OnlineBackup  \\\n",
              "0          Yes            No             DSL             No          Yes   \n",
              "1          Yes           Yes             DSL             No           No   \n",
              "2          Yes            No     Fiber optic             No           No   \n",
              "3          Yes            No     Fiber optic             No          Yes   \n",
              "4          Yes            No     Fiber optic             No           No   \n",
              "\n",
              "  DeviceProtection TechSupport StreamingTV StreamingMovies        Contract  \\\n",
              "0               No         Yes         Yes              No        One year   \n",
              "1               No          No          No             Yes  Month-to-month   \n",
              "2              Yes          No          No              No  Month-to-month   \n",
              "3              Yes          No         Yes             Yes  Month-to-month   \n",
              "4               No         Yes         Yes              No  Month-to-month   \n",
              "\n",
              "  PaperlessBilling     PaymentMethod  Charges.Monthly Charges.Total  \n",
              "0              Yes      Mailed check             65.6         593.3  \n",
              "1               No      Mailed check             59.9         542.4  \n",
              "2              Yes  Electronic check             73.9        280.85  \n",
              "3              Yes  Electronic check             98.0       1237.85  \n",
              "4              Yes      Mailed check             83.9         267.4  "
            ],
            "text/html": [
              "\n",
              "  <div id=\"df-c3916de4-389e-4073-b3dc-8b0697c8193a\">\n",
              "    <div class=\"colab-df-container\">\n",
              "      <div>\n",
              "<style scoped>\n",
              "    .dataframe tbody tr th:only-of-type {\n",
              "        vertical-align: middle;\n",
              "    }\n",
              "\n",
              "    .dataframe tbody tr th {\n",
              "        vertical-align: top;\n",
              "    }\n",
              "\n",
              "    .dataframe thead th {\n",
              "        text-align: right;\n",
              "    }\n",
              "</style>\n",
              "<table border=\"1\" class=\"dataframe\">\n",
              "  <thead>\n",
              "    <tr style=\"text-align: right;\">\n",
              "      <th></th>\n",
              "      <th>customerID</th>\n",
              "      <th>Churn</th>\n",
              "      <th>gender</th>\n",
              "      <th>SeniorCitizen</th>\n",
              "      <th>Partner</th>\n",
              "      <th>Dependents</th>\n",
              "      <th>tenure</th>\n",
              "      <th>PhoneService</th>\n",
              "      <th>MultipleLines</th>\n",
              "      <th>InternetService</th>\n",
              "      <th>OnlineSecurity</th>\n",
              "      <th>OnlineBackup</th>\n",
              "      <th>DeviceProtection</th>\n",
              "      <th>TechSupport</th>\n",
              "      <th>StreamingTV</th>\n",
              "      <th>StreamingMovies</th>\n",
              "      <th>Contract</th>\n",
              "      <th>PaperlessBilling</th>\n",
              "      <th>PaymentMethod</th>\n",
              "      <th>Charges.Monthly</th>\n",
              "      <th>Charges.Total</th>\n",
              "    </tr>\n",
              "  </thead>\n",
              "  <tbody>\n",
              "    <tr>\n",
              "      <th>0</th>\n",
              "      <td>0002-ORFBO</td>\n",
              "      <td>No</td>\n",
              "      <td>Female</td>\n",
              "      <td>0</td>\n",
              "      <td>Yes</td>\n",
              "      <td>Yes</td>\n",
              "      <td>9</td>\n",
              "      <td>Yes</td>\n",
              "      <td>No</td>\n",
              "      <td>DSL</td>\n",
              "      <td>No</td>\n",
              "      <td>Yes</td>\n",
              "      <td>No</td>\n",
              "      <td>Yes</td>\n",
              "      <td>Yes</td>\n",
              "      <td>No</td>\n",
              "      <td>One year</td>\n",
              "      <td>Yes</td>\n",
              "      <td>Mailed check</td>\n",
              "      <td>65.6</td>\n",
              "      <td>593.3</td>\n",
              "    </tr>\n",
              "    <tr>\n",
              "      <th>1</th>\n",
              "      <td>0003-MKNFE</td>\n",
              "      <td>No</td>\n",
              "      <td>Male</td>\n",
              "      <td>0</td>\n",
              "      <td>No</td>\n",
              "      <td>No</td>\n",
              "      <td>9</td>\n",
              "      <td>Yes</td>\n",
              "      <td>Yes</td>\n",
              "      <td>DSL</td>\n",
              "      <td>No</td>\n",
              "      <td>No</td>\n",
              "      <td>No</td>\n",
              "      <td>No</td>\n",
              "      <td>No</td>\n",
              "      <td>Yes</td>\n",
              "      <td>Month-to-month</td>\n",
              "      <td>No</td>\n",
              "      <td>Mailed check</td>\n",
              "      <td>59.9</td>\n",
              "      <td>542.4</td>\n",
              "    </tr>\n",
              "    <tr>\n",
              "      <th>2</th>\n",
              "      <td>0004-TLHLJ</td>\n",
              "      <td>Yes</td>\n",
              "      <td>Male</td>\n",
              "      <td>0</td>\n",
              "      <td>No</td>\n",
              "      <td>No</td>\n",
              "      <td>4</td>\n",
              "      <td>Yes</td>\n",
              "      <td>No</td>\n",
              "      <td>Fiber optic</td>\n",
              "      <td>No</td>\n",
              "      <td>No</td>\n",
              "      <td>Yes</td>\n",
              "      <td>No</td>\n",
              "      <td>No</td>\n",
              "      <td>No</td>\n",
              "      <td>Month-to-month</td>\n",
              "      <td>Yes</td>\n",
              "      <td>Electronic check</td>\n",
              "      <td>73.9</td>\n",
              "      <td>280.85</td>\n",
              "    </tr>\n",
              "    <tr>\n",
              "      <th>3</th>\n",
              "      <td>0011-IGKFF</td>\n",
              "      <td>Yes</td>\n",
              "      <td>Male</td>\n",
              "      <td>1</td>\n",
              "      <td>Yes</td>\n",
              "      <td>No</td>\n",
              "      <td>13</td>\n",
              "      <td>Yes</td>\n",
              "      <td>No</td>\n",
              "      <td>Fiber optic</td>\n",
              "      <td>No</td>\n",
              "      <td>Yes</td>\n",
              "      <td>Yes</td>\n",
              "      <td>No</td>\n",
              "      <td>Yes</td>\n",
              "      <td>Yes</td>\n",
              "      <td>Month-to-month</td>\n",
              "      <td>Yes</td>\n",
              "      <td>Electronic check</td>\n",
              "      <td>98.0</td>\n",
              "      <td>1237.85</td>\n",
              "    </tr>\n",
              "    <tr>\n",
              "      <th>4</th>\n",
              "      <td>0013-EXCHZ</td>\n",
              "      <td>Yes</td>\n",
              "      <td>Female</td>\n",
              "      <td>1</td>\n",
              "      <td>Yes</td>\n",
              "      <td>No</td>\n",
              "      <td>3</td>\n",
              "      <td>Yes</td>\n",
              "      <td>No</td>\n",
              "      <td>Fiber optic</td>\n",
              "      <td>No</td>\n",
              "      <td>No</td>\n",
              "      <td>No</td>\n",
              "      <td>Yes</td>\n",
              "      <td>Yes</td>\n",
              "      <td>No</td>\n",
              "      <td>Month-to-month</td>\n",
              "      <td>Yes</td>\n",
              "      <td>Mailed check</td>\n",
              "      <td>83.9</td>\n",
              "      <td>267.4</td>\n",
              "    </tr>\n",
              "  </tbody>\n",
              "</table>\n",
              "</div>\n",
              "      <button class=\"colab-df-convert\" onclick=\"convertToInteractive('df-c3916de4-389e-4073-b3dc-8b0697c8193a')\"\n",
              "              title=\"Convert this dataframe to an interactive table.\"\n",
              "              style=\"display:none;\">\n",
              "        \n",
              "  <svg xmlns=\"http://www.w3.org/2000/svg\" height=\"24px\"viewBox=\"0 0 24 24\"\n",
              "       width=\"24px\">\n",
              "    <path d=\"M0 0h24v24H0V0z\" fill=\"none\"/>\n",
              "    <path d=\"M18.56 5.44l.94 2.06.94-2.06 2.06-.94-2.06-.94-.94-2.06-.94 2.06-2.06.94zm-11 1L8.5 8.5l.94-2.06 2.06-.94-2.06-.94L8.5 2.5l-.94 2.06-2.06.94zm10 10l.94 2.06.94-2.06 2.06-.94-2.06-.94-.94-2.06-.94 2.06-2.06.94z\"/><path d=\"M17.41 7.96l-1.37-1.37c-.4-.4-.92-.59-1.43-.59-.52 0-1.04.2-1.43.59L10.3 9.45l-7.72 7.72c-.78.78-.78 2.05 0 2.83L4 21.41c.39.39.9.59 1.41.59.51 0 1.02-.2 1.41-.59l7.78-7.78 2.81-2.81c.8-.78.8-2.07 0-2.86zM5.41 20L4 18.59l7.72-7.72 1.47 1.35L5.41 20z\"/>\n",
              "  </svg>\n",
              "      </button>\n",
              "      \n",
              "  <style>\n",
              "    .colab-df-container {\n",
              "      display:flex;\n",
              "      flex-wrap:wrap;\n",
              "      gap: 12px;\n",
              "    }\n",
              "\n",
              "    .colab-df-convert {\n",
              "      background-color: #E8F0FE;\n",
              "      border: none;\n",
              "      border-radius: 50%;\n",
              "      cursor: pointer;\n",
              "      display: none;\n",
              "      fill: #1967D2;\n",
              "      height: 32px;\n",
              "      padding: 0 0 0 0;\n",
              "      width: 32px;\n",
              "    }\n",
              "\n",
              "    .colab-df-convert:hover {\n",
              "      background-color: #E2EBFA;\n",
              "      box-shadow: 0px 1px 2px rgba(60, 64, 67, 0.3), 0px 1px 3px 1px rgba(60, 64, 67, 0.15);\n",
              "      fill: #174EA6;\n",
              "    }\n",
              "\n",
              "    [theme=dark] .colab-df-convert {\n",
              "      background-color: #3B4455;\n",
              "      fill: #D2E3FC;\n",
              "    }\n",
              "\n",
              "    [theme=dark] .colab-df-convert:hover {\n",
              "      background-color: #434B5C;\n",
              "      box-shadow: 0px 1px 3px 1px rgba(0, 0, 0, 0.15);\n",
              "      filter: drop-shadow(0px 1px 2px rgba(0, 0, 0, 0.3));\n",
              "      fill: #FFFFFF;\n",
              "    }\n",
              "  </style>\n",
              "\n",
              "      <script>\n",
              "        const buttonEl =\n",
              "          document.querySelector('#df-c3916de4-389e-4073-b3dc-8b0697c8193a button.colab-df-convert');\n",
              "        buttonEl.style.display =\n",
              "          google.colab.kernel.accessAllowed ? 'block' : 'none';\n",
              "\n",
              "        async function convertToInteractive(key) {\n",
              "          const element = document.querySelector('#df-c3916de4-389e-4073-b3dc-8b0697c8193a');\n",
              "          const dataTable =\n",
              "            await google.colab.kernel.invokeFunction('convertToInteractive',\n",
              "                                                     [key], {});\n",
              "          if (!dataTable) return;\n",
              "\n",
              "          const docLinkHtml = 'Like what you see? Visit the ' +\n",
              "            '<a target=\"_blank\" href=https://colab.research.google.com/notebooks/data_table.ipynb>data table notebook</a>'\n",
              "            + ' to learn more about interactive tables.';\n",
              "          element.innerHTML = '';\n",
              "          dataTable['output_type'] = 'display_data';\n",
              "          await google.colab.output.renderOutput(dataTable, element);\n",
              "          const docLink = document.createElement('div');\n",
              "          docLink.innerHTML = docLinkHtml;\n",
              "          element.appendChild(docLink);\n",
              "        }\n",
              "      </script>\n",
              "    </div>\n",
              "  </div>\n",
              "  "
            ]
          },
          "metadata": {},
          "execution_count": 230
        }
      ]
    },
    {
      "cell_type": "code",
      "source": [
        "dados.customerID.nunique()"
      ],
      "metadata": {
        "id": "pvdMyiSIk9al",
        "colab": {
          "base_uri": "https://localhost:8080/"
        },
        "outputId": "575f386e-7e8e-4d7a-b1f4-68bf032ea83a"
      },
      "execution_count": 231,
      "outputs": [
        {
          "output_type": "execute_result",
          "data": {
            "text/plain": [
              "7267"
            ]
          },
          "metadata": {},
          "execution_count": 231
        }
      ]
    },
    {
      "cell_type": "code",
      "source": [
        "linha, coluna = dados.shape\n",
        "print(f'O dataset contém informações de {linha} clientes e {coluna} variáveis.')"
      ],
      "metadata": {
        "id": "Y8gWB-Q5E9ct",
        "colab": {
          "base_uri": "https://localhost:8080/"
        },
        "outputId": "c2809889-0e2b-4ac4-cbe1-83feadc502ee"
      },
      "execution_count": 232,
      "outputs": [
        {
          "output_type": "stream",
          "name": "stdout",
          "text": [
            "O dataset contém informações de 7267 clientes e 21 variáveis.\n"
          ]
        }
      ]
    },
    {
      "cell_type": "code",
      "source": [
        "dados.columns"
      ],
      "metadata": {
        "id": "Bq4MVCFVFjjn",
        "colab": {
          "base_uri": "https://localhost:8080/"
        },
        "outputId": "e2229c47-a457-4d3f-8ff2-315c2d242ed0"
      },
      "execution_count": 233,
      "outputs": [
        {
          "output_type": "execute_result",
          "data": {
            "text/plain": [
              "Index(['customerID', 'Churn', 'gender', 'SeniorCitizen', 'Partner',\n",
              "       'Dependents', 'tenure', 'PhoneService', 'MultipleLines',\n",
              "       'InternetService', 'OnlineSecurity', 'OnlineBackup', 'DeviceProtection',\n",
              "       'TechSupport', 'StreamingTV', 'StreamingMovies', 'Contract',\n",
              "       'PaperlessBilling', 'PaymentMethod', 'Charges.Monthly',\n",
              "       'Charges.Total'],\n",
              "      dtype='object')"
            ]
          },
          "metadata": {},
          "execution_count": 233
        }
      ]
    },
    {
      "cell_type": "code",
      "source": [
        "pd.options.display.max_columns = 21"
      ],
      "metadata": {
        "id": "eKvGnIJAMx1-"
      },
      "execution_count": 234,
      "outputs": []
    },
    {
      "cell_type": "code",
      "source": [
        "dados.head()"
      ],
      "metadata": {
        "id": "uuSyYX2hG49O",
        "colab": {
          "base_uri": "https://localhost:8080/",
          "height": 340
        },
        "outputId": "47fd84fc-1fd2-4f7b-9dd5-ee24e988f51c"
      },
      "execution_count": 235,
      "outputs": [
        {
          "output_type": "execute_result",
          "data": {
            "text/plain": [
              "   customerID Churn  gender  SeniorCitizen Partner Dependents  tenure  \\\n",
              "0  0002-ORFBO    No  Female              0     Yes        Yes       9   \n",
              "1  0003-MKNFE    No    Male              0      No         No       9   \n",
              "2  0004-TLHLJ   Yes    Male              0      No         No       4   \n",
              "3  0011-IGKFF   Yes    Male              1     Yes         No      13   \n",
              "4  0013-EXCHZ   Yes  Female              1     Yes         No       3   \n",
              "\n",
              "  PhoneService MultipleLines InternetService OnlineSecurity OnlineBackup  \\\n",
              "0          Yes            No             DSL             No          Yes   \n",
              "1          Yes           Yes             DSL             No           No   \n",
              "2          Yes            No     Fiber optic             No           No   \n",
              "3          Yes            No     Fiber optic             No          Yes   \n",
              "4          Yes            No     Fiber optic             No           No   \n",
              "\n",
              "  DeviceProtection TechSupport StreamingTV StreamingMovies        Contract  \\\n",
              "0               No         Yes         Yes              No        One year   \n",
              "1               No          No          No             Yes  Month-to-month   \n",
              "2              Yes          No          No              No  Month-to-month   \n",
              "3              Yes          No         Yes             Yes  Month-to-month   \n",
              "4               No         Yes         Yes              No  Month-to-month   \n",
              "\n",
              "  PaperlessBilling     PaymentMethod  Charges.Monthly Charges.Total  \n",
              "0              Yes      Mailed check             65.6         593.3  \n",
              "1               No      Mailed check             59.9         542.4  \n",
              "2              Yes  Electronic check             73.9        280.85  \n",
              "3              Yes  Electronic check             98.0       1237.85  \n",
              "4              Yes      Mailed check             83.9         267.4  "
            ],
            "text/html": [
              "\n",
              "  <div id=\"df-eb18f7ac-3377-4414-8820-99cd7d9d6bf4\">\n",
              "    <div class=\"colab-df-container\">\n",
              "      <div>\n",
              "<style scoped>\n",
              "    .dataframe tbody tr th:only-of-type {\n",
              "        vertical-align: middle;\n",
              "    }\n",
              "\n",
              "    .dataframe tbody tr th {\n",
              "        vertical-align: top;\n",
              "    }\n",
              "\n",
              "    .dataframe thead th {\n",
              "        text-align: right;\n",
              "    }\n",
              "</style>\n",
              "<table border=\"1\" class=\"dataframe\">\n",
              "  <thead>\n",
              "    <tr style=\"text-align: right;\">\n",
              "      <th></th>\n",
              "      <th>customerID</th>\n",
              "      <th>Churn</th>\n",
              "      <th>gender</th>\n",
              "      <th>SeniorCitizen</th>\n",
              "      <th>Partner</th>\n",
              "      <th>Dependents</th>\n",
              "      <th>tenure</th>\n",
              "      <th>PhoneService</th>\n",
              "      <th>MultipleLines</th>\n",
              "      <th>InternetService</th>\n",
              "      <th>OnlineSecurity</th>\n",
              "      <th>OnlineBackup</th>\n",
              "      <th>DeviceProtection</th>\n",
              "      <th>TechSupport</th>\n",
              "      <th>StreamingTV</th>\n",
              "      <th>StreamingMovies</th>\n",
              "      <th>Contract</th>\n",
              "      <th>PaperlessBilling</th>\n",
              "      <th>PaymentMethod</th>\n",
              "      <th>Charges.Monthly</th>\n",
              "      <th>Charges.Total</th>\n",
              "    </tr>\n",
              "  </thead>\n",
              "  <tbody>\n",
              "    <tr>\n",
              "      <th>0</th>\n",
              "      <td>0002-ORFBO</td>\n",
              "      <td>No</td>\n",
              "      <td>Female</td>\n",
              "      <td>0</td>\n",
              "      <td>Yes</td>\n",
              "      <td>Yes</td>\n",
              "      <td>9</td>\n",
              "      <td>Yes</td>\n",
              "      <td>No</td>\n",
              "      <td>DSL</td>\n",
              "      <td>No</td>\n",
              "      <td>Yes</td>\n",
              "      <td>No</td>\n",
              "      <td>Yes</td>\n",
              "      <td>Yes</td>\n",
              "      <td>No</td>\n",
              "      <td>One year</td>\n",
              "      <td>Yes</td>\n",
              "      <td>Mailed check</td>\n",
              "      <td>65.6</td>\n",
              "      <td>593.3</td>\n",
              "    </tr>\n",
              "    <tr>\n",
              "      <th>1</th>\n",
              "      <td>0003-MKNFE</td>\n",
              "      <td>No</td>\n",
              "      <td>Male</td>\n",
              "      <td>0</td>\n",
              "      <td>No</td>\n",
              "      <td>No</td>\n",
              "      <td>9</td>\n",
              "      <td>Yes</td>\n",
              "      <td>Yes</td>\n",
              "      <td>DSL</td>\n",
              "      <td>No</td>\n",
              "      <td>No</td>\n",
              "      <td>No</td>\n",
              "      <td>No</td>\n",
              "      <td>No</td>\n",
              "      <td>Yes</td>\n",
              "      <td>Month-to-month</td>\n",
              "      <td>No</td>\n",
              "      <td>Mailed check</td>\n",
              "      <td>59.9</td>\n",
              "      <td>542.4</td>\n",
              "    </tr>\n",
              "    <tr>\n",
              "      <th>2</th>\n",
              "      <td>0004-TLHLJ</td>\n",
              "      <td>Yes</td>\n",
              "      <td>Male</td>\n",
              "      <td>0</td>\n",
              "      <td>No</td>\n",
              "      <td>No</td>\n",
              "      <td>4</td>\n",
              "      <td>Yes</td>\n",
              "      <td>No</td>\n",
              "      <td>Fiber optic</td>\n",
              "      <td>No</td>\n",
              "      <td>No</td>\n",
              "      <td>Yes</td>\n",
              "      <td>No</td>\n",
              "      <td>No</td>\n",
              "      <td>No</td>\n",
              "      <td>Month-to-month</td>\n",
              "      <td>Yes</td>\n",
              "      <td>Electronic check</td>\n",
              "      <td>73.9</td>\n",
              "      <td>280.85</td>\n",
              "    </tr>\n",
              "    <tr>\n",
              "      <th>3</th>\n",
              "      <td>0011-IGKFF</td>\n",
              "      <td>Yes</td>\n",
              "      <td>Male</td>\n",
              "      <td>1</td>\n",
              "      <td>Yes</td>\n",
              "      <td>No</td>\n",
              "      <td>13</td>\n",
              "      <td>Yes</td>\n",
              "      <td>No</td>\n",
              "      <td>Fiber optic</td>\n",
              "      <td>No</td>\n",
              "      <td>Yes</td>\n",
              "      <td>Yes</td>\n",
              "      <td>No</td>\n",
              "      <td>Yes</td>\n",
              "      <td>Yes</td>\n",
              "      <td>Month-to-month</td>\n",
              "      <td>Yes</td>\n",
              "      <td>Electronic check</td>\n",
              "      <td>98.0</td>\n",
              "      <td>1237.85</td>\n",
              "    </tr>\n",
              "    <tr>\n",
              "      <th>4</th>\n",
              "      <td>0013-EXCHZ</td>\n",
              "      <td>Yes</td>\n",
              "      <td>Female</td>\n",
              "      <td>1</td>\n",
              "      <td>Yes</td>\n",
              "      <td>No</td>\n",
              "      <td>3</td>\n",
              "      <td>Yes</td>\n",
              "      <td>No</td>\n",
              "      <td>Fiber optic</td>\n",
              "      <td>No</td>\n",
              "      <td>No</td>\n",
              "      <td>No</td>\n",
              "      <td>Yes</td>\n",
              "      <td>Yes</td>\n",
              "      <td>No</td>\n",
              "      <td>Month-to-month</td>\n",
              "      <td>Yes</td>\n",
              "      <td>Mailed check</td>\n",
              "      <td>83.9</td>\n",
              "      <td>267.4</td>\n",
              "    </tr>\n",
              "  </tbody>\n",
              "</table>\n",
              "</div>\n",
              "      <button class=\"colab-df-convert\" onclick=\"convertToInteractive('df-eb18f7ac-3377-4414-8820-99cd7d9d6bf4')\"\n",
              "              title=\"Convert this dataframe to an interactive table.\"\n",
              "              style=\"display:none;\">\n",
              "        \n",
              "  <svg xmlns=\"http://www.w3.org/2000/svg\" height=\"24px\"viewBox=\"0 0 24 24\"\n",
              "       width=\"24px\">\n",
              "    <path d=\"M0 0h24v24H0V0z\" fill=\"none\"/>\n",
              "    <path d=\"M18.56 5.44l.94 2.06.94-2.06 2.06-.94-2.06-.94-.94-2.06-.94 2.06-2.06.94zm-11 1L8.5 8.5l.94-2.06 2.06-.94-2.06-.94L8.5 2.5l-.94 2.06-2.06.94zm10 10l.94 2.06.94-2.06 2.06-.94-2.06-.94-.94-2.06-.94 2.06-2.06.94z\"/><path d=\"M17.41 7.96l-1.37-1.37c-.4-.4-.92-.59-1.43-.59-.52 0-1.04.2-1.43.59L10.3 9.45l-7.72 7.72c-.78.78-.78 2.05 0 2.83L4 21.41c.39.39.9.59 1.41.59.51 0 1.02-.2 1.41-.59l7.78-7.78 2.81-2.81c.8-.78.8-2.07 0-2.86zM5.41 20L4 18.59l7.72-7.72 1.47 1.35L5.41 20z\"/>\n",
              "  </svg>\n",
              "      </button>\n",
              "      \n",
              "  <style>\n",
              "    .colab-df-container {\n",
              "      display:flex;\n",
              "      flex-wrap:wrap;\n",
              "      gap: 12px;\n",
              "    }\n",
              "\n",
              "    .colab-df-convert {\n",
              "      background-color: #E8F0FE;\n",
              "      border: none;\n",
              "      border-radius: 50%;\n",
              "      cursor: pointer;\n",
              "      display: none;\n",
              "      fill: #1967D2;\n",
              "      height: 32px;\n",
              "      padding: 0 0 0 0;\n",
              "      width: 32px;\n",
              "    }\n",
              "\n",
              "    .colab-df-convert:hover {\n",
              "      background-color: #E2EBFA;\n",
              "      box-shadow: 0px 1px 2px rgba(60, 64, 67, 0.3), 0px 1px 3px 1px rgba(60, 64, 67, 0.15);\n",
              "      fill: #174EA6;\n",
              "    }\n",
              "\n",
              "    [theme=dark] .colab-df-convert {\n",
              "      background-color: #3B4455;\n",
              "      fill: #D2E3FC;\n",
              "    }\n",
              "\n",
              "    [theme=dark] .colab-df-convert:hover {\n",
              "      background-color: #434B5C;\n",
              "      box-shadow: 0px 1px 3px 1px rgba(0, 0, 0, 0.15);\n",
              "      filter: drop-shadow(0px 1px 2px rgba(0, 0, 0, 0.3));\n",
              "      fill: #FFFFFF;\n",
              "    }\n",
              "  </style>\n",
              "\n",
              "      <script>\n",
              "        const buttonEl =\n",
              "          document.querySelector('#df-eb18f7ac-3377-4414-8820-99cd7d9d6bf4 button.colab-df-convert');\n",
              "        buttonEl.style.display =\n",
              "          google.colab.kernel.accessAllowed ? 'block' : 'none';\n",
              "\n",
              "        async function convertToInteractive(key) {\n",
              "          const element = document.querySelector('#df-eb18f7ac-3377-4414-8820-99cd7d9d6bf4');\n",
              "          const dataTable =\n",
              "            await google.colab.kernel.invokeFunction('convertToInteractive',\n",
              "                                                     [key], {});\n",
              "          if (!dataTable) return;\n",
              "\n",
              "          const docLinkHtml = 'Like what you see? Visit the ' +\n",
              "            '<a target=\"_blank\" href=https://colab.research.google.com/notebooks/data_table.ipynb>data table notebook</a>'\n",
              "            + ' to learn more about interactive tables.';\n",
              "          element.innerHTML = '';\n",
              "          dataTable['output_type'] = 'display_data';\n",
              "          await google.colab.output.renderOutput(dataTable, element);\n",
              "          const docLink = document.createElement('div');\n",
              "          docLink.innerHTML = docLinkHtml;\n",
              "          element.appendChild(docLink);\n",
              "        }\n",
              "      </script>\n",
              "    </div>\n",
              "  </div>\n",
              "  "
            ]
          },
          "metadata": {},
          "execution_count": 235
        }
      ]
    },
    {
      "cell_type": "markdown",
      "source": [
        "### Renomeando colunas\n",
        "\n",
        "* Dicionário de dados\n",
        "\n",
        "|Coluna|Coluna Renomeada| Descrição|\n",
        "|---|---|---|\n",
        "|customerID|id_cliente|número de identificação único de cada cliente|\n",
        "|Churn|churn|se o cliente deixou ou não a empresa|\n",
        "|gender|genero|gênero (masculino e feminino)|\n",
        "|SeniorCitizen|idoso|informação sobre um cliente ter ou não idade igual ou maior que 65 anos|\n",
        "|Partner|parceirx| se o cliente possui ou não um parceiro ou parceira|\n",
        "|Dependents|dependentes|se o cliente possui ou não dependentes|\n",
        "|tenure|tempo_permanencia|meses de contrato do cliente|\n",
        "|PhoneService|servico_telefone|assinatura de serviço telefônico|\n",
        "|MultipleLines|multiplas_linhas|assisnatura de mais de uma linha de telefone|\n",
        "|InternetService| servico_internet|assinatura de um provedor internet|\n",
        "|OnlineSecurity|seguranca_online|assinatura adicional de segurança online|\n",
        "|OnlineBackup|backup_online|assinatura adicional de backup online|\n",
        "|DeviceProtection|protecao_dispositivo|assinatura adicional de proteção no dispositivo|\n",
        "|TechSupport|suporte_tecnico|assinatura adicional de suporte técnico, menos tempo de espera|\n",
        "|StreamingTV|assinatura_tv|assinatura de TV a cabo|\n",
        "|StreamingMovies|assinatura_filmes|assinatura de streaming de filmes|\n",
        "|Contract|contrato|tipo de contrato|\n",
        "|PaperlessBilling|fatura_digital|se o cliente prefere receber online a fatura|\n",
        "|PaymentMethod|metodo_pagamento|forma de pagamento|\n",
        "|Charges.Monthly|mensalidade|total de todos os serviços do cliente por mês|\n",
        "|Charges.Total|cobrancas_total|total gasto pelo cliente|\n",
        "\n"
      ],
      "metadata": {
        "id": "kh1n0Me235oY"
      }
    },
    {
      "cell_type": "code",
      "source": [
        "colunas_renomeadas = {'customerID':'id_cliente', \n",
        "                      'Churn':'churn', \n",
        "                      'gender':'genero', \n",
        "                      'SeniorCitizen':'idoso', \n",
        "                      'Partner':'parceirx', \n",
        "                      'Dependents':'dependentes', \n",
        "                      'tenure':'tempo_permanencia',\n",
        "                      'PhoneService':'servico_telefone', \n",
        "                      'MultipleLines':'multiplas_linhas', \n",
        "                      'InternetService':'servico_internet', \n",
        "                      'OnlineSecurity':'seguranca_online', \n",
        "                      'OnlineBackup':'backup_online', \n",
        "                      'DeviceProtection': 'protecao_dispositivo', \n",
        "                      'TechSupport':'suporte_tecnico', \n",
        "                      'StreamingTV':'assinatura_tv', \n",
        "                      'StreamingMovies':'assinatura_filmes', \n",
        "                      'Contract':'contrato', \n",
        "                      'PaperlessBilling':'fatura_digital', \n",
        "                      'PaymentMethod':'metodo_pagamento',\n",
        "                      'Charges.Monthly':'mensalidade', \n",
        "                      'Charges.Total':'cobrancas_total'}"
      ],
      "metadata": {
        "id": "FFeWRb3sFr8h"
      },
      "execution_count": 236,
      "outputs": []
    },
    {
      "cell_type": "code",
      "source": [
        "dados.rename(columns=colunas_renomeadas, inplace=True)"
      ],
      "metadata": {
        "id": "KUH3Gd4CFr42"
      },
      "execution_count": 237,
      "outputs": []
    },
    {
      "cell_type": "code",
      "source": [
        "dados.head()"
      ],
      "metadata": {
        "id": "EhkbbB-vFryW",
        "colab": {
          "base_uri": "https://localhost:8080/",
          "height": 340
        },
        "outputId": "d70c8245-5e86-4255-922a-944bf2c35006"
      },
      "execution_count": 238,
      "outputs": [
        {
          "output_type": "execute_result",
          "data": {
            "text/plain": [
              "   id_cliente churn  genero  idoso parceirx dependentes  tempo_permanencia  \\\n",
              "0  0002-ORFBO    No  Female      0      Yes         Yes                  9   \n",
              "1  0003-MKNFE    No    Male      0       No          No                  9   \n",
              "2  0004-TLHLJ   Yes    Male      0       No          No                  4   \n",
              "3  0011-IGKFF   Yes    Male      1      Yes          No                 13   \n",
              "4  0013-EXCHZ   Yes  Female      1      Yes          No                  3   \n",
              "\n",
              "  servico_telefone multiplas_linhas servico_internet seguranca_online  \\\n",
              "0              Yes               No              DSL               No   \n",
              "1              Yes              Yes              DSL               No   \n",
              "2              Yes               No      Fiber optic               No   \n",
              "3              Yes               No      Fiber optic               No   \n",
              "4              Yes               No      Fiber optic               No   \n",
              "\n",
              "  backup_online protecao_dispositivo suporte_tecnico assinatura_tv  \\\n",
              "0           Yes                   No             Yes           Yes   \n",
              "1            No                   No              No            No   \n",
              "2            No                  Yes              No            No   \n",
              "3           Yes                  Yes              No           Yes   \n",
              "4            No                   No             Yes           Yes   \n",
              "\n",
              "  assinatura_filmes        contrato fatura_digital  metodo_pagamento  \\\n",
              "0                No        One year            Yes      Mailed check   \n",
              "1               Yes  Month-to-month             No      Mailed check   \n",
              "2                No  Month-to-month            Yes  Electronic check   \n",
              "3               Yes  Month-to-month            Yes  Electronic check   \n",
              "4                No  Month-to-month            Yes      Mailed check   \n",
              "\n",
              "   mensalidade cobrancas_total  \n",
              "0         65.6           593.3  \n",
              "1         59.9           542.4  \n",
              "2         73.9          280.85  \n",
              "3         98.0         1237.85  \n",
              "4         83.9           267.4  "
            ],
            "text/html": [
              "\n",
              "  <div id=\"df-81ee39b4-cae4-495b-80f0-d01748bd2c7a\">\n",
              "    <div class=\"colab-df-container\">\n",
              "      <div>\n",
              "<style scoped>\n",
              "    .dataframe tbody tr th:only-of-type {\n",
              "        vertical-align: middle;\n",
              "    }\n",
              "\n",
              "    .dataframe tbody tr th {\n",
              "        vertical-align: top;\n",
              "    }\n",
              "\n",
              "    .dataframe thead th {\n",
              "        text-align: right;\n",
              "    }\n",
              "</style>\n",
              "<table border=\"1\" class=\"dataframe\">\n",
              "  <thead>\n",
              "    <tr style=\"text-align: right;\">\n",
              "      <th></th>\n",
              "      <th>id_cliente</th>\n",
              "      <th>churn</th>\n",
              "      <th>genero</th>\n",
              "      <th>idoso</th>\n",
              "      <th>parceirx</th>\n",
              "      <th>dependentes</th>\n",
              "      <th>tempo_permanencia</th>\n",
              "      <th>servico_telefone</th>\n",
              "      <th>multiplas_linhas</th>\n",
              "      <th>servico_internet</th>\n",
              "      <th>seguranca_online</th>\n",
              "      <th>backup_online</th>\n",
              "      <th>protecao_dispositivo</th>\n",
              "      <th>suporte_tecnico</th>\n",
              "      <th>assinatura_tv</th>\n",
              "      <th>assinatura_filmes</th>\n",
              "      <th>contrato</th>\n",
              "      <th>fatura_digital</th>\n",
              "      <th>metodo_pagamento</th>\n",
              "      <th>mensalidade</th>\n",
              "      <th>cobrancas_total</th>\n",
              "    </tr>\n",
              "  </thead>\n",
              "  <tbody>\n",
              "    <tr>\n",
              "      <th>0</th>\n",
              "      <td>0002-ORFBO</td>\n",
              "      <td>No</td>\n",
              "      <td>Female</td>\n",
              "      <td>0</td>\n",
              "      <td>Yes</td>\n",
              "      <td>Yes</td>\n",
              "      <td>9</td>\n",
              "      <td>Yes</td>\n",
              "      <td>No</td>\n",
              "      <td>DSL</td>\n",
              "      <td>No</td>\n",
              "      <td>Yes</td>\n",
              "      <td>No</td>\n",
              "      <td>Yes</td>\n",
              "      <td>Yes</td>\n",
              "      <td>No</td>\n",
              "      <td>One year</td>\n",
              "      <td>Yes</td>\n",
              "      <td>Mailed check</td>\n",
              "      <td>65.6</td>\n",
              "      <td>593.3</td>\n",
              "    </tr>\n",
              "    <tr>\n",
              "      <th>1</th>\n",
              "      <td>0003-MKNFE</td>\n",
              "      <td>No</td>\n",
              "      <td>Male</td>\n",
              "      <td>0</td>\n",
              "      <td>No</td>\n",
              "      <td>No</td>\n",
              "      <td>9</td>\n",
              "      <td>Yes</td>\n",
              "      <td>Yes</td>\n",
              "      <td>DSL</td>\n",
              "      <td>No</td>\n",
              "      <td>No</td>\n",
              "      <td>No</td>\n",
              "      <td>No</td>\n",
              "      <td>No</td>\n",
              "      <td>Yes</td>\n",
              "      <td>Month-to-month</td>\n",
              "      <td>No</td>\n",
              "      <td>Mailed check</td>\n",
              "      <td>59.9</td>\n",
              "      <td>542.4</td>\n",
              "    </tr>\n",
              "    <tr>\n",
              "      <th>2</th>\n",
              "      <td>0004-TLHLJ</td>\n",
              "      <td>Yes</td>\n",
              "      <td>Male</td>\n",
              "      <td>0</td>\n",
              "      <td>No</td>\n",
              "      <td>No</td>\n",
              "      <td>4</td>\n",
              "      <td>Yes</td>\n",
              "      <td>No</td>\n",
              "      <td>Fiber optic</td>\n",
              "      <td>No</td>\n",
              "      <td>No</td>\n",
              "      <td>Yes</td>\n",
              "      <td>No</td>\n",
              "      <td>No</td>\n",
              "      <td>No</td>\n",
              "      <td>Month-to-month</td>\n",
              "      <td>Yes</td>\n",
              "      <td>Electronic check</td>\n",
              "      <td>73.9</td>\n",
              "      <td>280.85</td>\n",
              "    </tr>\n",
              "    <tr>\n",
              "      <th>3</th>\n",
              "      <td>0011-IGKFF</td>\n",
              "      <td>Yes</td>\n",
              "      <td>Male</td>\n",
              "      <td>1</td>\n",
              "      <td>Yes</td>\n",
              "      <td>No</td>\n",
              "      <td>13</td>\n",
              "      <td>Yes</td>\n",
              "      <td>No</td>\n",
              "      <td>Fiber optic</td>\n",
              "      <td>No</td>\n",
              "      <td>Yes</td>\n",
              "      <td>Yes</td>\n",
              "      <td>No</td>\n",
              "      <td>Yes</td>\n",
              "      <td>Yes</td>\n",
              "      <td>Month-to-month</td>\n",
              "      <td>Yes</td>\n",
              "      <td>Electronic check</td>\n",
              "      <td>98.0</td>\n",
              "      <td>1237.85</td>\n",
              "    </tr>\n",
              "    <tr>\n",
              "      <th>4</th>\n",
              "      <td>0013-EXCHZ</td>\n",
              "      <td>Yes</td>\n",
              "      <td>Female</td>\n",
              "      <td>1</td>\n",
              "      <td>Yes</td>\n",
              "      <td>No</td>\n",
              "      <td>3</td>\n",
              "      <td>Yes</td>\n",
              "      <td>No</td>\n",
              "      <td>Fiber optic</td>\n",
              "      <td>No</td>\n",
              "      <td>No</td>\n",
              "      <td>No</td>\n",
              "      <td>Yes</td>\n",
              "      <td>Yes</td>\n",
              "      <td>No</td>\n",
              "      <td>Month-to-month</td>\n",
              "      <td>Yes</td>\n",
              "      <td>Mailed check</td>\n",
              "      <td>83.9</td>\n",
              "      <td>267.4</td>\n",
              "    </tr>\n",
              "  </tbody>\n",
              "</table>\n",
              "</div>\n",
              "      <button class=\"colab-df-convert\" onclick=\"convertToInteractive('df-81ee39b4-cae4-495b-80f0-d01748bd2c7a')\"\n",
              "              title=\"Convert this dataframe to an interactive table.\"\n",
              "              style=\"display:none;\">\n",
              "        \n",
              "  <svg xmlns=\"http://www.w3.org/2000/svg\" height=\"24px\"viewBox=\"0 0 24 24\"\n",
              "       width=\"24px\">\n",
              "    <path d=\"M0 0h24v24H0V0z\" fill=\"none\"/>\n",
              "    <path d=\"M18.56 5.44l.94 2.06.94-2.06 2.06-.94-2.06-.94-.94-2.06-.94 2.06-2.06.94zm-11 1L8.5 8.5l.94-2.06 2.06-.94-2.06-.94L8.5 2.5l-.94 2.06-2.06.94zm10 10l.94 2.06.94-2.06 2.06-.94-2.06-.94-.94-2.06-.94 2.06-2.06.94z\"/><path d=\"M17.41 7.96l-1.37-1.37c-.4-.4-.92-.59-1.43-.59-.52 0-1.04.2-1.43.59L10.3 9.45l-7.72 7.72c-.78.78-.78 2.05 0 2.83L4 21.41c.39.39.9.59 1.41.59.51 0 1.02-.2 1.41-.59l7.78-7.78 2.81-2.81c.8-.78.8-2.07 0-2.86zM5.41 20L4 18.59l7.72-7.72 1.47 1.35L5.41 20z\"/>\n",
              "  </svg>\n",
              "      </button>\n",
              "      \n",
              "  <style>\n",
              "    .colab-df-container {\n",
              "      display:flex;\n",
              "      flex-wrap:wrap;\n",
              "      gap: 12px;\n",
              "    }\n",
              "\n",
              "    .colab-df-convert {\n",
              "      background-color: #E8F0FE;\n",
              "      border: none;\n",
              "      border-radius: 50%;\n",
              "      cursor: pointer;\n",
              "      display: none;\n",
              "      fill: #1967D2;\n",
              "      height: 32px;\n",
              "      padding: 0 0 0 0;\n",
              "      width: 32px;\n",
              "    }\n",
              "\n",
              "    .colab-df-convert:hover {\n",
              "      background-color: #E2EBFA;\n",
              "      box-shadow: 0px 1px 2px rgba(60, 64, 67, 0.3), 0px 1px 3px 1px rgba(60, 64, 67, 0.15);\n",
              "      fill: #174EA6;\n",
              "    }\n",
              "\n",
              "    [theme=dark] .colab-df-convert {\n",
              "      background-color: #3B4455;\n",
              "      fill: #D2E3FC;\n",
              "    }\n",
              "\n",
              "    [theme=dark] .colab-df-convert:hover {\n",
              "      background-color: #434B5C;\n",
              "      box-shadow: 0px 1px 3px 1px rgba(0, 0, 0, 0.15);\n",
              "      filter: drop-shadow(0px 1px 2px rgba(0, 0, 0, 0.3));\n",
              "      fill: #FFFFFF;\n",
              "    }\n",
              "  </style>\n",
              "\n",
              "      <script>\n",
              "        const buttonEl =\n",
              "          document.querySelector('#df-81ee39b4-cae4-495b-80f0-d01748bd2c7a button.colab-df-convert');\n",
              "        buttonEl.style.display =\n",
              "          google.colab.kernel.accessAllowed ? 'block' : 'none';\n",
              "\n",
              "        async function convertToInteractive(key) {\n",
              "          const element = document.querySelector('#df-81ee39b4-cae4-495b-80f0-d01748bd2c7a');\n",
              "          const dataTable =\n",
              "            await google.colab.kernel.invokeFunction('convertToInteractive',\n",
              "                                                     [key], {});\n",
              "          if (!dataTable) return;\n",
              "\n",
              "          const docLinkHtml = 'Like what you see? Visit the ' +\n",
              "            '<a target=\"_blank\" href=https://colab.research.google.com/notebooks/data_table.ipynb>data table notebook</a>'\n",
              "            + ' to learn more about interactive tables.';\n",
              "          element.innerHTML = '';\n",
              "          dataTable['output_type'] = 'display_data';\n",
              "          await google.colab.output.renderOutput(dataTable, element);\n",
              "          const docLink = document.createElement('div');\n",
              "          docLink.innerHTML = docLinkHtml;\n",
              "          element.appendChild(docLink);\n",
              "        }\n",
              "      </script>\n",
              "    </div>\n",
              "  </div>\n",
              "  "
            ]
          },
          "metadata": {},
          "execution_count": 238
        }
      ]
    },
    {
      "cell_type": "markdown",
      "source": [
        "## <font color=green> <b>4. Limpeza dos dados\n",
        " "
      ],
      "metadata": {
        "id": "KwHSYx2UklNy"
      }
    },
    {
      "cell_type": "code",
      "source": [
        "dados.info()"
      ],
      "metadata": {
        "id": "db7UIKkvMxV9",
        "colab": {
          "base_uri": "https://localhost:8080/"
        },
        "outputId": "0bc15c7a-a6e1-48de-bda3-67920ce5f734"
      },
      "execution_count": 239,
      "outputs": [
        {
          "output_type": "stream",
          "name": "stdout",
          "text": [
            "<class 'pandas.core.frame.DataFrame'>\n",
            "Int64Index: 7267 entries, 0 to 7266\n",
            "Data columns (total 21 columns):\n",
            " #   Column                Non-Null Count  Dtype  \n",
            "---  ------                --------------  -----  \n",
            " 0   id_cliente            7267 non-null   object \n",
            " 1   churn                 7267 non-null   object \n",
            " 2   genero                7267 non-null   object \n",
            " 3   idoso                 7267 non-null   int64  \n",
            " 4   parceirx              7267 non-null   object \n",
            " 5   dependentes           7267 non-null   object \n",
            " 6   tempo_permanencia     7267 non-null   int64  \n",
            " 7   servico_telefone      7267 non-null   object \n",
            " 8   multiplas_linhas      7267 non-null   object \n",
            " 9   servico_internet      7267 non-null   object \n",
            " 10  seguranca_online      7267 non-null   object \n",
            " 11  backup_online         7267 non-null   object \n",
            " 12  protecao_dispositivo  7267 non-null   object \n",
            " 13  suporte_tecnico       7267 non-null   object \n",
            " 14  assinatura_tv         7267 non-null   object \n",
            " 15  assinatura_filmes     7267 non-null   object \n",
            " 16  contrato              7267 non-null   object \n",
            " 17  fatura_digital        7267 non-null   object \n",
            " 18  metodo_pagamento      7267 non-null   object \n",
            " 19  mensalidade           7267 non-null   float64\n",
            " 20  cobrancas_total       7267 non-null   object \n",
            "dtypes: float64(1), int64(2), object(18)\n",
            "memory usage: 1.5+ MB\n"
          ]
        }
      ]
    },
    {
      "cell_type": "markdown",
      "source": [
        "### Vamos analisar cada variável para procurar por inconsistências nos dados"
      ],
      "metadata": {
        "id": "j-dwg6dNCTQ8"
      }
    },
    {
      "cell_type": "markdown",
      "source": [
        "#### `id_cliente`"
      ],
      "metadata": {
        "id": "c6q-DmXZCed5"
      }
    },
    {
      "cell_type": "code",
      "source": [
        "dados.id_cliente.nunique()"
      ],
      "metadata": {
        "id": "v8HfYejnCSuI",
        "colab": {
          "base_uri": "https://localhost:8080/"
        },
        "outputId": "8d3e613c-f869-444c-a414-9b52c4412dbd"
      },
      "execution_count": 240,
      "outputs": [
        {
          "output_type": "execute_result",
          "data": {
            "text/plain": [
              "7267"
            ]
          },
          "metadata": {},
          "execution_count": 240
        }
      ]
    },
    {
      "cell_type": "markdown",
      "source": [
        "#### `churn`\n",
        "\n",
        "* Note que existem clientes que não tem a informação se parou de assinar o serviço ou não. Como o objetivo deste projeto é analisar o churn, estes clientes cujo churn não foi identificado serão excluídos do dataset."
      ],
      "metadata": {
        "id": "DjA6bB7oCmv8"
      }
    },
    {
      "cell_type": "code",
      "source": [
        "dados.churn.unique()"
      ],
      "metadata": {
        "id": "CRMkPYK4CSom",
        "colab": {
          "base_uri": "https://localhost:8080/"
        },
        "outputId": "c75d36c8-fbfc-43d8-fe7d-c5b0bc78ae84"
      },
      "execution_count": 241,
      "outputs": [
        {
          "output_type": "execute_result",
          "data": {
            "text/plain": [
              "array(['No', 'Yes', ''], dtype=object)"
            ]
          },
          "metadata": {},
          "execution_count": 241
        }
      ]
    },
    {
      "cell_type": "code",
      "source": [
        "dados.loc[dados.churn == '']"
      ],
      "metadata": {
        "id": "lAxm7E-VC-2m",
        "colab": {
          "base_uri": "https://localhost:8080/",
          "height": 626
        },
        "outputId": "db7bf71c-65aa-4961-de28-5e1ec08f0bf0"
      },
      "execution_count": 242,
      "outputs": [
        {
          "output_type": "execute_result",
          "data": {
            "text/plain": [
              "      id_cliente churn  genero  idoso parceirx dependentes  tempo_permanencia  \\\n",
              "30    0047-ZHDTW        Female      0       No          No                 11   \n",
              "75    0120-YZLQA          Male      0       No          No                 71   \n",
              "96    0154-QYHJU          Male      0       No          No                 29   \n",
              "98    0162-RZGMZ        Female      1       No          No                  5   \n",
              "175   0274-VVQOQ          Male      1      Yes          No                 65   \n",
              "...          ...   ...     ...    ...      ...         ...                ...   \n",
              "7158  9840-GSRFX        Female      0       No          No                 14   \n",
              "7180  9872-RZQQB        Female      0      Yes          No                 49   \n",
              "7211  9920-GNDMB          Male      0       No          No                  9   \n",
              "7239  9955-RVWSC        Female      0      Yes         Yes                 67   \n",
              "7247  9966-VYRTZ        Female      0      Yes         Yes                 31   \n",
              "\n",
              "     servico_telefone  multiplas_linhas servico_internet     seguranca_online  \\\n",
              "30                Yes               Yes      Fiber optic                  Yes   \n",
              "75                Yes                No               No  No internet service   \n",
              "96                Yes                No              DSL                  Yes   \n",
              "98                Yes                No              DSL                  Yes   \n",
              "175               Yes               Yes      Fiber optic                   No   \n",
              "...               ...               ...              ...                  ...   \n",
              "7158              Yes               Yes              DSL                   No   \n",
              "7180               No  No phone service              DSL                  Yes   \n",
              "7211              Yes               Yes      Fiber optic                   No   \n",
              "7239              Yes                No               No  No internet service   \n",
              "7247              Yes                No               No  No internet service   \n",
              "\n",
              "            backup_online protecao_dispositivo      suporte_tecnico  \\\n",
              "30                     No                   No                   No   \n",
              "75    No internet service  No internet service  No internet service   \n",
              "96                    Yes                   No                  Yes   \n",
              "98                    Yes                   No                  Yes   \n",
              "175                   Yes                  Yes                   No   \n",
              "...                   ...                  ...                  ...   \n",
              "7158                  Yes                   No                   No   \n",
              "7180                   No                   No                   No   \n",
              "7211                   No                   No                   No   \n",
              "7239  No internet service  No internet service  No internet service   \n",
              "7247  No internet service  No internet service  No internet service   \n",
              "\n",
              "            assinatura_tv    assinatura_filmes        contrato fatura_digital  \\\n",
              "30                     No                   No  Month-to-month            Yes   \n",
              "75    No internet service  No internet service        Two year            Yes   \n",
              "96                     No                   No        One year            Yes   \n",
              "98                     No                   No  Month-to-month             No   \n",
              "175                   Yes                  Yes        One year            Yes   \n",
              "...                   ...                  ...             ...            ...   \n",
              "7158                   No                   No        One year            Yes   \n",
              "7180                  Yes                   No  Month-to-month             No   \n",
              "7211                   No                   No  Month-to-month            Yes   \n",
              "7239  No internet service  No internet service        Two year            Yes   \n",
              "7247  No internet service  No internet service  Month-to-month            Yes   \n",
              "\n",
              "               metodo_pagamento  mensalidade cobrancas_total  \n",
              "30    Bank transfer (automatic)        79.00           929.3  \n",
              "75      Credit card (automatic)        19.90          1355.1  \n",
              "96             Electronic check        58.75          1696.2  \n",
              "98      Credit card (automatic)        59.90          287.85  \n",
              "175   Bank transfer (automatic)       103.15         6792.45  \n",
              "...                         ...          ...             ...  \n",
              "7158               Mailed check        54.25           773.2  \n",
              "7180  Bank transfer (automatic)        40.65         2070.75  \n",
              "7211           Electronic check        76.25          684.85  \n",
              "7239  Bank transfer (automatic)        19.25          1372.9  \n",
              "7247               Mailed check        19.55          658.95  \n",
              "\n",
              "[224 rows x 21 columns]"
            ],
            "text/html": [
              "\n",
              "  <div id=\"df-2c00a05e-b2b6-4463-868e-20f8ac056d88\">\n",
              "    <div class=\"colab-df-container\">\n",
              "      <div>\n",
              "<style scoped>\n",
              "    .dataframe tbody tr th:only-of-type {\n",
              "        vertical-align: middle;\n",
              "    }\n",
              "\n",
              "    .dataframe tbody tr th {\n",
              "        vertical-align: top;\n",
              "    }\n",
              "\n",
              "    .dataframe thead th {\n",
              "        text-align: right;\n",
              "    }\n",
              "</style>\n",
              "<table border=\"1\" class=\"dataframe\">\n",
              "  <thead>\n",
              "    <tr style=\"text-align: right;\">\n",
              "      <th></th>\n",
              "      <th>id_cliente</th>\n",
              "      <th>churn</th>\n",
              "      <th>genero</th>\n",
              "      <th>idoso</th>\n",
              "      <th>parceirx</th>\n",
              "      <th>dependentes</th>\n",
              "      <th>tempo_permanencia</th>\n",
              "      <th>servico_telefone</th>\n",
              "      <th>multiplas_linhas</th>\n",
              "      <th>servico_internet</th>\n",
              "      <th>seguranca_online</th>\n",
              "      <th>backup_online</th>\n",
              "      <th>protecao_dispositivo</th>\n",
              "      <th>suporte_tecnico</th>\n",
              "      <th>assinatura_tv</th>\n",
              "      <th>assinatura_filmes</th>\n",
              "      <th>contrato</th>\n",
              "      <th>fatura_digital</th>\n",
              "      <th>metodo_pagamento</th>\n",
              "      <th>mensalidade</th>\n",
              "      <th>cobrancas_total</th>\n",
              "    </tr>\n",
              "  </thead>\n",
              "  <tbody>\n",
              "    <tr>\n",
              "      <th>30</th>\n",
              "      <td>0047-ZHDTW</td>\n",
              "      <td></td>\n",
              "      <td>Female</td>\n",
              "      <td>0</td>\n",
              "      <td>No</td>\n",
              "      <td>No</td>\n",
              "      <td>11</td>\n",
              "      <td>Yes</td>\n",
              "      <td>Yes</td>\n",
              "      <td>Fiber optic</td>\n",
              "      <td>Yes</td>\n",
              "      <td>No</td>\n",
              "      <td>No</td>\n",
              "      <td>No</td>\n",
              "      <td>No</td>\n",
              "      <td>No</td>\n",
              "      <td>Month-to-month</td>\n",
              "      <td>Yes</td>\n",
              "      <td>Bank transfer (automatic)</td>\n",
              "      <td>79.00</td>\n",
              "      <td>929.3</td>\n",
              "    </tr>\n",
              "    <tr>\n",
              "      <th>75</th>\n",
              "      <td>0120-YZLQA</td>\n",
              "      <td></td>\n",
              "      <td>Male</td>\n",
              "      <td>0</td>\n",
              "      <td>No</td>\n",
              "      <td>No</td>\n",
              "      <td>71</td>\n",
              "      <td>Yes</td>\n",
              "      <td>No</td>\n",
              "      <td>No</td>\n",
              "      <td>No internet service</td>\n",
              "      <td>No internet service</td>\n",
              "      <td>No internet service</td>\n",
              "      <td>No internet service</td>\n",
              "      <td>No internet service</td>\n",
              "      <td>No internet service</td>\n",
              "      <td>Two year</td>\n",
              "      <td>Yes</td>\n",
              "      <td>Credit card (automatic)</td>\n",
              "      <td>19.90</td>\n",
              "      <td>1355.1</td>\n",
              "    </tr>\n",
              "    <tr>\n",
              "      <th>96</th>\n",
              "      <td>0154-QYHJU</td>\n",
              "      <td></td>\n",
              "      <td>Male</td>\n",
              "      <td>0</td>\n",
              "      <td>No</td>\n",
              "      <td>No</td>\n",
              "      <td>29</td>\n",
              "      <td>Yes</td>\n",
              "      <td>No</td>\n",
              "      <td>DSL</td>\n",
              "      <td>Yes</td>\n",
              "      <td>Yes</td>\n",
              "      <td>No</td>\n",
              "      <td>Yes</td>\n",
              "      <td>No</td>\n",
              "      <td>No</td>\n",
              "      <td>One year</td>\n",
              "      <td>Yes</td>\n",
              "      <td>Electronic check</td>\n",
              "      <td>58.75</td>\n",
              "      <td>1696.2</td>\n",
              "    </tr>\n",
              "    <tr>\n",
              "      <th>98</th>\n",
              "      <td>0162-RZGMZ</td>\n",
              "      <td></td>\n",
              "      <td>Female</td>\n",
              "      <td>1</td>\n",
              "      <td>No</td>\n",
              "      <td>No</td>\n",
              "      <td>5</td>\n",
              "      <td>Yes</td>\n",
              "      <td>No</td>\n",
              "      <td>DSL</td>\n",
              "      <td>Yes</td>\n",
              "      <td>Yes</td>\n",
              "      <td>No</td>\n",
              "      <td>Yes</td>\n",
              "      <td>No</td>\n",
              "      <td>No</td>\n",
              "      <td>Month-to-month</td>\n",
              "      <td>No</td>\n",
              "      <td>Credit card (automatic)</td>\n",
              "      <td>59.90</td>\n",
              "      <td>287.85</td>\n",
              "    </tr>\n",
              "    <tr>\n",
              "      <th>175</th>\n",
              "      <td>0274-VVQOQ</td>\n",
              "      <td></td>\n",
              "      <td>Male</td>\n",
              "      <td>1</td>\n",
              "      <td>Yes</td>\n",
              "      <td>No</td>\n",
              "      <td>65</td>\n",
              "      <td>Yes</td>\n",
              "      <td>Yes</td>\n",
              "      <td>Fiber optic</td>\n",
              "      <td>No</td>\n",
              "      <td>Yes</td>\n",
              "      <td>Yes</td>\n",
              "      <td>No</td>\n",
              "      <td>Yes</td>\n",
              "      <td>Yes</td>\n",
              "      <td>One year</td>\n",
              "      <td>Yes</td>\n",
              "      <td>Bank transfer (automatic)</td>\n",
              "      <td>103.15</td>\n",
              "      <td>6792.45</td>\n",
              "    </tr>\n",
              "    <tr>\n",
              "      <th>...</th>\n",
              "      <td>...</td>\n",
              "      <td>...</td>\n",
              "      <td>...</td>\n",
              "      <td>...</td>\n",
              "      <td>...</td>\n",
              "      <td>...</td>\n",
              "      <td>...</td>\n",
              "      <td>...</td>\n",
              "      <td>...</td>\n",
              "      <td>...</td>\n",
              "      <td>...</td>\n",
              "      <td>...</td>\n",
              "      <td>...</td>\n",
              "      <td>...</td>\n",
              "      <td>...</td>\n",
              "      <td>...</td>\n",
              "      <td>...</td>\n",
              "      <td>...</td>\n",
              "      <td>...</td>\n",
              "      <td>...</td>\n",
              "      <td>...</td>\n",
              "    </tr>\n",
              "    <tr>\n",
              "      <th>7158</th>\n",
              "      <td>9840-GSRFX</td>\n",
              "      <td></td>\n",
              "      <td>Female</td>\n",
              "      <td>0</td>\n",
              "      <td>No</td>\n",
              "      <td>No</td>\n",
              "      <td>14</td>\n",
              "      <td>Yes</td>\n",
              "      <td>Yes</td>\n",
              "      <td>DSL</td>\n",
              "      <td>No</td>\n",
              "      <td>Yes</td>\n",
              "      <td>No</td>\n",
              "      <td>No</td>\n",
              "      <td>No</td>\n",
              "      <td>No</td>\n",
              "      <td>One year</td>\n",
              "      <td>Yes</td>\n",
              "      <td>Mailed check</td>\n",
              "      <td>54.25</td>\n",
              "      <td>773.2</td>\n",
              "    </tr>\n",
              "    <tr>\n",
              "      <th>7180</th>\n",
              "      <td>9872-RZQQB</td>\n",
              "      <td></td>\n",
              "      <td>Female</td>\n",
              "      <td>0</td>\n",
              "      <td>Yes</td>\n",
              "      <td>No</td>\n",
              "      <td>49</td>\n",
              "      <td>No</td>\n",
              "      <td>No phone service</td>\n",
              "      <td>DSL</td>\n",
              "      <td>Yes</td>\n",
              "      <td>No</td>\n",
              "      <td>No</td>\n",
              "      <td>No</td>\n",
              "      <td>Yes</td>\n",
              "      <td>No</td>\n",
              "      <td>Month-to-month</td>\n",
              "      <td>No</td>\n",
              "      <td>Bank transfer (automatic)</td>\n",
              "      <td>40.65</td>\n",
              "      <td>2070.75</td>\n",
              "    </tr>\n",
              "    <tr>\n",
              "      <th>7211</th>\n",
              "      <td>9920-GNDMB</td>\n",
              "      <td></td>\n",
              "      <td>Male</td>\n",
              "      <td>0</td>\n",
              "      <td>No</td>\n",
              "      <td>No</td>\n",
              "      <td>9</td>\n",
              "      <td>Yes</td>\n",
              "      <td>Yes</td>\n",
              "      <td>Fiber optic</td>\n",
              "      <td>No</td>\n",
              "      <td>No</td>\n",
              "      <td>No</td>\n",
              "      <td>No</td>\n",
              "      <td>No</td>\n",
              "      <td>No</td>\n",
              "      <td>Month-to-month</td>\n",
              "      <td>Yes</td>\n",
              "      <td>Electronic check</td>\n",
              "      <td>76.25</td>\n",
              "      <td>684.85</td>\n",
              "    </tr>\n",
              "    <tr>\n",
              "      <th>7239</th>\n",
              "      <td>9955-RVWSC</td>\n",
              "      <td></td>\n",
              "      <td>Female</td>\n",
              "      <td>0</td>\n",
              "      <td>Yes</td>\n",
              "      <td>Yes</td>\n",
              "      <td>67</td>\n",
              "      <td>Yes</td>\n",
              "      <td>No</td>\n",
              "      <td>No</td>\n",
              "      <td>No internet service</td>\n",
              "      <td>No internet service</td>\n",
              "      <td>No internet service</td>\n",
              "      <td>No internet service</td>\n",
              "      <td>No internet service</td>\n",
              "      <td>No internet service</td>\n",
              "      <td>Two year</td>\n",
              "      <td>Yes</td>\n",
              "      <td>Bank transfer (automatic)</td>\n",
              "      <td>19.25</td>\n",
              "      <td>1372.9</td>\n",
              "    </tr>\n",
              "    <tr>\n",
              "      <th>7247</th>\n",
              "      <td>9966-VYRTZ</td>\n",
              "      <td></td>\n",
              "      <td>Female</td>\n",
              "      <td>0</td>\n",
              "      <td>Yes</td>\n",
              "      <td>Yes</td>\n",
              "      <td>31</td>\n",
              "      <td>Yes</td>\n",
              "      <td>No</td>\n",
              "      <td>No</td>\n",
              "      <td>No internet service</td>\n",
              "      <td>No internet service</td>\n",
              "      <td>No internet service</td>\n",
              "      <td>No internet service</td>\n",
              "      <td>No internet service</td>\n",
              "      <td>No internet service</td>\n",
              "      <td>Month-to-month</td>\n",
              "      <td>Yes</td>\n",
              "      <td>Mailed check</td>\n",
              "      <td>19.55</td>\n",
              "      <td>658.95</td>\n",
              "    </tr>\n",
              "  </tbody>\n",
              "</table>\n",
              "<p>224 rows × 21 columns</p>\n",
              "</div>\n",
              "      <button class=\"colab-df-convert\" onclick=\"convertToInteractive('df-2c00a05e-b2b6-4463-868e-20f8ac056d88')\"\n",
              "              title=\"Convert this dataframe to an interactive table.\"\n",
              "              style=\"display:none;\">\n",
              "        \n",
              "  <svg xmlns=\"http://www.w3.org/2000/svg\" height=\"24px\"viewBox=\"0 0 24 24\"\n",
              "       width=\"24px\">\n",
              "    <path d=\"M0 0h24v24H0V0z\" fill=\"none\"/>\n",
              "    <path d=\"M18.56 5.44l.94 2.06.94-2.06 2.06-.94-2.06-.94-.94-2.06-.94 2.06-2.06.94zm-11 1L8.5 8.5l.94-2.06 2.06-.94-2.06-.94L8.5 2.5l-.94 2.06-2.06.94zm10 10l.94 2.06.94-2.06 2.06-.94-2.06-.94-.94-2.06-.94 2.06-2.06.94z\"/><path d=\"M17.41 7.96l-1.37-1.37c-.4-.4-.92-.59-1.43-.59-.52 0-1.04.2-1.43.59L10.3 9.45l-7.72 7.72c-.78.78-.78 2.05 0 2.83L4 21.41c.39.39.9.59 1.41.59.51 0 1.02-.2 1.41-.59l7.78-7.78 2.81-2.81c.8-.78.8-2.07 0-2.86zM5.41 20L4 18.59l7.72-7.72 1.47 1.35L5.41 20z\"/>\n",
              "  </svg>\n",
              "      </button>\n",
              "      \n",
              "  <style>\n",
              "    .colab-df-container {\n",
              "      display:flex;\n",
              "      flex-wrap:wrap;\n",
              "      gap: 12px;\n",
              "    }\n",
              "\n",
              "    .colab-df-convert {\n",
              "      background-color: #E8F0FE;\n",
              "      border: none;\n",
              "      border-radius: 50%;\n",
              "      cursor: pointer;\n",
              "      display: none;\n",
              "      fill: #1967D2;\n",
              "      height: 32px;\n",
              "      padding: 0 0 0 0;\n",
              "      width: 32px;\n",
              "    }\n",
              "\n",
              "    .colab-df-convert:hover {\n",
              "      background-color: #E2EBFA;\n",
              "      box-shadow: 0px 1px 2px rgba(60, 64, 67, 0.3), 0px 1px 3px 1px rgba(60, 64, 67, 0.15);\n",
              "      fill: #174EA6;\n",
              "    }\n",
              "\n",
              "    [theme=dark] .colab-df-convert {\n",
              "      background-color: #3B4455;\n",
              "      fill: #D2E3FC;\n",
              "    }\n",
              "\n",
              "    [theme=dark] .colab-df-convert:hover {\n",
              "      background-color: #434B5C;\n",
              "      box-shadow: 0px 1px 3px 1px rgba(0, 0, 0, 0.15);\n",
              "      filter: drop-shadow(0px 1px 2px rgba(0, 0, 0, 0.3));\n",
              "      fill: #FFFFFF;\n",
              "    }\n",
              "  </style>\n",
              "\n",
              "      <script>\n",
              "        const buttonEl =\n",
              "          document.querySelector('#df-2c00a05e-b2b6-4463-868e-20f8ac056d88 button.colab-df-convert');\n",
              "        buttonEl.style.display =\n",
              "          google.colab.kernel.accessAllowed ? 'block' : 'none';\n",
              "\n",
              "        async function convertToInteractive(key) {\n",
              "          const element = document.querySelector('#df-2c00a05e-b2b6-4463-868e-20f8ac056d88');\n",
              "          const dataTable =\n",
              "            await google.colab.kernel.invokeFunction('convertToInteractive',\n",
              "                                                     [key], {});\n",
              "          if (!dataTable) return;\n",
              "\n",
              "          const docLinkHtml = 'Like what you see? Visit the ' +\n",
              "            '<a target=\"_blank\" href=https://colab.research.google.com/notebooks/data_table.ipynb>data table notebook</a>'\n",
              "            + ' to learn more about interactive tables.';\n",
              "          element.innerHTML = '';\n",
              "          dataTable['output_type'] = 'display_data';\n",
              "          await google.colab.output.renderOutput(dataTable, element);\n",
              "          const docLink = document.createElement('div');\n",
              "          docLink.innerHTML = docLinkHtml;\n",
              "          element.appendChild(docLink);\n",
              "        }\n",
              "      </script>\n",
              "    </div>\n",
              "  </div>\n",
              "  "
            ]
          },
          "metadata": {},
          "execution_count": 242
        }
      ]
    },
    {
      "cell_type": "code",
      "source": [
        "dados = dados[~(dados['churn'] == '')] # excluindo linhas com valores de churn faltantes\n",
        "dados.reset_index(inplace=True)\n",
        "dados.churn.unique()"
      ],
      "metadata": {
        "id": "_gk_zCTzC-v0",
        "colab": {
          "base_uri": "https://localhost:8080/"
        },
        "outputId": "e4513efd-2c35-418c-8455-2747668dec5b"
      },
      "execution_count": 243,
      "outputs": [
        {
          "output_type": "execute_result",
          "data": {
            "text/plain": [
              "array(['No', 'Yes'], dtype=object)"
            ]
          },
          "metadata": {},
          "execution_count": 243
        }
      ]
    },
    {
      "cell_type": "code",
      "source": [
        "dados.churn.replace('No', 'Não', inplace = True)\n",
        "dados.churn.replace('Yes', 'Sim', inplace = True)\n",
        "dados.churn.unique()"
      ],
      "metadata": {
        "id": "Gf1l6casXvME",
        "colab": {
          "base_uri": "https://localhost:8080/"
        },
        "outputId": "176a9a5e-6802-4b63-e3a3-9733fb32f467"
      },
      "execution_count": 244,
      "outputs": [
        {
          "output_type": "stream",
          "name": "stderr",
          "text": [
            "/usr/local/lib/python3.7/dist-packages/pandas/core/generic.py:6619: SettingWithCopyWarning: \n",
            "A value is trying to be set on a copy of a slice from a DataFrame\n",
            "\n",
            "See the caveats in the documentation: https://pandas.pydata.org/pandas-docs/stable/user_guide/indexing.html#returning-a-view-versus-a-copy\n",
            "  return self._update_inplace(result)\n"
          ]
        },
        {
          "output_type": "execute_result",
          "data": {
            "text/plain": [
              "array(['Não', 'Sim'], dtype=object)"
            ]
          },
          "metadata": {},
          "execution_count": 244
        }
      ]
    },
    {
      "cell_type": "markdown",
      "source": [
        "#### `genero`"
      ],
      "metadata": {
        "id": "CmNa-YoeEjno"
      }
    },
    {
      "cell_type": "code",
      "source": [
        "dados.genero.unique()\n"
      ],
      "metadata": {
        "id": "dARZUXzVC-ps",
        "colab": {
          "base_uri": "https://localhost:8080/"
        },
        "outputId": "3440cb1f-be08-4e64-a648-078445036cd8"
      },
      "execution_count": 245,
      "outputs": [
        {
          "output_type": "execute_result",
          "data": {
            "text/plain": [
              "array(['Female', 'Male'], dtype=object)"
            ]
          },
          "metadata": {},
          "execution_count": 245
        }
      ]
    },
    {
      "cell_type": "code",
      "source": [
        "dados.genero = dados.genero.map({'Female': 'Feminino',\n",
        "                                 'Male': 'Masculino'})\n",
        "dados.genero.unique()"
      ],
      "metadata": {
        "id": "4IdWnu5QXtc-",
        "colab": {
          "base_uri": "https://localhost:8080/"
        },
        "outputId": "d2e265b0-9080-48ca-fa7b-bbf39dab9136"
      },
      "execution_count": 246,
      "outputs": [
        {
          "output_type": "stream",
          "name": "stderr",
          "text": [
            "/usr/local/lib/python3.7/dist-packages/pandas/core/generic.py:5516: SettingWithCopyWarning: \n",
            "A value is trying to be set on a copy of a slice from a DataFrame.\n",
            "Try using .loc[row_indexer,col_indexer] = value instead\n",
            "\n",
            "See the caveats in the documentation: https://pandas.pydata.org/pandas-docs/stable/user_guide/indexing.html#returning-a-view-versus-a-copy\n",
            "  self[name] = value\n"
          ]
        },
        {
          "output_type": "execute_result",
          "data": {
            "text/plain": [
              "array(['Feminino', 'Masculino'], dtype=object)"
            ]
          },
          "metadata": {},
          "execution_count": 246
        }
      ]
    },
    {
      "cell_type": "markdown",
      "source": [
        "#### `idoso`"
      ],
      "metadata": {
        "id": "eIuZwDBFEozM"
      }
    },
    {
      "cell_type": "code",
      "source": [
        "dados.idoso.unique()"
      ],
      "metadata": {
        "id": "IT05LAHWC-jZ",
        "colab": {
          "base_uri": "https://localhost:8080/"
        },
        "outputId": "05dfa0e9-83b2-4b3e-e664-0ea9a362afb8"
      },
      "execution_count": 247,
      "outputs": [
        {
          "output_type": "execute_result",
          "data": {
            "text/plain": [
              "array([0, 1])"
            ]
          },
          "metadata": {},
          "execution_count": 247
        }
      ]
    },
    {
      "cell_type": "markdown",
      "source": [
        "#### `parceirx`"
      ],
      "metadata": {
        "id": "DHTORdeNEwui"
      }
    },
    {
      "cell_type": "code",
      "source": [
        "dados.parceirx.unique()"
      ],
      "metadata": {
        "id": "lSaO4R-bEuQF",
        "colab": {
          "base_uri": "https://localhost:8080/"
        },
        "outputId": "5ab4e965-aea8-41cd-a72f-4ee45a5373c3"
      },
      "execution_count": 248,
      "outputs": [
        {
          "output_type": "execute_result",
          "data": {
            "text/plain": [
              "array(['Yes', 'No'], dtype=object)"
            ]
          },
          "metadata": {},
          "execution_count": 248
        }
      ]
    },
    {
      "cell_type": "code",
      "source": [
        "dados.parceirx = dados.parceirx.map({'Yes': 1,\n",
        "                                     'No': 0})\n",
        "dados.parceirx.unique()"
      ],
      "metadata": {
        "id": "-YPIVzZ5X4G4",
        "colab": {
          "base_uri": "https://localhost:8080/"
        },
        "outputId": "f988105d-6737-4ec1-f459-553cfcf3621b"
      },
      "execution_count": 249,
      "outputs": [
        {
          "output_type": "execute_result",
          "data": {
            "text/plain": [
              "array([1, 0])"
            ]
          },
          "metadata": {},
          "execution_count": 249
        }
      ]
    },
    {
      "cell_type": "markdown",
      "source": [
        "#### `dependentes`"
      ],
      "metadata": {
        "id": "SRDTYd5OE5iy"
      }
    },
    {
      "cell_type": "code",
      "source": [
        "dados.dependentes.unique()"
      ],
      "metadata": {
        "id": "k1_tlYO7EuJx",
        "colab": {
          "base_uri": "https://localhost:8080/"
        },
        "outputId": "33dc3874-7584-4561-d9ae-392a48dd49f6"
      },
      "execution_count": 250,
      "outputs": [
        {
          "output_type": "execute_result",
          "data": {
            "text/plain": [
              "array(['Yes', 'No'], dtype=object)"
            ]
          },
          "metadata": {},
          "execution_count": 250
        }
      ]
    },
    {
      "cell_type": "code",
      "source": [
        "dados.dependentes = dados.dependentes.map({'Yes': 1,\n",
        "                                           'No': 0})\n",
        "dados.dependentes.unique()"
      ],
      "metadata": {
        "id": "H3IDM5KOX_lJ",
        "colab": {
          "base_uri": "https://localhost:8080/"
        },
        "outputId": "bc028fd6-acb5-42f0-aa98-9621ee9facb2"
      },
      "execution_count": 251,
      "outputs": [
        {
          "output_type": "execute_result",
          "data": {
            "text/plain": [
              "array([1, 0])"
            ]
          },
          "metadata": {},
          "execution_count": 251
        }
      ]
    },
    {
      "cell_type": "markdown",
      "source": [
        "#### `tempo_permanencia`"
      ],
      "metadata": {
        "id": "gINGynYFFDwx"
      }
    },
    {
      "cell_type": "code",
      "source": [
        "dados.tempo_permanencia.unique()"
      ],
      "metadata": {
        "id": "01FwMWpMFPm2",
        "colab": {
          "base_uri": "https://localhost:8080/"
        },
        "outputId": "205f411b-9679-475c-c061-5c0685a3ba69"
      },
      "execution_count": 252,
      "outputs": [
        {
          "output_type": "execute_result",
          "data": {
            "text/plain": [
              "array([ 9,  4, 13,  3, 71, 63,  7, 65, 54, 72,  5, 56, 34,  1, 45, 50, 23,\n",
              "       55, 26, 69, 37, 49, 66, 67, 20, 43, 59, 12, 27,  2, 25, 29, 14, 35,\n",
              "       64, 39, 40, 11,  6, 30, 70, 57, 58, 16, 32, 33, 10, 21, 61, 15, 44,\n",
              "       22, 24, 19, 47, 62, 46, 52,  8, 60, 48, 28, 41, 53, 68, 31, 36, 17,\n",
              "       18, 51, 38, 42,  0])"
            ]
          },
          "metadata": {},
          "execution_count": 252
        }
      ]
    },
    {
      "cell_type": "markdown",
      "source": [
        "#### `servico_telefone`"
      ],
      "metadata": {
        "id": "XXCXfGcfFnrb"
      }
    },
    {
      "cell_type": "code",
      "source": [
        "dados.servico_telefone.unique()"
      ],
      "metadata": {
        "id": "lxCgRmHyFPhB",
        "colab": {
          "base_uri": "https://localhost:8080/"
        },
        "outputId": "54da43d0-3ab2-46af-89a5-1fcd08f318c3"
      },
      "execution_count": 253,
      "outputs": [
        {
          "output_type": "execute_result",
          "data": {
            "text/plain": [
              "array(['Yes', 'No'], dtype=object)"
            ]
          },
          "metadata": {},
          "execution_count": 253
        }
      ]
    },
    {
      "cell_type": "code",
      "source": [
        "dados.servico_telefone = dados.servico_telefone.map({'Yes': 1,\n",
        "                                                     'No': 0})"
      ],
      "metadata": {
        "id": "q66dgVdiYGVf"
      },
      "execution_count": 254,
      "outputs": []
    },
    {
      "cell_type": "markdown",
      "source": [
        "#### `multiplas_linhas`"
      ],
      "metadata": {
        "id": "mYuHQA6US56m"
      }
    },
    {
      "cell_type": "code",
      "source": [
        "dados.multiplas_linhas.unique()"
      ],
      "metadata": {
        "id": "7a3rFCS9S5Pm",
        "colab": {
          "base_uri": "https://localhost:8080/"
        },
        "outputId": "6a087b77-4c88-458a-b003-d15c082f6a1c"
      },
      "execution_count": 255,
      "outputs": [
        {
          "output_type": "execute_result",
          "data": {
            "text/plain": [
              "array(['No', 'Yes', 'No phone service'], dtype=object)"
            ]
          },
          "metadata": {},
          "execution_count": 255
        }
      ]
    },
    {
      "cell_type": "code",
      "source": [
        "dados.multiplas_linhas = dados.multiplas_linhas.map({'Yes': 'Sim',\n",
        "                                                     'No': 'Não',\n",
        "                                                     'No phone service': 'Sem telefone'})"
      ],
      "metadata": {
        "id": "Yd1peuypYKad"
      },
      "execution_count": 256,
      "outputs": []
    },
    {
      "cell_type": "markdown",
      "source": [
        "#### `servico_internet`"
      ],
      "metadata": {
        "id": "CESVHwMyTPfs"
      }
    },
    {
      "cell_type": "code",
      "source": [
        "dados.servico_internet.unique()"
      ],
      "metadata": {
        "id": "Nxus9Hy0S5KA",
        "colab": {
          "base_uri": "https://localhost:8080/"
        },
        "outputId": "e4481895-7633-46ed-c3dc-794a9084fe91"
      },
      "execution_count": 257,
      "outputs": [
        {
          "output_type": "execute_result",
          "data": {
            "text/plain": [
              "array(['DSL', 'Fiber optic', 'No'], dtype=object)"
            ]
          },
          "metadata": {},
          "execution_count": 257
        }
      ]
    },
    {
      "cell_type": "code",
      "source": [
        "dados.servico_internet.replace('No', 'Não', inplace = True)\n",
        "dados.servico_internet.replace('Fiber optic', 'Fibra', inplace = True)\n",
        "dados.servico_internet.unique()"
      ],
      "metadata": {
        "id": "52BJot-1YLF7",
        "colab": {
          "base_uri": "https://localhost:8080/"
        },
        "outputId": "e9e68002-dab7-4c22-8e28-ff992c45346a"
      },
      "execution_count": 258,
      "outputs": [
        {
          "output_type": "execute_result",
          "data": {
            "text/plain": [
              "array(['DSL', 'Fibra', 'Não'], dtype=object)"
            ]
          },
          "metadata": {},
          "execution_count": 258
        }
      ]
    },
    {
      "cell_type": "markdown",
      "source": [
        "#### `seguranca_online`"
      ],
      "metadata": {
        "id": "XAWFJccITQKi"
      }
    },
    {
      "cell_type": "code",
      "source": [
        "dados.seguranca_online.unique()"
      ],
      "metadata": {
        "id": "H3KFPH-QTQrS",
        "colab": {
          "base_uri": "https://localhost:8080/"
        },
        "outputId": "e1881c36-52eb-40b0-b764-563734cdf96b"
      },
      "execution_count": 259,
      "outputs": [
        {
          "output_type": "execute_result",
          "data": {
            "text/plain": [
              "array(['No', 'Yes', 'No internet service'], dtype=object)"
            ]
          },
          "metadata": {},
          "execution_count": 259
        }
      ]
    },
    {
      "cell_type": "code",
      "source": [
        "dados.seguranca_online = dados.seguranca_online.map({'Yes': 'Sim',\n",
        "                                                     'No': 'Não',\n",
        "                                                     'No internet service': 'Sem internet'})\n",
        "dados.seguranca_online.unique()"
      ],
      "metadata": {
        "id": "ibM3ahUlYL0O",
        "colab": {
          "base_uri": "https://localhost:8080/"
        },
        "outputId": "a404e0d5-f177-452c-9a44-113cb54b40f0"
      },
      "execution_count": 260,
      "outputs": [
        {
          "output_type": "execute_result",
          "data": {
            "text/plain": [
              "array(['Não', 'Sim', 'Sem internet'], dtype=object)"
            ]
          },
          "metadata": {},
          "execution_count": 260
        }
      ]
    },
    {
      "cell_type": "markdown",
      "source": [
        "#### `backup_online`"
      ],
      "metadata": {
        "id": "bq8orGjrTRKz"
      }
    },
    {
      "cell_type": "code",
      "source": [
        "dados.backup_online.unique()"
      ],
      "metadata": {
        "id": "v9XtR-_HS5Ft",
        "colab": {
          "base_uri": "https://localhost:8080/"
        },
        "outputId": "26782975-1cf8-4c3b-8194-7a26281d89f6"
      },
      "execution_count": 261,
      "outputs": [
        {
          "output_type": "execute_result",
          "data": {
            "text/plain": [
              "array(['Yes', 'No', 'No internet service'], dtype=object)"
            ]
          },
          "metadata": {},
          "execution_count": 261
        }
      ]
    },
    {
      "cell_type": "code",
      "source": [
        "dados.backup_online = dados.backup_online.map({'Yes': 'Sim',\n",
        "                                               'No': 'Não',\n",
        "                                               'No internet service': 'Sem internet'})\n",
        "dados.backup_online.unique()\n",
        "                                               "
      ],
      "metadata": {
        "id": "bYEIooVHYMuS",
        "colab": {
          "base_uri": "https://localhost:8080/"
        },
        "outputId": "616bcc3c-7366-4420-cd17-a779b98f9566"
      },
      "execution_count": 262,
      "outputs": [
        {
          "output_type": "execute_result",
          "data": {
            "text/plain": [
              "array(['Sim', 'Não', 'Sem internet'], dtype=object)"
            ]
          },
          "metadata": {},
          "execution_count": 262
        }
      ]
    },
    {
      "cell_type": "markdown",
      "source": [
        "#### `protecao_dispositivo`"
      ],
      "metadata": {
        "id": "SNsXHA8CkjeU"
      }
    },
    {
      "cell_type": "code",
      "source": [
        "dados.protecao_dispositivo.unique()"
      ],
      "metadata": {
        "id": "lpeFsHzvkjXF",
        "colab": {
          "base_uri": "https://localhost:8080/"
        },
        "outputId": "16744575-05e5-4199-acb0-97fffeb4bc3a"
      },
      "execution_count": 263,
      "outputs": [
        {
          "output_type": "execute_result",
          "data": {
            "text/plain": [
              "array(['No', 'Yes', 'No internet service'], dtype=object)"
            ]
          },
          "metadata": {},
          "execution_count": 263
        }
      ]
    },
    {
      "cell_type": "code",
      "source": [
        "dados.protecao_dispositivo = dados.protecao_dispositivo.map({'Yes': 'Sim',\n",
        "                                                             'No': 'Não',\n",
        "                                                             'No internet service': 'Sem internet'})\n",
        "dados.protecao_dispositivo.unique()"
      ],
      "metadata": {
        "id": "Neo8M6X4YNdr",
        "colab": {
          "base_uri": "https://localhost:8080/"
        },
        "outputId": "abec9b93-b60b-4305-99c6-e0a2d6401514"
      },
      "execution_count": 264,
      "outputs": [
        {
          "output_type": "execute_result",
          "data": {
            "text/plain": [
              "array(['Não', 'Sim', 'Sem internet'], dtype=object)"
            ]
          },
          "metadata": {},
          "execution_count": 264
        }
      ]
    },
    {
      "cell_type": "markdown",
      "source": [
        "#### `suporte_tecnico`"
      ],
      "metadata": {
        "id": "txZxuNFTkjP9"
      }
    },
    {
      "cell_type": "code",
      "source": [
        "dados.suporte_tecnico.unique()"
      ],
      "metadata": {
        "id": "r-p3siJ-kjIe",
        "colab": {
          "base_uri": "https://localhost:8080/"
        },
        "outputId": "fa7e3708-37f3-4daf-8a16-bfe8fe5b6d94"
      },
      "execution_count": 265,
      "outputs": [
        {
          "output_type": "execute_result",
          "data": {
            "text/plain": [
              "array(['Yes', 'No', 'No internet service'], dtype=object)"
            ]
          },
          "metadata": {},
          "execution_count": 265
        }
      ]
    },
    {
      "cell_type": "code",
      "source": [
        "dados.suporte_tecnico = dados.suporte_tecnico.map({'Yes': 'Sim',\n",
        "                                                   'No': 'Não',\n",
        "                                                   'No internet service': 'Sem internet'})\n",
        "dados.suporte_tecnico.unique()"
      ],
      "metadata": {
        "id": "Tfi4ePw-YOVN",
        "colab": {
          "base_uri": "https://localhost:8080/"
        },
        "outputId": "84884388-607f-4697-d5bc-20da35214509"
      },
      "execution_count": 266,
      "outputs": [
        {
          "output_type": "execute_result",
          "data": {
            "text/plain": [
              "array(['Sim', 'Não', 'Sem internet'], dtype=object)"
            ]
          },
          "metadata": {},
          "execution_count": 266
        }
      ]
    },
    {
      "cell_type": "markdown",
      "source": [
        "#### `assinatura_tv`"
      ],
      "metadata": {
        "id": "X9CUca5OkjAb"
      }
    },
    {
      "cell_type": "code",
      "source": [
        "dados.assinatura_tv.unique()"
      ],
      "metadata": {
        "id": "VB65HrWFki3M",
        "colab": {
          "base_uri": "https://localhost:8080/"
        },
        "outputId": "db3371fb-751d-4f61-897e-dee70c2a767b"
      },
      "execution_count": 267,
      "outputs": [
        {
          "output_type": "execute_result",
          "data": {
            "text/plain": [
              "array(['Yes', 'No', 'No internet service'], dtype=object)"
            ]
          },
          "metadata": {},
          "execution_count": 267
        }
      ]
    },
    {
      "cell_type": "code",
      "source": [
        "dados.assinatura_tv = dados.assinatura_tv.map({'Yes': 'Sim',\n",
        "                                               'No': 'Não',\n",
        "                                               'No internet service': 'Sem internet'})\n",
        "dados.assinatura_tv.unique()"
      ],
      "metadata": {
        "id": "grx2X0GgYPYX",
        "colab": {
          "base_uri": "https://localhost:8080/"
        },
        "outputId": "6a8eaf21-0beb-40ec-f613-d57280bbfedc"
      },
      "execution_count": 268,
      "outputs": [
        {
          "output_type": "execute_result",
          "data": {
            "text/plain": [
              "array(['Sim', 'Não', 'Sem internet'], dtype=object)"
            ]
          },
          "metadata": {},
          "execution_count": 268
        }
      ]
    },
    {
      "cell_type": "markdown",
      "source": [
        "#### `assinatura_filmes`"
      ],
      "metadata": {
        "id": "P2M2sU_zkisH"
      }
    },
    {
      "cell_type": "code",
      "source": [
        "dados.assinatura_filmes.unique()"
      ],
      "metadata": {
        "id": "8jOLwqqdkihy",
        "colab": {
          "base_uri": "https://localhost:8080/"
        },
        "outputId": "67ca7675-8798-4912-a0eb-cff6f23e5df6"
      },
      "execution_count": 269,
      "outputs": [
        {
          "output_type": "execute_result",
          "data": {
            "text/plain": [
              "array(['No', 'Yes', 'No internet service'], dtype=object)"
            ]
          },
          "metadata": {},
          "execution_count": 269
        }
      ]
    },
    {
      "cell_type": "code",
      "source": [
        "dados.assinatura_filmes = dados.assinatura_filmes.map({'Yes': 'Sim',\n",
        "                                                       'No': 'Não',\n",
        "                                                       'No internet service': 'Sem internet'})\n",
        "dados.assinatura_filmes.unique()\n",
        "                                                       "
      ],
      "metadata": {
        "id": "x2s416XrYP8f",
        "colab": {
          "base_uri": "https://localhost:8080/"
        },
        "outputId": "d5737194-0d15-4f6e-b59a-2b9df326515a"
      },
      "execution_count": 270,
      "outputs": [
        {
          "output_type": "execute_result",
          "data": {
            "text/plain": [
              "array(['Não', 'Sim', 'Sem internet'], dtype=object)"
            ]
          },
          "metadata": {},
          "execution_count": 270
        }
      ]
    },
    {
      "cell_type": "markdown",
      "source": [
        "#### `contrato`"
      ],
      "metadata": {
        "id": "e14N45hRkiRv"
      }
    },
    {
      "cell_type": "code",
      "source": [
        "dados.contrato.unique()"
      ],
      "metadata": {
        "id": "cMPg_vZvmEYq",
        "colab": {
          "base_uri": "https://localhost:8080/"
        },
        "outputId": "b898a04c-3d33-48bf-a4ce-24641f16bd4c"
      },
      "execution_count": 271,
      "outputs": [
        {
          "output_type": "execute_result",
          "data": {
            "text/plain": [
              "array(['One year', 'Month-to-month', 'Two year'], dtype=object)"
            ]
          },
          "metadata": {},
          "execution_count": 271
        }
      ]
    },
    {
      "cell_type": "code",
      "source": [
        "dados.contrato = dados.contrato.map({'One year': 'Anual',\n",
        "                                     'Month-to-month': 'Mensal',\n",
        "                                     'Two year': 'Bianual'})\n",
        "dados.contrato.unique()"
      ],
      "metadata": {
        "id": "QWW1CyuYYQwX",
        "colab": {
          "base_uri": "https://localhost:8080/"
        },
        "outputId": "fc159d1c-a379-44c0-f058-96377ab36f26"
      },
      "execution_count": 272,
      "outputs": [
        {
          "output_type": "execute_result",
          "data": {
            "text/plain": [
              "array(['Anual', 'Mensal', 'Bianual'], dtype=object)"
            ]
          },
          "metadata": {},
          "execution_count": 272
        }
      ]
    },
    {
      "cell_type": "markdown",
      "source": [
        "#### `fatura_digital`"
      ],
      "metadata": {
        "id": "V9MuH1vRmEJT"
      }
    },
    {
      "cell_type": "code",
      "source": [
        "dados.fatura_digital.unique()"
      ],
      "metadata": {
        "id": "9jnjjrp8mD1j",
        "colab": {
          "base_uri": "https://localhost:8080/"
        },
        "outputId": "167f3ae8-4123-46c4-c4fd-f45afda6b837"
      },
      "execution_count": 273,
      "outputs": [
        {
          "output_type": "execute_result",
          "data": {
            "text/plain": [
              "array(['Yes', 'No'], dtype=object)"
            ]
          },
          "metadata": {},
          "execution_count": 273
        }
      ]
    },
    {
      "cell_type": "code",
      "source": [
        "dados.fatura_digital = dados.fatura_digital.map({'Yes': 'Sim',\n",
        "                                                 'No': 'Não'})\n",
        "dados.fatura_digital.unique()"
      ],
      "metadata": {
        "id": "RqLeRpiqYRm5",
        "colab": {
          "base_uri": "https://localhost:8080/"
        },
        "outputId": "201c4d60-32a8-4f67-f75f-31c4dccb82f7"
      },
      "execution_count": 274,
      "outputs": [
        {
          "output_type": "execute_result",
          "data": {
            "text/plain": [
              "array(['Sim', 'Não'], dtype=object)"
            ]
          },
          "metadata": {},
          "execution_count": 274
        }
      ]
    },
    {
      "cell_type": "markdown",
      "source": [
        "#### `metodo_pagamento`"
      ],
      "metadata": {
        "id": "5_DLvRMCFM0O"
      }
    },
    {
      "cell_type": "code",
      "source": [
        "dados.metodo_pagamento.unique()"
      ],
      "metadata": {
        "id": "OMwJS4WCmM9-",
        "colab": {
          "base_uri": "https://localhost:8080/"
        },
        "outputId": "3a548b74-ca4d-47ed-c134-69cc63f2f158"
      },
      "execution_count": 275,
      "outputs": [
        {
          "output_type": "execute_result",
          "data": {
            "text/plain": [
              "array(['Mailed check', 'Electronic check', 'Credit card (automatic)',\n",
              "       'Bank transfer (automatic)'], dtype=object)"
            ]
          },
          "metadata": {},
          "execution_count": 275
        }
      ]
    },
    {
      "cell_type": "code",
      "source": [
        "dados.metodo_pagamento = dados.metodo_pagamento.map({'Mailed check': 'Cheque',\n",
        "                                                     'Electronic check': 'Cheque Eletrônico',\n",
        "                                                     'Credit card (automatic)': 'cartão de crédito (automático)',\n",
        "                                                     'Bank transfer (automatic)': 'transferência bancária (automático)'})\n",
        "dados.metodo_pagamento.unique()"
      ],
      "metadata": {
        "id": "apo8zujxYSVy",
        "colab": {
          "base_uri": "https://localhost:8080/"
        },
        "outputId": "ae21ab80-e6a8-4d80-f578-8a3b8b8a4405"
      },
      "execution_count": 276,
      "outputs": [
        {
          "output_type": "execute_result",
          "data": {
            "text/plain": [
              "array(['Cheque', 'Cheque Eletrônico', 'cartão de crédito (automático)',\n",
              "       'transferência bancária (automático)'], dtype=object)"
            ]
          },
          "metadata": {},
          "execution_count": 276
        }
      ]
    },
    {
      "cell_type": "markdown",
      "source": [
        "#### `mensalidade`"
      ],
      "metadata": {
        "id": "sTir26xrmNW5"
      }
    },
    {
      "cell_type": "code",
      "source": [
        "dados.mensalidade.unique()"
      ],
      "metadata": {
        "id": "bWJMqOrDmM28",
        "colab": {
          "base_uri": "https://localhost:8080/"
        },
        "outputId": "a48b08e8-b125-48ae-b0ac-f1cd8a6fc5d9"
      },
      "execution_count": 277,
      "outputs": [
        {
          "output_type": "execute_result",
          "data": {
            "text/plain": [
              "array([65.6 , 59.9 , 73.9 , ..., 91.75, 68.8 , 67.85])"
            ]
          },
          "metadata": {},
          "execution_count": 277
        }
      ]
    },
    {
      "cell_type": "markdown",
      "source": [
        "#### `cobrancas_total`"
      ],
      "metadata": {
        "id": "PyWe_lw-mWIo"
      }
    },
    {
      "cell_type": "code",
      "source": [
        "dados.cobrancas_total.unique()"
      ],
      "metadata": {
        "id": "ND7AkAAlmMv_",
        "colab": {
          "base_uri": "https://localhost:8080/"
        },
        "outputId": "1f86fb7b-30a4-4cb6-f51e-aa57b805b34f"
      },
      "execution_count": 278,
      "outputs": [
        {
          "output_type": "execute_result",
          "data": {
            "text/plain": [
              "array(['593.3', '542.4', '280.85', ..., '742.9', '4627.65', '3707.6'],\n",
              "      dtype=object)"
            ]
          },
          "metadata": {},
          "execution_count": 278
        }
      ]
    },
    {
      "cell_type": "markdown",
      "source": [
        "* Note que por algum motivo a coluna cobrancas_total está como tipo object e não número. Isso será investigado"
      ],
      "metadata": {
        "id": "NvOXQJGlH6n8"
      }
    },
    {
      "cell_type": "code",
      "source": [
        "dados['cobrancas_total'].value_counts()"
      ],
      "metadata": {
        "id": "h6fxEUP7JwjM",
        "colab": {
          "base_uri": "https://localhost:8080/"
        },
        "outputId": "3cce0328-cfda-45ea-aff9-0c7917e15fb9"
      },
      "execution_count": 279,
      "outputs": [
        {
          "output_type": "execute_result",
          "data": {
            "text/plain": [
              "           11\n",
              "20.2       11\n",
              "19.75       9\n",
              "19.9        8\n",
              "20.05       8\n",
              "           ..\n",
              "2387.75     1\n",
              "6302.8      1\n",
              "2058.5      1\n",
              "829.55      1\n",
              "3707.6      1\n",
              "Name: cobrancas_total, Length: 6531, dtype: int64"
            ]
          },
          "metadata": {},
          "execution_count": 279
        }
      ]
    },
    {
      "cell_type": "code",
      "source": [
        "dados['cobrancas_total'] = pd.to_numeric(dados['cobrancas_total'])\n",
        "dados['cobrancas_total'].dtype()"
      ],
      "metadata": {
        "id": "ivEkXzyqHAo4",
        "colab": {
          "base_uri": "https://localhost:8080/",
          "height": 295
        },
        "outputId": "61fac15f-9774-4018-efa2-61416141d34f"
      },
      "execution_count": 280,
      "outputs": [
        {
          "output_type": "error",
          "ename": "ValueError",
          "evalue": "ignored",
          "traceback": [
            "\u001b[0;31m---------------------------------------------------------------------------\u001b[0m",
            "\u001b[0;31mValueError\u001b[0m                                Traceback (most recent call last)",
            "\u001b[0;32m/usr/local/lib/python3.7/dist-packages/pandas/_libs/lib.pyx\u001b[0m in \u001b[0;36mpandas._libs.lib.maybe_convert_numeric\u001b[0;34m()\u001b[0m\n",
            "\u001b[0;31mValueError\u001b[0m: Unable to parse string \" \"",
            "\nDuring handling of the above exception, another exception occurred:\n",
            "\u001b[0;31mValueError\u001b[0m                                Traceback (most recent call last)",
            "\u001b[0;32m<ipython-input-280-e11c4c08034e>\u001b[0m in \u001b[0;36m<module>\u001b[0;34m()\u001b[0m\n\u001b[0;32m----> 1\u001b[0;31m \u001b[0mdados\u001b[0m\u001b[0;34m[\u001b[0m\u001b[0;34m'cobrancas_total'\u001b[0m\u001b[0;34m]\u001b[0m \u001b[0;34m=\u001b[0m \u001b[0mpd\u001b[0m\u001b[0;34m.\u001b[0m\u001b[0mto_numeric\u001b[0m\u001b[0;34m(\u001b[0m\u001b[0mdados\u001b[0m\u001b[0;34m[\u001b[0m\u001b[0;34m'cobrancas_total'\u001b[0m\u001b[0;34m]\u001b[0m\u001b[0;34m)\u001b[0m\u001b[0;34m\u001b[0m\u001b[0;34m\u001b[0m\u001b[0m\n\u001b[0m\u001b[1;32m      2\u001b[0m \u001b[0mdados\u001b[0m\u001b[0;34m[\u001b[0m\u001b[0;34m'cobrancas_total'\u001b[0m\u001b[0;34m]\u001b[0m\u001b[0;34m.\u001b[0m\u001b[0mdtype\u001b[0m\u001b[0;34m(\u001b[0m\u001b[0;34m)\u001b[0m\u001b[0;34m\u001b[0m\u001b[0;34m\u001b[0m\u001b[0m\n",
            "\u001b[0;32m/usr/local/lib/python3.7/dist-packages/pandas/core/tools/numeric.py\u001b[0m in \u001b[0;36mto_numeric\u001b[0;34m(arg, errors, downcast)\u001b[0m\n\u001b[1;32m    182\u001b[0m         \u001b[0;32mtry\u001b[0m\u001b[0;34m:\u001b[0m\u001b[0;34m\u001b[0m\u001b[0;34m\u001b[0m\u001b[0m\n\u001b[1;32m    183\u001b[0m             values, _ = lib.maybe_convert_numeric(\n\u001b[0;32m--> 184\u001b[0;31m                 \u001b[0mvalues\u001b[0m\u001b[0;34m,\u001b[0m \u001b[0mset\u001b[0m\u001b[0;34m(\u001b[0m\u001b[0;34m)\u001b[0m\u001b[0;34m,\u001b[0m \u001b[0mcoerce_numeric\u001b[0m\u001b[0;34m=\u001b[0m\u001b[0mcoerce_numeric\u001b[0m\u001b[0;34m\u001b[0m\u001b[0;34m\u001b[0m\u001b[0m\n\u001b[0m\u001b[1;32m    185\u001b[0m             )\n\u001b[1;32m    186\u001b[0m         \u001b[0;32mexcept\u001b[0m \u001b[0;34m(\u001b[0m\u001b[0mValueError\u001b[0m\u001b[0;34m,\u001b[0m \u001b[0mTypeError\u001b[0m\u001b[0;34m)\u001b[0m\u001b[0;34m:\u001b[0m\u001b[0;34m\u001b[0m\u001b[0;34m\u001b[0m\u001b[0m\n",
            "\u001b[0;32m/usr/local/lib/python3.7/dist-packages/pandas/_libs/lib.pyx\u001b[0m in \u001b[0;36mpandas._libs.lib.maybe_convert_numeric\u001b[0;34m()\u001b[0m\n",
            "\u001b[0;31mValueError\u001b[0m: Unable to parse string \" \" at position 945"
          ]
        }
      ]
    },
    {
      "cell_type": "markdown",
      "source": [
        "Existe um espaço na posição 975. Este será retirado para a transformação em numérico"
      ],
      "metadata": {
        "id": "dZZpytNQX2gS"
      }
    },
    {
      "cell_type": "code",
      "source": [
        "dados['cobrancas_total'] = dados['cobrancas_total'].apply(lambda x: x.strip())"
      ],
      "metadata": {
        "id": "C9eGr5G1J3Zv"
      },
      "execution_count": 281,
      "outputs": []
    },
    {
      "cell_type": "code",
      "source": [
        "dados['cobrancas_total'] = pd.to_numeric(dados['cobrancas_total'])"
      ],
      "metadata": {
        "id": "FikIGMvs0_C-"
      },
      "execution_count": 282,
      "outputs": []
    },
    {
      "cell_type": "code",
      "source": [
        "dados.info()"
      ],
      "metadata": {
        "id": "KaZ6nUyII4kY",
        "colab": {
          "base_uri": "https://localhost:8080/"
        },
        "outputId": "92ede0f3-b34e-4c50-a595-1dbeb48b14f5"
      },
      "execution_count": 283,
      "outputs": [
        {
          "output_type": "stream",
          "name": "stdout",
          "text": [
            "<class 'pandas.core.frame.DataFrame'>\n",
            "RangeIndex: 7043 entries, 0 to 7042\n",
            "Data columns (total 22 columns):\n",
            " #   Column                Non-Null Count  Dtype  \n",
            "---  ------                --------------  -----  \n",
            " 0   index                 7043 non-null   int64  \n",
            " 1   id_cliente            7043 non-null   object \n",
            " 2   churn                 7043 non-null   object \n",
            " 3   genero                7043 non-null   object \n",
            " 4   idoso                 7043 non-null   int64  \n",
            " 5   parceirx              7043 non-null   int64  \n",
            " 6   dependentes           7043 non-null   int64  \n",
            " 7   tempo_permanencia     7043 non-null   int64  \n",
            " 8   servico_telefone      7043 non-null   int64  \n",
            " 9   multiplas_linhas      7043 non-null   object \n",
            " 10  servico_internet      7043 non-null   object \n",
            " 11  seguranca_online      7043 non-null   object \n",
            " 12  backup_online         7043 non-null   object \n",
            " 13  protecao_dispositivo  7043 non-null   object \n",
            " 14  suporte_tecnico       7043 non-null   object \n",
            " 15  assinatura_tv         7043 non-null   object \n",
            " 16  assinatura_filmes     7043 non-null   object \n",
            " 17  contrato              7043 non-null   object \n",
            " 18  fatura_digital        7043 non-null   object \n",
            " 19  metodo_pagamento      7043 non-null   object \n",
            " 20  mensalidade           7043 non-null   float64\n",
            " 21  cobrancas_total       7032 non-null   float64\n",
            "dtypes: float64(2), int64(6), object(14)\n",
            "memory usage: 1.2+ MB\n"
          ]
        }
      ]
    },
    {
      "cell_type": "markdown",
      "source": [
        "Ainda existem os valores nulos (aqueles com \" \") a serem tratados nessa coluna"
      ],
      "metadata": {
        "id": "CG8lX75XYDyH"
      }
    },
    {
      "cell_type": "code",
      "source": [
        "dados.loc[dados['cobrancas_total'].isna()]"
      ],
      "metadata": {
        "colab": {
          "base_uri": "https://localhost:8080/",
          "height": 540
        },
        "id": "p5Usjm611OSF",
        "outputId": "78a5a1fe-ce7a-4c74-8722-20af3a5ad4e6"
      },
      "execution_count": 284,
      "outputs": [
        {
          "output_type": "execute_result",
          "data": {
            "text/plain": [
              "      index  id_cliente churn     genero  idoso  parceirx  dependentes  \\\n",
              "945     975  1371-DWPAZ   Não   Feminino      0         1            1   \n",
              "1731   1775  2520-SGTTA   Não   Feminino      0         1            1   \n",
              "1906   1955  2775-SEFEE   Não  Masculino      0         0            1   \n",
              "2025   2075  2923-ARZLG   Não  Masculino      0         1            1   \n",
              "2176   2232  3115-CZMZD   Não  Masculino      0         0            1   \n",
              "2250   2308  3213-VVOLG   Não  Masculino      0         1            1   \n",
              "2855   2930  4075-WKNIU   Não   Feminino      0         1            1   \n",
              "3052   3134  4367-NUYAO   Não  Masculino      0         1            1   \n",
              "3118   3203  4472-LVYGI   Não   Feminino      0         1            1   \n",
              "4054   4169  5709-LVOEQ   Não   Feminino      0         1            1   \n",
              "5433   5599  7644-OMVMY   Não  Masculino      0         1            1   \n",
              "\n",
              "      tempo_permanencia  servico_telefone multiplas_linhas  ... backup_online  \\\n",
              "945                   0                 0     Sem telefone  ...           Sim   \n",
              "1731                  0                 1              Não  ...  Sem internet   \n",
              "1906                  0                 1              Sim  ...           Sim   \n",
              "2025                  0                 1              Não  ...  Sem internet   \n",
              "2176                  0                 1              Não  ...  Sem internet   \n",
              "2250                  0                 1              Sim  ...  Sem internet   \n",
              "2855                  0                 1              Sim  ...           Sim   \n",
              "3052                  0                 1              Sim  ...  Sem internet   \n",
              "3118                  0                 0     Sem telefone  ...           Não   \n",
              "4054                  0                 1              Não  ...           Sim   \n",
              "5433                  0                 1              Não  ...  Sem internet   \n",
              "\n",
              "     protecao_dispositivo suporte_tecnico assinatura_tv assinatura_filmes  \\\n",
              "945                   Sim             Sim           Sim               Não   \n",
              "1731         Sem internet    Sem internet  Sem internet      Sem internet   \n",
              "1906                  Não             Sim           Não               Não   \n",
              "2025         Sem internet    Sem internet  Sem internet      Sem internet   \n",
              "2176         Sem internet    Sem internet  Sem internet      Sem internet   \n",
              "2250         Sem internet    Sem internet  Sem internet      Sem internet   \n",
              "2855                  Sim             Sim           Sim               Não   \n",
              "3052         Sem internet    Sem internet  Sem internet      Sem internet   \n",
              "3118                  Sim             Sim           Sim               Não   \n",
              "4054                  Sim             Não           Sim               Sim   \n",
              "5433         Sem internet    Sem internet  Sem internet      Sem internet   \n",
              "\n",
              "     contrato fatura_digital                     metodo_pagamento mensalidade  \\\n",
              "945   Bianual            Não       cartão de crédito (automático)       56.05   \n",
              "1731  Bianual            Não                               Cheque       20.00   \n",
              "1906  Bianual            Sim  transferência bancária (automático)       61.90   \n",
              "2025    Anual            Sim                               Cheque       19.70   \n",
              "2176  Bianual            Não                               Cheque       20.25   \n",
              "2250  Bianual            Não                               Cheque       25.35   \n",
              "2855  Bianual            Não                               Cheque       73.35   \n",
              "3052  Bianual            Não                               Cheque       25.75   \n",
              "3118  Bianual            Sim  transferência bancária (automático)       52.55   \n",
              "4054  Bianual            Não                               Cheque       80.85   \n",
              "5433  Bianual            Não                               Cheque       19.85   \n",
              "\n",
              "     cobrancas_total  \n",
              "945              NaN  \n",
              "1731             NaN  \n",
              "1906             NaN  \n",
              "2025             NaN  \n",
              "2176             NaN  \n",
              "2250             NaN  \n",
              "2855             NaN  \n",
              "3052             NaN  \n",
              "3118             NaN  \n",
              "4054             NaN  \n",
              "5433             NaN  \n",
              "\n",
              "[11 rows x 22 columns]"
            ],
            "text/html": [
              "\n",
              "  <div id=\"df-19b7d3b0-4d5a-4221-ae87-b040f3e9b588\">\n",
              "    <div class=\"colab-df-container\">\n",
              "      <div>\n",
              "<style scoped>\n",
              "    .dataframe tbody tr th:only-of-type {\n",
              "        vertical-align: middle;\n",
              "    }\n",
              "\n",
              "    .dataframe tbody tr th {\n",
              "        vertical-align: top;\n",
              "    }\n",
              "\n",
              "    .dataframe thead th {\n",
              "        text-align: right;\n",
              "    }\n",
              "</style>\n",
              "<table border=\"1\" class=\"dataframe\">\n",
              "  <thead>\n",
              "    <tr style=\"text-align: right;\">\n",
              "      <th></th>\n",
              "      <th>index</th>\n",
              "      <th>id_cliente</th>\n",
              "      <th>churn</th>\n",
              "      <th>genero</th>\n",
              "      <th>idoso</th>\n",
              "      <th>parceirx</th>\n",
              "      <th>dependentes</th>\n",
              "      <th>tempo_permanencia</th>\n",
              "      <th>servico_telefone</th>\n",
              "      <th>multiplas_linhas</th>\n",
              "      <th>...</th>\n",
              "      <th>backup_online</th>\n",
              "      <th>protecao_dispositivo</th>\n",
              "      <th>suporte_tecnico</th>\n",
              "      <th>assinatura_tv</th>\n",
              "      <th>assinatura_filmes</th>\n",
              "      <th>contrato</th>\n",
              "      <th>fatura_digital</th>\n",
              "      <th>metodo_pagamento</th>\n",
              "      <th>mensalidade</th>\n",
              "      <th>cobrancas_total</th>\n",
              "    </tr>\n",
              "  </thead>\n",
              "  <tbody>\n",
              "    <tr>\n",
              "      <th>945</th>\n",
              "      <td>975</td>\n",
              "      <td>1371-DWPAZ</td>\n",
              "      <td>Não</td>\n",
              "      <td>Feminino</td>\n",
              "      <td>0</td>\n",
              "      <td>1</td>\n",
              "      <td>1</td>\n",
              "      <td>0</td>\n",
              "      <td>0</td>\n",
              "      <td>Sem telefone</td>\n",
              "      <td>...</td>\n",
              "      <td>Sim</td>\n",
              "      <td>Sim</td>\n",
              "      <td>Sim</td>\n",
              "      <td>Sim</td>\n",
              "      <td>Não</td>\n",
              "      <td>Bianual</td>\n",
              "      <td>Não</td>\n",
              "      <td>cartão de crédito (automático)</td>\n",
              "      <td>56.05</td>\n",
              "      <td>NaN</td>\n",
              "    </tr>\n",
              "    <tr>\n",
              "      <th>1731</th>\n",
              "      <td>1775</td>\n",
              "      <td>2520-SGTTA</td>\n",
              "      <td>Não</td>\n",
              "      <td>Feminino</td>\n",
              "      <td>0</td>\n",
              "      <td>1</td>\n",
              "      <td>1</td>\n",
              "      <td>0</td>\n",
              "      <td>1</td>\n",
              "      <td>Não</td>\n",
              "      <td>...</td>\n",
              "      <td>Sem internet</td>\n",
              "      <td>Sem internet</td>\n",
              "      <td>Sem internet</td>\n",
              "      <td>Sem internet</td>\n",
              "      <td>Sem internet</td>\n",
              "      <td>Bianual</td>\n",
              "      <td>Não</td>\n",
              "      <td>Cheque</td>\n",
              "      <td>20.00</td>\n",
              "      <td>NaN</td>\n",
              "    </tr>\n",
              "    <tr>\n",
              "      <th>1906</th>\n",
              "      <td>1955</td>\n",
              "      <td>2775-SEFEE</td>\n",
              "      <td>Não</td>\n",
              "      <td>Masculino</td>\n",
              "      <td>0</td>\n",
              "      <td>0</td>\n",
              "      <td>1</td>\n",
              "      <td>0</td>\n",
              "      <td>1</td>\n",
              "      <td>Sim</td>\n",
              "      <td>...</td>\n",
              "      <td>Sim</td>\n",
              "      <td>Não</td>\n",
              "      <td>Sim</td>\n",
              "      <td>Não</td>\n",
              "      <td>Não</td>\n",
              "      <td>Bianual</td>\n",
              "      <td>Sim</td>\n",
              "      <td>transferência bancária (automático)</td>\n",
              "      <td>61.90</td>\n",
              "      <td>NaN</td>\n",
              "    </tr>\n",
              "    <tr>\n",
              "      <th>2025</th>\n",
              "      <td>2075</td>\n",
              "      <td>2923-ARZLG</td>\n",
              "      <td>Não</td>\n",
              "      <td>Masculino</td>\n",
              "      <td>0</td>\n",
              "      <td>1</td>\n",
              "      <td>1</td>\n",
              "      <td>0</td>\n",
              "      <td>1</td>\n",
              "      <td>Não</td>\n",
              "      <td>...</td>\n",
              "      <td>Sem internet</td>\n",
              "      <td>Sem internet</td>\n",
              "      <td>Sem internet</td>\n",
              "      <td>Sem internet</td>\n",
              "      <td>Sem internet</td>\n",
              "      <td>Anual</td>\n",
              "      <td>Sim</td>\n",
              "      <td>Cheque</td>\n",
              "      <td>19.70</td>\n",
              "      <td>NaN</td>\n",
              "    </tr>\n",
              "    <tr>\n",
              "      <th>2176</th>\n",
              "      <td>2232</td>\n",
              "      <td>3115-CZMZD</td>\n",
              "      <td>Não</td>\n",
              "      <td>Masculino</td>\n",
              "      <td>0</td>\n",
              "      <td>0</td>\n",
              "      <td>1</td>\n",
              "      <td>0</td>\n",
              "      <td>1</td>\n",
              "      <td>Não</td>\n",
              "      <td>...</td>\n",
              "      <td>Sem internet</td>\n",
              "      <td>Sem internet</td>\n",
              "      <td>Sem internet</td>\n",
              "      <td>Sem internet</td>\n",
              "      <td>Sem internet</td>\n",
              "      <td>Bianual</td>\n",
              "      <td>Não</td>\n",
              "      <td>Cheque</td>\n",
              "      <td>20.25</td>\n",
              "      <td>NaN</td>\n",
              "    </tr>\n",
              "    <tr>\n",
              "      <th>2250</th>\n",
              "      <td>2308</td>\n",
              "      <td>3213-VVOLG</td>\n",
              "      <td>Não</td>\n",
              "      <td>Masculino</td>\n",
              "      <td>0</td>\n",
              "      <td>1</td>\n",
              "      <td>1</td>\n",
              "      <td>0</td>\n",
              "      <td>1</td>\n",
              "      <td>Sim</td>\n",
              "      <td>...</td>\n",
              "      <td>Sem internet</td>\n",
              "      <td>Sem internet</td>\n",
              "      <td>Sem internet</td>\n",
              "      <td>Sem internet</td>\n",
              "      <td>Sem internet</td>\n",
              "      <td>Bianual</td>\n",
              "      <td>Não</td>\n",
              "      <td>Cheque</td>\n",
              "      <td>25.35</td>\n",
              "      <td>NaN</td>\n",
              "    </tr>\n",
              "    <tr>\n",
              "      <th>2855</th>\n",
              "      <td>2930</td>\n",
              "      <td>4075-WKNIU</td>\n",
              "      <td>Não</td>\n",
              "      <td>Feminino</td>\n",
              "      <td>0</td>\n",
              "      <td>1</td>\n",
              "      <td>1</td>\n",
              "      <td>0</td>\n",
              "      <td>1</td>\n",
              "      <td>Sim</td>\n",
              "      <td>...</td>\n",
              "      <td>Sim</td>\n",
              "      <td>Sim</td>\n",
              "      <td>Sim</td>\n",
              "      <td>Sim</td>\n",
              "      <td>Não</td>\n",
              "      <td>Bianual</td>\n",
              "      <td>Não</td>\n",
              "      <td>Cheque</td>\n",
              "      <td>73.35</td>\n",
              "      <td>NaN</td>\n",
              "    </tr>\n",
              "    <tr>\n",
              "      <th>3052</th>\n",
              "      <td>3134</td>\n",
              "      <td>4367-NUYAO</td>\n",
              "      <td>Não</td>\n",
              "      <td>Masculino</td>\n",
              "      <td>0</td>\n",
              "      <td>1</td>\n",
              "      <td>1</td>\n",
              "      <td>0</td>\n",
              "      <td>1</td>\n",
              "      <td>Sim</td>\n",
              "      <td>...</td>\n",
              "      <td>Sem internet</td>\n",
              "      <td>Sem internet</td>\n",
              "      <td>Sem internet</td>\n",
              "      <td>Sem internet</td>\n",
              "      <td>Sem internet</td>\n",
              "      <td>Bianual</td>\n",
              "      <td>Não</td>\n",
              "      <td>Cheque</td>\n",
              "      <td>25.75</td>\n",
              "      <td>NaN</td>\n",
              "    </tr>\n",
              "    <tr>\n",
              "      <th>3118</th>\n",
              "      <td>3203</td>\n",
              "      <td>4472-LVYGI</td>\n",
              "      <td>Não</td>\n",
              "      <td>Feminino</td>\n",
              "      <td>0</td>\n",
              "      <td>1</td>\n",
              "      <td>1</td>\n",
              "      <td>0</td>\n",
              "      <td>0</td>\n",
              "      <td>Sem telefone</td>\n",
              "      <td>...</td>\n",
              "      <td>Não</td>\n",
              "      <td>Sim</td>\n",
              "      <td>Sim</td>\n",
              "      <td>Sim</td>\n",
              "      <td>Não</td>\n",
              "      <td>Bianual</td>\n",
              "      <td>Sim</td>\n",
              "      <td>transferência bancária (automático)</td>\n",
              "      <td>52.55</td>\n",
              "      <td>NaN</td>\n",
              "    </tr>\n",
              "    <tr>\n",
              "      <th>4054</th>\n",
              "      <td>4169</td>\n",
              "      <td>5709-LVOEQ</td>\n",
              "      <td>Não</td>\n",
              "      <td>Feminino</td>\n",
              "      <td>0</td>\n",
              "      <td>1</td>\n",
              "      <td>1</td>\n",
              "      <td>0</td>\n",
              "      <td>1</td>\n",
              "      <td>Não</td>\n",
              "      <td>...</td>\n",
              "      <td>Sim</td>\n",
              "      <td>Sim</td>\n",
              "      <td>Não</td>\n",
              "      <td>Sim</td>\n",
              "      <td>Sim</td>\n",
              "      <td>Bianual</td>\n",
              "      <td>Não</td>\n",
              "      <td>Cheque</td>\n",
              "      <td>80.85</td>\n",
              "      <td>NaN</td>\n",
              "    </tr>\n",
              "    <tr>\n",
              "      <th>5433</th>\n",
              "      <td>5599</td>\n",
              "      <td>7644-OMVMY</td>\n",
              "      <td>Não</td>\n",
              "      <td>Masculino</td>\n",
              "      <td>0</td>\n",
              "      <td>1</td>\n",
              "      <td>1</td>\n",
              "      <td>0</td>\n",
              "      <td>1</td>\n",
              "      <td>Não</td>\n",
              "      <td>...</td>\n",
              "      <td>Sem internet</td>\n",
              "      <td>Sem internet</td>\n",
              "      <td>Sem internet</td>\n",
              "      <td>Sem internet</td>\n",
              "      <td>Sem internet</td>\n",
              "      <td>Bianual</td>\n",
              "      <td>Não</td>\n",
              "      <td>Cheque</td>\n",
              "      <td>19.85</td>\n",
              "      <td>NaN</td>\n",
              "    </tr>\n",
              "  </tbody>\n",
              "</table>\n",
              "<p>11 rows × 22 columns</p>\n",
              "</div>\n",
              "      <button class=\"colab-df-convert\" onclick=\"convertToInteractive('df-19b7d3b0-4d5a-4221-ae87-b040f3e9b588')\"\n",
              "              title=\"Convert this dataframe to an interactive table.\"\n",
              "              style=\"display:none;\">\n",
              "        \n",
              "  <svg xmlns=\"http://www.w3.org/2000/svg\" height=\"24px\"viewBox=\"0 0 24 24\"\n",
              "       width=\"24px\">\n",
              "    <path d=\"M0 0h24v24H0V0z\" fill=\"none\"/>\n",
              "    <path d=\"M18.56 5.44l.94 2.06.94-2.06 2.06-.94-2.06-.94-.94-2.06-.94 2.06-2.06.94zm-11 1L8.5 8.5l.94-2.06 2.06-.94-2.06-.94L8.5 2.5l-.94 2.06-2.06.94zm10 10l.94 2.06.94-2.06 2.06-.94-2.06-.94-.94-2.06-.94 2.06-2.06.94z\"/><path d=\"M17.41 7.96l-1.37-1.37c-.4-.4-.92-.59-1.43-.59-.52 0-1.04.2-1.43.59L10.3 9.45l-7.72 7.72c-.78.78-.78 2.05 0 2.83L4 21.41c.39.39.9.59 1.41.59.51 0 1.02-.2 1.41-.59l7.78-7.78 2.81-2.81c.8-.78.8-2.07 0-2.86zM5.41 20L4 18.59l7.72-7.72 1.47 1.35L5.41 20z\"/>\n",
              "  </svg>\n",
              "      </button>\n",
              "      \n",
              "  <style>\n",
              "    .colab-df-container {\n",
              "      display:flex;\n",
              "      flex-wrap:wrap;\n",
              "      gap: 12px;\n",
              "    }\n",
              "\n",
              "    .colab-df-convert {\n",
              "      background-color: #E8F0FE;\n",
              "      border: none;\n",
              "      border-radius: 50%;\n",
              "      cursor: pointer;\n",
              "      display: none;\n",
              "      fill: #1967D2;\n",
              "      height: 32px;\n",
              "      padding: 0 0 0 0;\n",
              "      width: 32px;\n",
              "    }\n",
              "\n",
              "    .colab-df-convert:hover {\n",
              "      background-color: #E2EBFA;\n",
              "      box-shadow: 0px 1px 2px rgba(60, 64, 67, 0.3), 0px 1px 3px 1px rgba(60, 64, 67, 0.15);\n",
              "      fill: #174EA6;\n",
              "    }\n",
              "\n",
              "    [theme=dark] .colab-df-convert {\n",
              "      background-color: #3B4455;\n",
              "      fill: #D2E3FC;\n",
              "    }\n",
              "\n",
              "    [theme=dark] .colab-df-convert:hover {\n",
              "      background-color: #434B5C;\n",
              "      box-shadow: 0px 1px 3px 1px rgba(0, 0, 0, 0.15);\n",
              "      filter: drop-shadow(0px 1px 2px rgba(0, 0, 0, 0.3));\n",
              "      fill: #FFFFFF;\n",
              "    }\n",
              "  </style>\n",
              "\n",
              "      <script>\n",
              "        const buttonEl =\n",
              "          document.querySelector('#df-19b7d3b0-4d5a-4221-ae87-b040f3e9b588 button.colab-df-convert');\n",
              "        buttonEl.style.display =\n",
              "          google.colab.kernel.accessAllowed ? 'block' : 'none';\n",
              "\n",
              "        async function convertToInteractive(key) {\n",
              "          const element = document.querySelector('#df-19b7d3b0-4d5a-4221-ae87-b040f3e9b588');\n",
              "          const dataTable =\n",
              "            await google.colab.kernel.invokeFunction('convertToInteractive',\n",
              "                                                     [key], {});\n",
              "          if (!dataTable) return;\n",
              "\n",
              "          const docLinkHtml = 'Like what you see? Visit the ' +\n",
              "            '<a target=\"_blank\" href=https://colab.research.google.com/notebooks/data_table.ipynb>data table notebook</a>'\n",
              "            + ' to learn more about interactive tables.';\n",
              "          element.innerHTML = '';\n",
              "          dataTable['output_type'] = 'display_data';\n",
              "          await google.colab.output.renderOutput(dataTable, element);\n",
              "          const docLink = document.createElement('div');\n",
              "          docLink.innerHTML = docLinkHtml;\n",
              "          element.appendChild(docLink);\n",
              "        }\n",
              "      </script>\n",
              "    </div>\n",
              "  </div>\n",
              "  "
            ]
          },
          "metadata": {},
          "execution_count": 284
        }
      ]
    },
    {
      "cell_type": "code",
      "source": [
        "dados.loc[dados['tempo_permanencia'] == 0].shape"
      ],
      "metadata": {
        "colab": {
          "base_uri": "https://localhost:8080/"
        },
        "id": "9a_e1iu51y7B",
        "outputId": "13483f6b-4127-41cc-c5a5-724649b1d573"
      },
      "execution_count": 285,
      "outputs": [
        {
          "output_type": "execute_result",
          "data": {
            "text/plain": [
              "(11, 22)"
            ]
          },
          "metadata": {},
          "execution_count": 285
        }
      ]
    },
    {
      "cell_type": "code",
      "source": [
        "dados.loc[dados['cobrancas_total'] == 0]"
      ],
      "metadata": {
        "colab": {
          "base_uri": "https://localhost:8080/",
          "height": 143
        },
        "id": "zi6RR8uaspNM",
        "outputId": "c0e14677-8d87-4378-816a-2957cc4765cc"
      },
      "execution_count": 286,
      "outputs": [
        {
          "output_type": "execute_result",
          "data": {
            "text/plain": [
              "Empty DataFrame\n",
              "Columns: [index, id_cliente, churn, genero, idoso, parceirx, dependentes, tempo_permanencia, servico_telefone, multiplas_linhas, servico_internet, seguranca_online, backup_online, protecao_dispositivo, suporte_tecnico, assinatura_tv, assinatura_filmes, contrato, fatura_digital, metodo_pagamento, mensalidade, cobrancas_total]\n",
              "Index: []\n",
              "\n",
              "[0 rows x 22 columns]"
            ],
            "text/html": [
              "\n",
              "  <div id=\"df-e5cc6781-b544-43a0-b13f-cf0872b6fe06\">\n",
              "    <div class=\"colab-df-container\">\n",
              "      <div>\n",
              "<style scoped>\n",
              "    .dataframe tbody tr th:only-of-type {\n",
              "        vertical-align: middle;\n",
              "    }\n",
              "\n",
              "    .dataframe tbody tr th {\n",
              "        vertical-align: top;\n",
              "    }\n",
              "\n",
              "    .dataframe thead th {\n",
              "        text-align: right;\n",
              "    }\n",
              "</style>\n",
              "<table border=\"1\" class=\"dataframe\">\n",
              "  <thead>\n",
              "    <tr style=\"text-align: right;\">\n",
              "      <th></th>\n",
              "      <th>index</th>\n",
              "      <th>id_cliente</th>\n",
              "      <th>churn</th>\n",
              "      <th>genero</th>\n",
              "      <th>idoso</th>\n",
              "      <th>parceirx</th>\n",
              "      <th>dependentes</th>\n",
              "      <th>tempo_permanencia</th>\n",
              "      <th>servico_telefone</th>\n",
              "      <th>multiplas_linhas</th>\n",
              "      <th>...</th>\n",
              "      <th>backup_online</th>\n",
              "      <th>protecao_dispositivo</th>\n",
              "      <th>suporte_tecnico</th>\n",
              "      <th>assinatura_tv</th>\n",
              "      <th>assinatura_filmes</th>\n",
              "      <th>contrato</th>\n",
              "      <th>fatura_digital</th>\n",
              "      <th>metodo_pagamento</th>\n",
              "      <th>mensalidade</th>\n",
              "      <th>cobrancas_total</th>\n",
              "    </tr>\n",
              "  </thead>\n",
              "  <tbody>\n",
              "  </tbody>\n",
              "</table>\n",
              "<p>0 rows × 22 columns</p>\n",
              "</div>\n",
              "      <button class=\"colab-df-convert\" onclick=\"convertToInteractive('df-e5cc6781-b544-43a0-b13f-cf0872b6fe06')\"\n",
              "              title=\"Convert this dataframe to an interactive table.\"\n",
              "              style=\"display:none;\">\n",
              "        \n",
              "  <svg xmlns=\"http://www.w3.org/2000/svg\" height=\"24px\"viewBox=\"0 0 24 24\"\n",
              "       width=\"24px\">\n",
              "    <path d=\"M0 0h24v24H0V0z\" fill=\"none\"/>\n",
              "    <path d=\"M18.56 5.44l.94 2.06.94-2.06 2.06-.94-2.06-.94-.94-2.06-.94 2.06-2.06.94zm-11 1L8.5 8.5l.94-2.06 2.06-.94-2.06-.94L8.5 2.5l-.94 2.06-2.06.94zm10 10l.94 2.06.94-2.06 2.06-.94-2.06-.94-.94-2.06-.94 2.06-2.06.94z\"/><path d=\"M17.41 7.96l-1.37-1.37c-.4-.4-.92-.59-1.43-.59-.52 0-1.04.2-1.43.59L10.3 9.45l-7.72 7.72c-.78.78-.78 2.05 0 2.83L4 21.41c.39.39.9.59 1.41.59.51 0 1.02-.2 1.41-.59l7.78-7.78 2.81-2.81c.8-.78.8-2.07 0-2.86zM5.41 20L4 18.59l7.72-7.72 1.47 1.35L5.41 20z\"/>\n",
              "  </svg>\n",
              "      </button>\n",
              "      \n",
              "  <style>\n",
              "    .colab-df-container {\n",
              "      display:flex;\n",
              "      flex-wrap:wrap;\n",
              "      gap: 12px;\n",
              "    }\n",
              "\n",
              "    .colab-df-convert {\n",
              "      background-color: #E8F0FE;\n",
              "      border: none;\n",
              "      border-radius: 50%;\n",
              "      cursor: pointer;\n",
              "      display: none;\n",
              "      fill: #1967D2;\n",
              "      height: 32px;\n",
              "      padding: 0 0 0 0;\n",
              "      width: 32px;\n",
              "    }\n",
              "\n",
              "    .colab-df-convert:hover {\n",
              "      background-color: #E2EBFA;\n",
              "      box-shadow: 0px 1px 2px rgba(60, 64, 67, 0.3), 0px 1px 3px 1px rgba(60, 64, 67, 0.15);\n",
              "      fill: #174EA6;\n",
              "    }\n",
              "\n",
              "    [theme=dark] .colab-df-convert {\n",
              "      background-color: #3B4455;\n",
              "      fill: #D2E3FC;\n",
              "    }\n",
              "\n",
              "    [theme=dark] .colab-df-convert:hover {\n",
              "      background-color: #434B5C;\n",
              "      box-shadow: 0px 1px 3px 1px rgba(0, 0, 0, 0.15);\n",
              "      filter: drop-shadow(0px 1px 2px rgba(0, 0, 0, 0.3));\n",
              "      fill: #FFFFFF;\n",
              "    }\n",
              "  </style>\n",
              "\n",
              "      <script>\n",
              "        const buttonEl =\n",
              "          document.querySelector('#df-e5cc6781-b544-43a0-b13f-cf0872b6fe06 button.colab-df-convert');\n",
              "        buttonEl.style.display =\n",
              "          google.colab.kernel.accessAllowed ? 'block' : 'none';\n",
              "\n",
              "        async function convertToInteractive(key) {\n",
              "          const element = document.querySelector('#df-e5cc6781-b544-43a0-b13f-cf0872b6fe06');\n",
              "          const dataTable =\n",
              "            await google.colab.kernel.invokeFunction('convertToInteractive',\n",
              "                                                     [key], {});\n",
              "          if (!dataTable) return;\n",
              "\n",
              "          const docLinkHtml = 'Like what you see? Visit the ' +\n",
              "            '<a target=\"_blank\" href=https://colab.research.google.com/notebooks/data_table.ipynb>data table notebook</a>'\n",
              "            + ' to learn more about interactive tables.';\n",
              "          element.innerHTML = '';\n",
              "          dataTable['output_type'] = 'display_data';\n",
              "          await google.colab.output.renderOutput(dataTable, element);\n",
              "          const docLink = document.createElement('div');\n",
              "          docLink.innerHTML = docLinkHtml;\n",
              "          element.appendChild(docLink);\n",
              "        }\n",
              "      </script>\n",
              "    </div>\n",
              "  </div>\n",
              "  "
            ]
          },
          "metadata": {},
          "execution_count": 286
        }
      ]
    },
    {
      "cell_type": "code",
      "source": [
        "(dados.loc[dados['tempo_permanencia'] == 1, 'mensalidade'] == dados.loc[dados['tempo_permanencia'] == 1, 'cobrancas_total']).mean()"
      ],
      "metadata": {
        "colab": {
          "base_uri": "https://localhost:8080/"
        },
        "id": "9CRxisSAKVfU",
        "outputId": "bb4375ae-1056-4006-e8ed-5e8b51293456"
      },
      "execution_count": 287,
      "outputs": [
        {
          "output_type": "execute_result",
          "data": {
            "text/plain": [
              "1.0"
            ]
          },
          "metadata": {},
          "execution_count": 287
        }
      ]
    },
    {
      "cell_type": "markdown",
      "source": [
        "* Nota-se que os valores na coluna cobrancas_total estão nulos quando tempo_permanencia = 0, ou seja, visto que o cliente ainda não tem 1 mês de contrato para considerar no gasto total dele.\n",
        "* Vamos preencher os vazios com o valor zero visto que quando tempo_permanencia = 1, as cobrancas_total são iguais ao valor da mensalidade"
      ],
      "metadata": {
        "id": "kEBZeLUj2BMO"
      }
    },
    {
      "cell_type": "code",
      "source": [
        "indices = dados.loc[dados['tempo_permanencia'] == 0].index\n",
        "indices"
      ],
      "metadata": {
        "colab": {
          "base_uri": "https://localhost:8080/"
        },
        "id": "UxgtjWCZdK_T",
        "outputId": "d2f96e8a-f7ec-4f06-d129-4177e750afaa"
      },
      "execution_count": 288,
      "outputs": [
        {
          "output_type": "execute_result",
          "data": {
            "text/plain": [
              "Int64Index([945, 1731, 1906, 2025, 2176, 2250, 2855, 3052, 3118, 4054, 5433], dtype='int64')"
            ]
          },
          "metadata": {},
          "execution_count": 288
        }
      ]
    },
    {
      "cell_type": "code",
      "source": [
        "dados.loc[indices, 'cobrancas_total'] = 0\n",
        "dados.loc[indices, ['tempo_permanencia', 'cobrancas_total', 'mensalidade']]"
      ],
      "metadata": {
        "colab": {
          "base_uri": "https://localhost:8080/",
          "height": 394
        },
        "id": "TkOlhT91dseA",
        "outputId": "2d56b8e1-a8c6-4eaa-cd58-b8631289527e"
      },
      "execution_count": 289,
      "outputs": [
        {
          "output_type": "execute_result",
          "data": {
            "text/plain": [
              "      tempo_permanencia  cobrancas_total  mensalidade\n",
              "945                   0              0.0        56.05\n",
              "1731                  0              0.0        20.00\n",
              "1906                  0              0.0        61.90\n",
              "2025                  0              0.0        19.70\n",
              "2176                  0              0.0        20.25\n",
              "2250                  0              0.0        25.35\n",
              "2855                  0              0.0        73.35\n",
              "3052                  0              0.0        25.75\n",
              "3118                  0              0.0        52.55\n",
              "4054                  0              0.0        80.85\n",
              "5433                  0              0.0        19.85"
            ],
            "text/html": [
              "\n",
              "  <div id=\"df-470c4cfd-dac0-463d-a121-a81ea0f2adcf\">\n",
              "    <div class=\"colab-df-container\">\n",
              "      <div>\n",
              "<style scoped>\n",
              "    .dataframe tbody tr th:only-of-type {\n",
              "        vertical-align: middle;\n",
              "    }\n",
              "\n",
              "    .dataframe tbody tr th {\n",
              "        vertical-align: top;\n",
              "    }\n",
              "\n",
              "    .dataframe thead th {\n",
              "        text-align: right;\n",
              "    }\n",
              "</style>\n",
              "<table border=\"1\" class=\"dataframe\">\n",
              "  <thead>\n",
              "    <tr style=\"text-align: right;\">\n",
              "      <th></th>\n",
              "      <th>tempo_permanencia</th>\n",
              "      <th>cobrancas_total</th>\n",
              "      <th>mensalidade</th>\n",
              "    </tr>\n",
              "  </thead>\n",
              "  <tbody>\n",
              "    <tr>\n",
              "      <th>945</th>\n",
              "      <td>0</td>\n",
              "      <td>0.0</td>\n",
              "      <td>56.05</td>\n",
              "    </tr>\n",
              "    <tr>\n",
              "      <th>1731</th>\n",
              "      <td>0</td>\n",
              "      <td>0.0</td>\n",
              "      <td>20.00</td>\n",
              "    </tr>\n",
              "    <tr>\n",
              "      <th>1906</th>\n",
              "      <td>0</td>\n",
              "      <td>0.0</td>\n",
              "      <td>61.90</td>\n",
              "    </tr>\n",
              "    <tr>\n",
              "      <th>2025</th>\n",
              "      <td>0</td>\n",
              "      <td>0.0</td>\n",
              "      <td>19.70</td>\n",
              "    </tr>\n",
              "    <tr>\n",
              "      <th>2176</th>\n",
              "      <td>0</td>\n",
              "      <td>0.0</td>\n",
              "      <td>20.25</td>\n",
              "    </tr>\n",
              "    <tr>\n",
              "      <th>2250</th>\n",
              "      <td>0</td>\n",
              "      <td>0.0</td>\n",
              "      <td>25.35</td>\n",
              "    </tr>\n",
              "    <tr>\n",
              "      <th>2855</th>\n",
              "      <td>0</td>\n",
              "      <td>0.0</td>\n",
              "      <td>73.35</td>\n",
              "    </tr>\n",
              "    <tr>\n",
              "      <th>3052</th>\n",
              "      <td>0</td>\n",
              "      <td>0.0</td>\n",
              "      <td>25.75</td>\n",
              "    </tr>\n",
              "    <tr>\n",
              "      <th>3118</th>\n",
              "      <td>0</td>\n",
              "      <td>0.0</td>\n",
              "      <td>52.55</td>\n",
              "    </tr>\n",
              "    <tr>\n",
              "      <th>4054</th>\n",
              "      <td>0</td>\n",
              "      <td>0.0</td>\n",
              "      <td>80.85</td>\n",
              "    </tr>\n",
              "    <tr>\n",
              "      <th>5433</th>\n",
              "      <td>0</td>\n",
              "      <td>0.0</td>\n",
              "      <td>19.85</td>\n",
              "    </tr>\n",
              "  </tbody>\n",
              "</table>\n",
              "</div>\n",
              "      <button class=\"colab-df-convert\" onclick=\"convertToInteractive('df-470c4cfd-dac0-463d-a121-a81ea0f2adcf')\"\n",
              "              title=\"Convert this dataframe to an interactive table.\"\n",
              "              style=\"display:none;\">\n",
              "        \n",
              "  <svg xmlns=\"http://www.w3.org/2000/svg\" height=\"24px\"viewBox=\"0 0 24 24\"\n",
              "       width=\"24px\">\n",
              "    <path d=\"M0 0h24v24H0V0z\" fill=\"none\"/>\n",
              "    <path d=\"M18.56 5.44l.94 2.06.94-2.06 2.06-.94-2.06-.94-.94-2.06-.94 2.06-2.06.94zm-11 1L8.5 8.5l.94-2.06 2.06-.94-2.06-.94L8.5 2.5l-.94 2.06-2.06.94zm10 10l.94 2.06.94-2.06 2.06-.94-2.06-.94-.94-2.06-.94 2.06-2.06.94z\"/><path d=\"M17.41 7.96l-1.37-1.37c-.4-.4-.92-.59-1.43-.59-.52 0-1.04.2-1.43.59L10.3 9.45l-7.72 7.72c-.78.78-.78 2.05 0 2.83L4 21.41c.39.39.9.59 1.41.59.51 0 1.02-.2 1.41-.59l7.78-7.78 2.81-2.81c.8-.78.8-2.07 0-2.86zM5.41 20L4 18.59l7.72-7.72 1.47 1.35L5.41 20z\"/>\n",
              "  </svg>\n",
              "      </button>\n",
              "      \n",
              "  <style>\n",
              "    .colab-df-container {\n",
              "      display:flex;\n",
              "      flex-wrap:wrap;\n",
              "      gap: 12px;\n",
              "    }\n",
              "\n",
              "    .colab-df-convert {\n",
              "      background-color: #E8F0FE;\n",
              "      border: none;\n",
              "      border-radius: 50%;\n",
              "      cursor: pointer;\n",
              "      display: none;\n",
              "      fill: #1967D2;\n",
              "      height: 32px;\n",
              "      padding: 0 0 0 0;\n",
              "      width: 32px;\n",
              "    }\n",
              "\n",
              "    .colab-df-convert:hover {\n",
              "      background-color: #E2EBFA;\n",
              "      box-shadow: 0px 1px 2px rgba(60, 64, 67, 0.3), 0px 1px 3px 1px rgba(60, 64, 67, 0.15);\n",
              "      fill: #174EA6;\n",
              "    }\n",
              "\n",
              "    [theme=dark] .colab-df-convert {\n",
              "      background-color: #3B4455;\n",
              "      fill: #D2E3FC;\n",
              "    }\n",
              "\n",
              "    [theme=dark] .colab-df-convert:hover {\n",
              "      background-color: #434B5C;\n",
              "      box-shadow: 0px 1px 3px 1px rgba(0, 0, 0, 0.15);\n",
              "      filter: drop-shadow(0px 1px 2px rgba(0, 0, 0, 0.3));\n",
              "      fill: #FFFFFF;\n",
              "    }\n",
              "  </style>\n",
              "\n",
              "      <script>\n",
              "        const buttonEl =\n",
              "          document.querySelector('#df-470c4cfd-dac0-463d-a121-a81ea0f2adcf button.colab-df-convert');\n",
              "        buttonEl.style.display =\n",
              "          google.colab.kernel.accessAllowed ? 'block' : 'none';\n",
              "\n",
              "        async function convertToInteractive(key) {\n",
              "          const element = document.querySelector('#df-470c4cfd-dac0-463d-a121-a81ea0f2adcf');\n",
              "          const dataTable =\n",
              "            await google.colab.kernel.invokeFunction('convertToInteractive',\n",
              "                                                     [key], {});\n",
              "          if (!dataTable) return;\n",
              "\n",
              "          const docLinkHtml = 'Like what you see? Visit the ' +\n",
              "            '<a target=\"_blank\" href=https://colab.research.google.com/notebooks/data_table.ipynb>data table notebook</a>'\n",
              "            + ' to learn more about interactive tables.';\n",
              "          element.innerHTML = '';\n",
              "          dataTable['output_type'] = 'display_data';\n",
              "          await google.colab.output.renderOutput(dataTable, element);\n",
              "          const docLink = document.createElement('div');\n",
              "          docLink.innerHTML = docLinkHtml;\n",
              "          element.appendChild(docLink);\n",
              "        }\n",
              "      </script>\n",
              "    </div>\n",
              "  </div>\n",
              "  "
            ]
          },
          "metadata": {},
          "execution_count": 289
        }
      ]
    },
    {
      "cell_type": "markdown",
      "source": [
        "#### Observando se há diferença entre a coluna cobranças_total e mensalidade * tempo_permanencia"
      ],
      "metadata": {
        "id": "h6wbZXnBsBq4"
      }
    },
    {
      "cell_type": "code",
      "source": [
        "dados['verificacao_cobrancas_total'] = dados.mensalidade * dados.tempo_permanencia\n",
        "dados['dif_cobrancas_total'] = dados.cobrancas_total - dados['verificacao_cobrancas_total']\n",
        "dados.head()"
      ],
      "metadata": {
        "colab": {
          "base_uri": "https://localhost:8080/",
          "height": 299
        },
        "id": "I1g52q6osDGz",
        "outputId": "4629636c-51da-42d3-d9c2-0487c57d69f2"
      },
      "execution_count": 290,
      "outputs": [
        {
          "output_type": "execute_result",
          "data": {
            "text/plain": [
              "   index  id_cliente churn     genero  idoso  parceirx  dependentes  \\\n",
              "0      0  0002-ORFBO   Não   Feminino      0         1            1   \n",
              "1      1  0003-MKNFE   Não  Masculino      0         0            0   \n",
              "2      2  0004-TLHLJ   Sim  Masculino      0         0            0   \n",
              "3      3  0011-IGKFF   Sim  Masculino      1         1            0   \n",
              "4      4  0013-EXCHZ   Sim   Feminino      1         1            0   \n",
              "\n",
              "   tempo_permanencia  servico_telefone multiplas_linhas  ... suporte_tecnico  \\\n",
              "0                  9                 1              Não  ...             Sim   \n",
              "1                  9                 1              Sim  ...             Não   \n",
              "2                  4                 1              Não  ...             Não   \n",
              "3                 13                 1              Não  ...             Não   \n",
              "4                  3                 1              Não  ...             Sim   \n",
              "\n",
              "  assinatura_tv assinatura_filmes contrato fatura_digital   metodo_pagamento  \\\n",
              "0           Sim               Não    Anual            Sim             Cheque   \n",
              "1           Não               Sim   Mensal            Não             Cheque   \n",
              "2           Não               Não   Mensal            Sim  Cheque Eletrônico   \n",
              "3           Sim               Sim   Mensal            Sim  Cheque Eletrônico   \n",
              "4           Sim               Não   Mensal            Sim             Cheque   \n",
              "\n",
              "  mensalidade cobrancas_total verificacao_cobrancas_total dif_cobrancas_total  \n",
              "0        65.6          593.30                       590.4                2.90  \n",
              "1        59.9          542.40                       539.1                3.30  \n",
              "2        73.9          280.85                       295.6              -14.75  \n",
              "3        98.0         1237.85                      1274.0              -36.15  \n",
              "4        83.9          267.40                       251.7               15.70  \n",
              "\n",
              "[5 rows x 24 columns]"
            ],
            "text/html": [
              "\n",
              "  <div id=\"df-cfedd609-83f1-41c0-93cf-695680f0c424\">\n",
              "    <div class=\"colab-df-container\">\n",
              "      <div>\n",
              "<style scoped>\n",
              "    .dataframe tbody tr th:only-of-type {\n",
              "        vertical-align: middle;\n",
              "    }\n",
              "\n",
              "    .dataframe tbody tr th {\n",
              "        vertical-align: top;\n",
              "    }\n",
              "\n",
              "    .dataframe thead th {\n",
              "        text-align: right;\n",
              "    }\n",
              "</style>\n",
              "<table border=\"1\" class=\"dataframe\">\n",
              "  <thead>\n",
              "    <tr style=\"text-align: right;\">\n",
              "      <th></th>\n",
              "      <th>index</th>\n",
              "      <th>id_cliente</th>\n",
              "      <th>churn</th>\n",
              "      <th>genero</th>\n",
              "      <th>idoso</th>\n",
              "      <th>parceirx</th>\n",
              "      <th>dependentes</th>\n",
              "      <th>tempo_permanencia</th>\n",
              "      <th>servico_telefone</th>\n",
              "      <th>multiplas_linhas</th>\n",
              "      <th>...</th>\n",
              "      <th>suporte_tecnico</th>\n",
              "      <th>assinatura_tv</th>\n",
              "      <th>assinatura_filmes</th>\n",
              "      <th>contrato</th>\n",
              "      <th>fatura_digital</th>\n",
              "      <th>metodo_pagamento</th>\n",
              "      <th>mensalidade</th>\n",
              "      <th>cobrancas_total</th>\n",
              "      <th>verificacao_cobrancas_total</th>\n",
              "      <th>dif_cobrancas_total</th>\n",
              "    </tr>\n",
              "  </thead>\n",
              "  <tbody>\n",
              "    <tr>\n",
              "      <th>0</th>\n",
              "      <td>0</td>\n",
              "      <td>0002-ORFBO</td>\n",
              "      <td>Não</td>\n",
              "      <td>Feminino</td>\n",
              "      <td>0</td>\n",
              "      <td>1</td>\n",
              "      <td>1</td>\n",
              "      <td>9</td>\n",
              "      <td>1</td>\n",
              "      <td>Não</td>\n",
              "      <td>...</td>\n",
              "      <td>Sim</td>\n",
              "      <td>Sim</td>\n",
              "      <td>Não</td>\n",
              "      <td>Anual</td>\n",
              "      <td>Sim</td>\n",
              "      <td>Cheque</td>\n",
              "      <td>65.6</td>\n",
              "      <td>593.30</td>\n",
              "      <td>590.4</td>\n",
              "      <td>2.90</td>\n",
              "    </tr>\n",
              "    <tr>\n",
              "      <th>1</th>\n",
              "      <td>1</td>\n",
              "      <td>0003-MKNFE</td>\n",
              "      <td>Não</td>\n",
              "      <td>Masculino</td>\n",
              "      <td>0</td>\n",
              "      <td>0</td>\n",
              "      <td>0</td>\n",
              "      <td>9</td>\n",
              "      <td>1</td>\n",
              "      <td>Sim</td>\n",
              "      <td>...</td>\n",
              "      <td>Não</td>\n",
              "      <td>Não</td>\n",
              "      <td>Sim</td>\n",
              "      <td>Mensal</td>\n",
              "      <td>Não</td>\n",
              "      <td>Cheque</td>\n",
              "      <td>59.9</td>\n",
              "      <td>542.40</td>\n",
              "      <td>539.1</td>\n",
              "      <td>3.30</td>\n",
              "    </tr>\n",
              "    <tr>\n",
              "      <th>2</th>\n",
              "      <td>2</td>\n",
              "      <td>0004-TLHLJ</td>\n",
              "      <td>Sim</td>\n",
              "      <td>Masculino</td>\n",
              "      <td>0</td>\n",
              "      <td>0</td>\n",
              "      <td>0</td>\n",
              "      <td>4</td>\n",
              "      <td>1</td>\n",
              "      <td>Não</td>\n",
              "      <td>...</td>\n",
              "      <td>Não</td>\n",
              "      <td>Não</td>\n",
              "      <td>Não</td>\n",
              "      <td>Mensal</td>\n",
              "      <td>Sim</td>\n",
              "      <td>Cheque Eletrônico</td>\n",
              "      <td>73.9</td>\n",
              "      <td>280.85</td>\n",
              "      <td>295.6</td>\n",
              "      <td>-14.75</td>\n",
              "    </tr>\n",
              "    <tr>\n",
              "      <th>3</th>\n",
              "      <td>3</td>\n",
              "      <td>0011-IGKFF</td>\n",
              "      <td>Sim</td>\n",
              "      <td>Masculino</td>\n",
              "      <td>1</td>\n",
              "      <td>1</td>\n",
              "      <td>0</td>\n",
              "      <td>13</td>\n",
              "      <td>1</td>\n",
              "      <td>Não</td>\n",
              "      <td>...</td>\n",
              "      <td>Não</td>\n",
              "      <td>Sim</td>\n",
              "      <td>Sim</td>\n",
              "      <td>Mensal</td>\n",
              "      <td>Sim</td>\n",
              "      <td>Cheque Eletrônico</td>\n",
              "      <td>98.0</td>\n",
              "      <td>1237.85</td>\n",
              "      <td>1274.0</td>\n",
              "      <td>-36.15</td>\n",
              "    </tr>\n",
              "    <tr>\n",
              "      <th>4</th>\n",
              "      <td>4</td>\n",
              "      <td>0013-EXCHZ</td>\n",
              "      <td>Sim</td>\n",
              "      <td>Feminino</td>\n",
              "      <td>1</td>\n",
              "      <td>1</td>\n",
              "      <td>0</td>\n",
              "      <td>3</td>\n",
              "      <td>1</td>\n",
              "      <td>Não</td>\n",
              "      <td>...</td>\n",
              "      <td>Sim</td>\n",
              "      <td>Sim</td>\n",
              "      <td>Não</td>\n",
              "      <td>Mensal</td>\n",
              "      <td>Sim</td>\n",
              "      <td>Cheque</td>\n",
              "      <td>83.9</td>\n",
              "      <td>267.40</td>\n",
              "      <td>251.7</td>\n",
              "      <td>15.70</td>\n",
              "    </tr>\n",
              "  </tbody>\n",
              "</table>\n",
              "<p>5 rows × 24 columns</p>\n",
              "</div>\n",
              "      <button class=\"colab-df-convert\" onclick=\"convertToInteractive('df-cfedd609-83f1-41c0-93cf-695680f0c424')\"\n",
              "              title=\"Convert this dataframe to an interactive table.\"\n",
              "              style=\"display:none;\">\n",
              "        \n",
              "  <svg xmlns=\"http://www.w3.org/2000/svg\" height=\"24px\"viewBox=\"0 0 24 24\"\n",
              "       width=\"24px\">\n",
              "    <path d=\"M0 0h24v24H0V0z\" fill=\"none\"/>\n",
              "    <path d=\"M18.56 5.44l.94 2.06.94-2.06 2.06-.94-2.06-.94-.94-2.06-.94 2.06-2.06.94zm-11 1L8.5 8.5l.94-2.06 2.06-.94-2.06-.94L8.5 2.5l-.94 2.06-2.06.94zm10 10l.94 2.06.94-2.06 2.06-.94-2.06-.94-.94-2.06-.94 2.06-2.06.94z\"/><path d=\"M17.41 7.96l-1.37-1.37c-.4-.4-.92-.59-1.43-.59-.52 0-1.04.2-1.43.59L10.3 9.45l-7.72 7.72c-.78.78-.78 2.05 0 2.83L4 21.41c.39.39.9.59 1.41.59.51 0 1.02-.2 1.41-.59l7.78-7.78 2.81-2.81c.8-.78.8-2.07 0-2.86zM5.41 20L4 18.59l7.72-7.72 1.47 1.35L5.41 20z\"/>\n",
              "  </svg>\n",
              "      </button>\n",
              "      \n",
              "  <style>\n",
              "    .colab-df-container {\n",
              "      display:flex;\n",
              "      flex-wrap:wrap;\n",
              "      gap: 12px;\n",
              "    }\n",
              "\n",
              "    .colab-df-convert {\n",
              "      background-color: #E8F0FE;\n",
              "      border: none;\n",
              "      border-radius: 50%;\n",
              "      cursor: pointer;\n",
              "      display: none;\n",
              "      fill: #1967D2;\n",
              "      height: 32px;\n",
              "      padding: 0 0 0 0;\n",
              "      width: 32px;\n",
              "    }\n",
              "\n",
              "    .colab-df-convert:hover {\n",
              "      background-color: #E2EBFA;\n",
              "      box-shadow: 0px 1px 2px rgba(60, 64, 67, 0.3), 0px 1px 3px 1px rgba(60, 64, 67, 0.15);\n",
              "      fill: #174EA6;\n",
              "    }\n",
              "\n",
              "    [theme=dark] .colab-df-convert {\n",
              "      background-color: #3B4455;\n",
              "      fill: #D2E3FC;\n",
              "    }\n",
              "\n",
              "    [theme=dark] .colab-df-convert:hover {\n",
              "      background-color: #434B5C;\n",
              "      box-shadow: 0px 1px 3px 1px rgba(0, 0, 0, 0.15);\n",
              "      filter: drop-shadow(0px 1px 2px rgba(0, 0, 0, 0.3));\n",
              "      fill: #FFFFFF;\n",
              "    }\n",
              "  </style>\n",
              "\n",
              "      <script>\n",
              "        const buttonEl =\n",
              "          document.querySelector('#df-cfedd609-83f1-41c0-93cf-695680f0c424 button.colab-df-convert');\n",
              "        buttonEl.style.display =\n",
              "          google.colab.kernel.accessAllowed ? 'block' : 'none';\n",
              "\n",
              "        async function convertToInteractive(key) {\n",
              "          const element = document.querySelector('#df-cfedd609-83f1-41c0-93cf-695680f0c424');\n",
              "          const dataTable =\n",
              "            await google.colab.kernel.invokeFunction('convertToInteractive',\n",
              "                                                     [key], {});\n",
              "          if (!dataTable) return;\n",
              "\n",
              "          const docLinkHtml = 'Like what you see? Visit the ' +\n",
              "            '<a target=\"_blank\" href=https://colab.research.google.com/notebooks/data_table.ipynb>data table notebook</a>'\n",
              "            + ' to learn more about interactive tables.';\n",
              "          element.innerHTML = '';\n",
              "          dataTable['output_type'] = 'display_data';\n",
              "          await google.colab.output.renderOutput(dataTable, element);\n",
              "          const docLink = document.createElement('div');\n",
              "          docLink.innerHTML = docLinkHtml;\n",
              "          element.appendChild(docLink);\n",
              "        }\n",
              "      </script>\n",
              "    </div>\n",
              "  </div>\n",
              "  "
            ]
          },
          "metadata": {},
          "execution_count": 290
        }
      ]
    },
    {
      "cell_type": "code",
      "source": [
        "dados.dif_cobrancas_total.value_counts()"
      ],
      "metadata": {
        "colab": {
          "base_uri": "https://localhost:8080/"
        },
        "id": "1tHfdokhULLw",
        "outputId": "ad6bf613-988f-4a11-be55-e988859e80dc"
      },
      "execution_count": 291,
      "outputs": [
        {
          "output_type": "execute_result",
          "data": {
            "text/plain": [
              " 0.00      625\n",
              " 3.25        7\n",
              "-3.00        6\n",
              "-7.25        6\n",
              "-1.00        6\n",
              "          ... \n",
              "-127.30      1\n",
              "-64.25       1\n",
              " 83.60       1\n",
              "-52.25       1\n",
              "-9.40        1\n",
              "Name: dif_cobrancas_total, Length: 5310, dtype: int64"
            ]
          },
          "metadata": {},
          "execution_count": 291
        }
      ]
    },
    {
      "cell_type": "markdown",
      "source": [
        "Nota-se uma diferença dos valores de cobrancas_total para a multiplicação da mensalidade pelo tempo_permanencia. Isso pode ser devido a alguma mudança no valor mensalidade, que poderia estar relacionada a uma assinatura a mais ou menos\n",
        "\n",
        "* Quando essa diferença é negativa, isso significa que o cliente tem um pacote mensal atual mais caro que tinha antes, provavelmente pq assinou mais serviços.\n",
        "* No caso da diferença ser negativa, o cliente diminuiu a quantidade de serviços assinados ou teve seu valor de mensalidade reduzido devido alguma promoção.\n",
        "* Quando não há diferença, a mensalidade se manteve igual ou houve aumento e redução (ou vice-versa) na mensalidade de forma a manter a média da mensalidade a mesma da atual."
      ],
      "metadata": {
        "id": "j5Fi7zH1UIM4"
      }
    },
    {
      "cell_type": "markdown",
      "source": [
        "### Criando a coluna de cobrança diária"
      ],
      "metadata": {
        "id": "FToWlHZ_rcti"
      }
    },
    {
      "cell_type": "code",
      "source": [
        "dados['diaria'] = round(dados.mensalidade.divide(30), 2)\n",
        "dados.head()"
      ],
      "metadata": {
        "id": "YfGXn0mjrfW1",
        "colab": {
          "base_uri": "https://localhost:8080/",
          "height": 299
        },
        "outputId": "a8fab870-f343-432f-a255-0454929fc2f3"
      },
      "execution_count": 292,
      "outputs": [
        {
          "output_type": "execute_result",
          "data": {
            "text/plain": [
              "   index  id_cliente churn     genero  idoso  parceirx  dependentes  \\\n",
              "0      0  0002-ORFBO   Não   Feminino      0         1            1   \n",
              "1      1  0003-MKNFE   Não  Masculino      0         0            0   \n",
              "2      2  0004-TLHLJ   Sim  Masculino      0         0            0   \n",
              "3      3  0011-IGKFF   Sim  Masculino      1         1            0   \n",
              "4      4  0013-EXCHZ   Sim   Feminino      1         1            0   \n",
              "\n",
              "   tempo_permanencia  servico_telefone multiplas_linhas  ... assinatura_tv  \\\n",
              "0                  9                 1              Não  ...           Sim   \n",
              "1                  9                 1              Sim  ...           Não   \n",
              "2                  4                 1              Não  ...           Não   \n",
              "3                 13                 1              Não  ...           Sim   \n",
              "4                  3                 1              Não  ...           Sim   \n",
              "\n",
              "  assinatura_filmes contrato fatura_digital   metodo_pagamento mensalidade  \\\n",
              "0               Não    Anual            Sim             Cheque        65.6   \n",
              "1               Sim   Mensal            Não             Cheque        59.9   \n",
              "2               Não   Mensal            Sim  Cheque Eletrônico        73.9   \n",
              "3               Sim   Mensal            Sim  Cheque Eletrônico        98.0   \n",
              "4               Não   Mensal            Sim             Cheque        83.9   \n",
              "\n",
              "  cobrancas_total verificacao_cobrancas_total dif_cobrancas_total diaria  \n",
              "0          593.30                       590.4                2.90   2.19  \n",
              "1          542.40                       539.1                3.30   2.00  \n",
              "2          280.85                       295.6              -14.75   2.46  \n",
              "3         1237.85                      1274.0              -36.15   3.27  \n",
              "4          267.40                       251.7               15.70   2.80  \n",
              "\n",
              "[5 rows x 25 columns]"
            ],
            "text/html": [
              "\n",
              "  <div id=\"df-acf3c0e1-2681-4f6a-94db-3f93281fb752\">\n",
              "    <div class=\"colab-df-container\">\n",
              "      <div>\n",
              "<style scoped>\n",
              "    .dataframe tbody tr th:only-of-type {\n",
              "        vertical-align: middle;\n",
              "    }\n",
              "\n",
              "    .dataframe tbody tr th {\n",
              "        vertical-align: top;\n",
              "    }\n",
              "\n",
              "    .dataframe thead th {\n",
              "        text-align: right;\n",
              "    }\n",
              "</style>\n",
              "<table border=\"1\" class=\"dataframe\">\n",
              "  <thead>\n",
              "    <tr style=\"text-align: right;\">\n",
              "      <th></th>\n",
              "      <th>index</th>\n",
              "      <th>id_cliente</th>\n",
              "      <th>churn</th>\n",
              "      <th>genero</th>\n",
              "      <th>idoso</th>\n",
              "      <th>parceirx</th>\n",
              "      <th>dependentes</th>\n",
              "      <th>tempo_permanencia</th>\n",
              "      <th>servico_telefone</th>\n",
              "      <th>multiplas_linhas</th>\n",
              "      <th>...</th>\n",
              "      <th>assinatura_tv</th>\n",
              "      <th>assinatura_filmes</th>\n",
              "      <th>contrato</th>\n",
              "      <th>fatura_digital</th>\n",
              "      <th>metodo_pagamento</th>\n",
              "      <th>mensalidade</th>\n",
              "      <th>cobrancas_total</th>\n",
              "      <th>verificacao_cobrancas_total</th>\n",
              "      <th>dif_cobrancas_total</th>\n",
              "      <th>diaria</th>\n",
              "    </tr>\n",
              "  </thead>\n",
              "  <tbody>\n",
              "    <tr>\n",
              "      <th>0</th>\n",
              "      <td>0</td>\n",
              "      <td>0002-ORFBO</td>\n",
              "      <td>Não</td>\n",
              "      <td>Feminino</td>\n",
              "      <td>0</td>\n",
              "      <td>1</td>\n",
              "      <td>1</td>\n",
              "      <td>9</td>\n",
              "      <td>1</td>\n",
              "      <td>Não</td>\n",
              "      <td>...</td>\n",
              "      <td>Sim</td>\n",
              "      <td>Não</td>\n",
              "      <td>Anual</td>\n",
              "      <td>Sim</td>\n",
              "      <td>Cheque</td>\n",
              "      <td>65.6</td>\n",
              "      <td>593.30</td>\n",
              "      <td>590.4</td>\n",
              "      <td>2.90</td>\n",
              "      <td>2.19</td>\n",
              "    </tr>\n",
              "    <tr>\n",
              "      <th>1</th>\n",
              "      <td>1</td>\n",
              "      <td>0003-MKNFE</td>\n",
              "      <td>Não</td>\n",
              "      <td>Masculino</td>\n",
              "      <td>0</td>\n",
              "      <td>0</td>\n",
              "      <td>0</td>\n",
              "      <td>9</td>\n",
              "      <td>1</td>\n",
              "      <td>Sim</td>\n",
              "      <td>...</td>\n",
              "      <td>Não</td>\n",
              "      <td>Sim</td>\n",
              "      <td>Mensal</td>\n",
              "      <td>Não</td>\n",
              "      <td>Cheque</td>\n",
              "      <td>59.9</td>\n",
              "      <td>542.40</td>\n",
              "      <td>539.1</td>\n",
              "      <td>3.30</td>\n",
              "      <td>2.00</td>\n",
              "    </tr>\n",
              "    <tr>\n",
              "      <th>2</th>\n",
              "      <td>2</td>\n",
              "      <td>0004-TLHLJ</td>\n",
              "      <td>Sim</td>\n",
              "      <td>Masculino</td>\n",
              "      <td>0</td>\n",
              "      <td>0</td>\n",
              "      <td>0</td>\n",
              "      <td>4</td>\n",
              "      <td>1</td>\n",
              "      <td>Não</td>\n",
              "      <td>...</td>\n",
              "      <td>Não</td>\n",
              "      <td>Não</td>\n",
              "      <td>Mensal</td>\n",
              "      <td>Sim</td>\n",
              "      <td>Cheque Eletrônico</td>\n",
              "      <td>73.9</td>\n",
              "      <td>280.85</td>\n",
              "      <td>295.6</td>\n",
              "      <td>-14.75</td>\n",
              "      <td>2.46</td>\n",
              "    </tr>\n",
              "    <tr>\n",
              "      <th>3</th>\n",
              "      <td>3</td>\n",
              "      <td>0011-IGKFF</td>\n",
              "      <td>Sim</td>\n",
              "      <td>Masculino</td>\n",
              "      <td>1</td>\n",
              "      <td>1</td>\n",
              "      <td>0</td>\n",
              "      <td>13</td>\n",
              "      <td>1</td>\n",
              "      <td>Não</td>\n",
              "      <td>...</td>\n",
              "      <td>Sim</td>\n",
              "      <td>Sim</td>\n",
              "      <td>Mensal</td>\n",
              "      <td>Sim</td>\n",
              "      <td>Cheque Eletrônico</td>\n",
              "      <td>98.0</td>\n",
              "      <td>1237.85</td>\n",
              "      <td>1274.0</td>\n",
              "      <td>-36.15</td>\n",
              "      <td>3.27</td>\n",
              "    </tr>\n",
              "    <tr>\n",
              "      <th>4</th>\n",
              "      <td>4</td>\n",
              "      <td>0013-EXCHZ</td>\n",
              "      <td>Sim</td>\n",
              "      <td>Feminino</td>\n",
              "      <td>1</td>\n",
              "      <td>1</td>\n",
              "      <td>0</td>\n",
              "      <td>3</td>\n",
              "      <td>1</td>\n",
              "      <td>Não</td>\n",
              "      <td>...</td>\n",
              "      <td>Sim</td>\n",
              "      <td>Não</td>\n",
              "      <td>Mensal</td>\n",
              "      <td>Sim</td>\n",
              "      <td>Cheque</td>\n",
              "      <td>83.9</td>\n",
              "      <td>267.40</td>\n",
              "      <td>251.7</td>\n",
              "      <td>15.70</td>\n",
              "      <td>2.80</td>\n",
              "    </tr>\n",
              "  </tbody>\n",
              "</table>\n",
              "<p>5 rows × 25 columns</p>\n",
              "</div>\n",
              "      <button class=\"colab-df-convert\" onclick=\"convertToInteractive('df-acf3c0e1-2681-4f6a-94db-3f93281fb752')\"\n",
              "              title=\"Convert this dataframe to an interactive table.\"\n",
              "              style=\"display:none;\">\n",
              "        \n",
              "  <svg xmlns=\"http://www.w3.org/2000/svg\" height=\"24px\"viewBox=\"0 0 24 24\"\n",
              "       width=\"24px\">\n",
              "    <path d=\"M0 0h24v24H0V0z\" fill=\"none\"/>\n",
              "    <path d=\"M18.56 5.44l.94 2.06.94-2.06 2.06-.94-2.06-.94-.94-2.06-.94 2.06-2.06.94zm-11 1L8.5 8.5l.94-2.06 2.06-.94-2.06-.94L8.5 2.5l-.94 2.06-2.06.94zm10 10l.94 2.06.94-2.06 2.06-.94-2.06-.94-.94-2.06-.94 2.06-2.06.94z\"/><path d=\"M17.41 7.96l-1.37-1.37c-.4-.4-.92-.59-1.43-.59-.52 0-1.04.2-1.43.59L10.3 9.45l-7.72 7.72c-.78.78-.78 2.05 0 2.83L4 21.41c.39.39.9.59 1.41.59.51 0 1.02-.2 1.41-.59l7.78-7.78 2.81-2.81c.8-.78.8-2.07 0-2.86zM5.41 20L4 18.59l7.72-7.72 1.47 1.35L5.41 20z\"/>\n",
              "  </svg>\n",
              "      </button>\n",
              "      \n",
              "  <style>\n",
              "    .colab-df-container {\n",
              "      display:flex;\n",
              "      flex-wrap:wrap;\n",
              "      gap: 12px;\n",
              "    }\n",
              "\n",
              "    .colab-df-convert {\n",
              "      background-color: #E8F0FE;\n",
              "      border: none;\n",
              "      border-radius: 50%;\n",
              "      cursor: pointer;\n",
              "      display: none;\n",
              "      fill: #1967D2;\n",
              "      height: 32px;\n",
              "      padding: 0 0 0 0;\n",
              "      width: 32px;\n",
              "    }\n",
              "\n",
              "    .colab-df-convert:hover {\n",
              "      background-color: #E2EBFA;\n",
              "      box-shadow: 0px 1px 2px rgba(60, 64, 67, 0.3), 0px 1px 3px 1px rgba(60, 64, 67, 0.15);\n",
              "      fill: #174EA6;\n",
              "    }\n",
              "\n",
              "    [theme=dark] .colab-df-convert {\n",
              "      background-color: #3B4455;\n",
              "      fill: #D2E3FC;\n",
              "    }\n",
              "\n",
              "    [theme=dark] .colab-df-convert:hover {\n",
              "      background-color: #434B5C;\n",
              "      box-shadow: 0px 1px 3px 1px rgba(0, 0, 0, 0.15);\n",
              "      filter: drop-shadow(0px 1px 2px rgba(0, 0, 0, 0.3));\n",
              "      fill: #FFFFFF;\n",
              "    }\n",
              "  </style>\n",
              "\n",
              "      <script>\n",
              "        const buttonEl =\n",
              "          document.querySelector('#df-acf3c0e1-2681-4f6a-94db-3f93281fb752 button.colab-df-convert');\n",
              "        buttonEl.style.display =\n",
              "          google.colab.kernel.accessAllowed ? 'block' : 'none';\n",
              "\n",
              "        async function convertToInteractive(key) {\n",
              "          const element = document.querySelector('#df-acf3c0e1-2681-4f6a-94db-3f93281fb752');\n",
              "          const dataTable =\n",
              "            await google.colab.kernel.invokeFunction('convertToInteractive',\n",
              "                                                     [key], {});\n",
              "          if (!dataTable) return;\n",
              "\n",
              "          const docLinkHtml = 'Like what you see? Visit the ' +\n",
              "            '<a target=\"_blank\" href=https://colab.research.google.com/notebooks/data_table.ipynb>data table notebook</a>'\n",
              "            + ' to learn more about interactive tables.';\n",
              "          element.innerHTML = '';\n",
              "          dataTable['output_type'] = 'display_data';\n",
              "          await google.colab.output.renderOutput(dataTable, element);\n",
              "          const docLink = document.createElement('div');\n",
              "          docLink.innerHTML = docLinkHtml;\n",
              "          element.appendChild(docLink);\n",
              "        }\n",
              "      </script>\n",
              "    </div>\n",
              "  </div>\n",
              "  "
            ]
          },
          "metadata": {},
          "execution_count": 292
        }
      ]
    },
    {
      "cell_type": "code",
      "source": [
        "dados.info()"
      ],
      "metadata": {
        "id": "LpBIwseRe7Ql",
        "colab": {
          "base_uri": "https://localhost:8080/"
        },
        "outputId": "488e7e1d-c4a6-4627-8913-24149b30d45e"
      },
      "execution_count": 293,
      "outputs": [
        {
          "output_type": "stream",
          "name": "stdout",
          "text": [
            "<class 'pandas.core.frame.DataFrame'>\n",
            "RangeIndex: 7043 entries, 0 to 7042\n",
            "Data columns (total 25 columns):\n",
            " #   Column                       Non-Null Count  Dtype  \n",
            "---  ------                       --------------  -----  \n",
            " 0   index                        7043 non-null   int64  \n",
            " 1   id_cliente                   7043 non-null   object \n",
            " 2   churn                        7043 non-null   object \n",
            " 3   genero                       7043 non-null   object \n",
            " 4   idoso                        7043 non-null   int64  \n",
            " 5   parceirx                     7043 non-null   int64  \n",
            " 6   dependentes                  7043 non-null   int64  \n",
            " 7   tempo_permanencia            7043 non-null   int64  \n",
            " 8   servico_telefone             7043 non-null   int64  \n",
            " 9   multiplas_linhas             7043 non-null   object \n",
            " 10  servico_internet             7043 non-null   object \n",
            " 11  seguranca_online             7043 non-null   object \n",
            " 12  backup_online                7043 non-null   object \n",
            " 13  protecao_dispositivo         7043 non-null   object \n",
            " 14  suporte_tecnico              7043 non-null   object \n",
            " 15  assinatura_tv                7043 non-null   object \n",
            " 16  assinatura_filmes            7043 non-null   object \n",
            " 17  contrato                     7043 non-null   object \n",
            " 18  fatura_digital               7043 non-null   object \n",
            " 19  metodo_pagamento             7043 non-null   object \n",
            " 20  mensalidade                  7043 non-null   float64\n",
            " 21  cobrancas_total              7043 non-null   float64\n",
            " 22  verificacao_cobrancas_total  7043 non-null   float64\n",
            " 23  dif_cobrancas_total          7043 non-null   float64\n",
            " 24  diaria                       7043 non-null   float64\n",
            "dtypes: float64(5), int64(6), object(14)\n",
            "memory usage: 1.3+ MB\n"
          ]
        }
      ]
    },
    {
      "cell_type": "markdown",
      "source": [
        "### Salvando os dados limpos"
      ],
      "metadata": {
        "id": "3aKBQ-78rf7f"
      }
    },
    {
      "cell_type": "code",
      "source": [
        "dados.to_csv('Telco-Customer-Churn.csv', index = False)"
      ],
      "metadata": {
        "id": "NAWXTXG_tj_H"
      },
      "execution_count": 294,
      "outputs": []
    }
  ]
}